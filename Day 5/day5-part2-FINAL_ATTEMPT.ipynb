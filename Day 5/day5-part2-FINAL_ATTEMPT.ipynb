{
 "cells": [
  {
   "attachments": {},
   "cell_type": "markdown",
   "metadata": {},
   "source": [
    "## Day 5, Part 2, Attempt 2"
   ]
  },
  {
   "attachments": {},
   "cell_type": "markdown",
   "metadata": {},
   "source": [
    "No more storing everything in a big old list"
   ]
  },
  {
   "cell_type": "code",
   "execution_count": 1,
   "metadata": {},
   "outputs": [],
   "source": [
    "with open(\"./example.txt\") as f:\n",
    "    example_lines = [line.strip() for line in f.readlines()]\n",
    "\n",
    "with open(\"./input.txt\") as f:\n",
    "    input_lines = [line.strip() for line in f.readlines()]"
   ]
  },
  {
   "cell_type": "code",
   "execution_count": 2,
   "metadata": {},
   "outputs": [],
   "source": [
    "def get_seed_ranges(lines: list[str]) -> list[tuple[int]]:\n",
    "    seeds_input = list(map(int, lines[0].split(\": \")[-1].split()))\n",
    "    seeds_ranges = []\n",
    "    for i in range(0, len(seeds_input), 2):\n",
    "        seeds_ranges.append(\n",
    "            (seeds_input[i], seeds_input[i]+seeds_input[i+1])  # SO DOESN'T INCLUDE CLOSING VALUE i.e. behaves like Python Range\n",
    "        )\n",
    "\n",
    "    return seeds_ranges"
   ]
  },
  {
   "cell_type": "code",
   "execution_count": 31,
   "metadata": {},
   "outputs": [],
   "source": [
    "def get_blocks(lines: list[str]) -> list[list[tuple[int, int, int]]]:\n",
    "    # Ignore labels this time, just break the input up into blocks!\n",
    "    blocks = []\n",
    "    tmp = []\n",
    "    for line in lines[3:]:\n",
    "        if \"map\" in line:\n",
    "            blocks.append(tmp)\n",
    "            tmp = []\n",
    "        elif not line:\n",
    "            continue\n",
    "        else:\n",
    "            destination, source, length = list(map(int, line.split()))\n",
    "            tmp.append(\n",
    "                (destination, source, length)\n",
    "            )\n",
    "    blocks.append(tmp)  # oh my god how was I not adding THE LAST BLOCK????????\n",
    "    \n",
    "    return blocks"
   ]
  },
  {
   "cell_type": "code",
   "execution_count": 40,
   "metadata": {},
   "outputs": [
    {
     "data": {
      "text/plain": [
       "[(60, 56, 37), (56, 93, 4)]"
      ]
     },
     "execution_count": 40,
     "metadata": {},
     "output_type": "execute_result"
    }
   ],
   "source": [
    "get_blocks(example_lines)[-1]  # that's right, we get the last block of mappings now. imagine not doing that"
   ]
  },
  {
   "attachments": {},
   "cell_type": "markdown",
   "metadata": {},
   "source": [
    "Went a bit mad correcting the ranges manually and overthinking it. "
   ]
  },
  {
   "cell_type": "code",
   "execution_count": 44,
   "metadata": {},
   "outputs": [
    {
     "name": "stdout",
     "output_type": "stream",
     "text": [
      "0/7\n",
      "10\n",
      "1/7\n",
      "32\n",
      "2/7\n",
      "57\n",
      "3/7\n",
      "97\n",
      "4/7\n",
      "124\n",
      "5/7\n",
      "185\n",
      "6/7\n",
      "217\n",
      "7/7\n"
     ]
    },
    {
     "data": {
      "text/plain": [
       "69841803"
      ]
     },
     "execution_count": 44,
     "metadata": {},
     "output_type": "execute_result"
    }
   ],
   "source": [
    "def part2(lines: list[str], verbose = True) -> int:\n",
    "    seeds_ranges = get_seed_ranges(lines)\n",
    "    \n",
    "    # Now have a list of the seed ranges in form [(Xs, Xe), (Ys, Ye), ...] where s=start, e=end\n",
    "\n",
    "    # Ignore labels this time, just break the input up into blocks!\n",
    "    blocks = get_blocks(lines)\n",
    "\n",
    "    # Now we have input blocks of the form\n",
    "    # [map1=[(s1,d1,l1), (s2,d2,l2)], map2=[(s1,d1,l2)], ...]\n",
    "    # So we can loop through these one at a time to tackle a mapping at a time.\n",
    "\n",
    "    # Overlap types:\n",
    "    # 1. none left, 2. overlap left, \n",
    "    # 3. overlap left right, 4. contained,\n",
    "    # 5. overlap right, 6. none right\n",
    "    # 7. perfect mapping\n",
    "\n",
    "    for i, mappings in enumerate(blocks):\n",
    "        if verbose: print(f\"{i}/{len(blocks)}\")\n",
    "        if verbose: print(len(seeds_ranges))\n",
    "        new_seeds_ranges = []\n",
    "        while seeds_ranges:\n",
    "            seed = seeds_ranges.pop()\n",
    "            for destination, source, length in mappings:\n",
    "                source_start, source_end = source, source+length - 1\n",
    "                seed_start, seed_end = seed\n",
    "\n",
    "                # 2. OVERLAP LEFT\n",
    "                if source_start < seed_start and seed_start < source_end <= seed_end:\n",
    "                    # so we can map from seed_start to source_end \n",
    "                    # but have to add source_end to seed_end to stack\n",
    "                    seeds_ranges.append(\n",
    "                        (source_end + 1, seed_end)\n",
    "                    )\n",
    "                    source_dest_diff = destination - source_start\n",
    "                    new_seeds_ranges.append(\n",
    "                        (seed_start + source_dest_diff, source_end + source_dest_diff)\n",
    "                    )\n",
    "                    break\n",
    "\n",
    "                # 3. OVERLAP LEFT AND RIGHT\n",
    "                elif source_start < seed_start and source_end > seed_end:\n",
    "                    # seed is fully contained within the mappable range, so we\n",
    "                    # can map it and not worry any further!\n",
    "\n",
    "                    # JUST MAP THE MIDDLE\n",
    "                    source_dest_diff = destination - source_start\n",
    "                    new_seeds_ranges.append(\n",
    "                        (seed_start + source_dest_diff, seed_end + source_dest_diff)\n",
    "                    )\n",
    "                    break\n",
    "\n",
    "                # 4. COMPLETELY CONTAINED\n",
    "                elif source_start >= seed_start and source_end <= seed_end:\n",
    "                    # have to add the unmapped bits to left and right of seed to stack\n",
    "                    seeds_ranges.append(\n",
    "                        (seed_start, source_start - 1)\n",
    "                    )\n",
    "                    seeds_ranges.append(\n",
    "                        (source_end + 1, seed_end)\n",
    "                    )\n",
    "\n",
    "                    # Map what we can of the source\n",
    "                    source_dest_diff = destination - source_start\n",
    "                    new_seeds_ranges.append(\n",
    "                        (source_start + source_dest_diff, source_end + source_dest_diff)\n",
    "                    )\n",
    "                    break\n",
    "\n",
    "                # 5. OVERLAP RIGHT\n",
    "                elif seed_start <= source_start < seed_end and source_end > seed_end:\n",
    "                    # can map from source_start to seed_end, but have to \n",
    "                    # add seed_start to source_start to the stack as it is unmapped\n",
    "                    seeds_ranges.append(\n",
    "                        (seed_start, source_start - 1)\n",
    "                    )\n",
    "                    source_dest_diff = destination - source_start\n",
    "                    new_seeds_ranges.append(\n",
    "                        (source_start + source_dest_diff, seed_end + source_dest_diff)\n",
    "                    )\n",
    "                    break\n",
    "            else:\n",
    "                # if we didn't go into an if/elif in the for loop it goes to else  (never found a mapping -> identity)\n",
    "                new_seeds_ranges.append(seed)\n",
    "        \n",
    "        seeds_ranges = new_seeds_ranges\n",
    "\n",
    "    if verbose: print(f\"{len(blocks)}/{len(blocks)}\")\n",
    "    \n",
    "\n",
    "    # Ok now it's quite dodgy I don't know where the 0s are coming from and why the bottom range is less than top range in some.......... this wasnt the case but not sure what I changed :)\n",
    "    LHSs = [lower_seed for lower_seed, upper_seed in seeds_ranges if lower_seed != 0 and upper_seed > lower_seed]\n",
    "\n",
    "    # Did fix these (0, -1) problems and (y,x) with y>x issues at one point but scrapped it when it still wasn't giving me right answer - so for now I settle for this\n",
    "\n",
    "    return min(LHSs)\n",
    "\n",
    "assert part2(example_lines, verbose=False) == 46\n",
    "part2(input_lines)  # 96937421, 3294143, 3294142, 50007219 is WRONG don't submit it AGAIN   <- lol"
   ]
  },
  {
   "cell_type": "code",
   "execution_count": 46,
   "metadata": {},
   "outputs": [
    {
     "name": "stdout",
     "output_type": "stream",
     "text": [
      "0/7\n",
      "10\n",
      "1/7\n",
      "21\n",
      "2/7\n",
      "33\n",
      "3/7\n",
      "53\n",
      "4/7\n",
      "66\n",
      "5/7\n",
      "97\n",
      "6/7\n",
      "113\n",
      "7/7\n"
     ]
    },
    {
     "data": {
      "text/plain": [
       "69841803"
      ]
     },
     "execution_count": 46,
     "metadata": {},
     "output_type": "execute_result"
    }
   ],
   "source": [
    "def part2_the_pretty_version(lines: list[str], verbose = True) -> int:\n",
    "    seeds_ranges = get_seed_ranges(lines)\n",
    "    # Now have a list of the seed ranges in form [(Xs, Xe), (Ys, Ye), ...] where s=start, e=end+1\n",
    "\n",
    "    blocks = get_blocks(lines)\n",
    "    # Now we have input blocks of the form\n",
    "    # [map1=[(d1,s1,l1), (d2,s2,l2)], map2=[(d1,s1,l2)], ...]\n",
    "    # So we can loop through these one at a time to tackle a mapping at a time.\n",
    "\n",
    "    for i, mappings in enumerate(blocks):\n",
    "        if verbose: print(f\"{i}/{len(blocks)}\")\n",
    "        if verbose: print(len(seeds_ranges))\n",
    "        new_seeds_ranges = []\n",
    "        while seeds_ranges:\n",
    "            seed_start, seed_end = seeds_ranges.pop()\n",
    "            for destination, source, length in mappings:\n",
    "                # print(destination, source, length)\n",
    "                overlap_start = max(seed_start, source)\n",
    "                overlap_end = min(seed_end, source+length)\n",
    "                # this range is non empty iff overlap_start < overlap_end\n",
    "                if overlap_start < overlap_end:\n",
    "                    new_start = overlap_start + (destination - source)\n",
    "                    new_end = overlap_end + (destination - source)\n",
    "                    new_seeds_ranges.append(\n",
    "                        (new_start, new_end)\n",
    "                    )\n",
    "                    # Still now need to consider if we there were bits we didn't map!\n",
    "                    if overlap_start > seed_start:\n",
    "                        seeds_ranges.append(\n",
    "                            (seed_start, overlap_start)\n",
    "                        )\n",
    "                    if overlap_end < seed_end:\n",
    "                        seeds_ranges.append(\n",
    "                            (overlap_end, seed_end)\n",
    "                        )\n",
    "                    break\n",
    "                    # mapped and added to stack -> break!\n",
    "            else:\n",
    "                # No map available, so we do identity map, add to next batch\n",
    "                new_seeds_ranges.append(\n",
    "                    (seed_start, seed_end)\n",
    "                )\n",
    "        seeds_ranges = new_seeds_ranges\n",
    "\n",
    "    if verbose: print(f\"{len(blocks)}/{len(blocks)}\")\n",
    "\n",
    "    # print(sorted(seeds_ranges))\n",
    "    return min(seeds_ranges)[0]\n",
    "\n",
    "assert part2_the_pretty_version(example_lines, verbose=False) == 46\n",
    "part2_the_pretty_version(input_lines)"
   ]
  },
  {
   "cell_type": "code",
   "execution_count": 48,
   "metadata": {},
   "outputs": [
    {
     "name": "stdout",
     "output_type": "stream",
     "text": [
      "free at last\n"
     ]
    }
   ],
   "source": [
    "if part2(input_lines, verbose=False) == part2_the_pretty_version(input_lines, verbose=False):\n",
    "    print(\"free at last\")"
   ]
  },
  {
   "attachments": {},
   "cell_type": "markdown",
   "metadata": {},
   "source": [
    "Yes! So clearly a few problems not solved w the edge cases etc. (although I'm fairly sure I fixed at some point then scrapped!) but I've spent long enough on this now, happy that the lowest 'LEGITIMATE' range was correct.\n",
    "\n",
    "part2_the_pretty_version is an 'inspired' solution (I found it) that was structured similarly to mine and inspired actually fixing it/solving my reading in issue (and gave an answer to aim for!)\n",
    "which was by https://www.youtube.com/watch?v=NmxHw_bHhGM  mr HyperNeutrino, some leaderboard guy."
   ]
  }
 ],
 "metadata": {
  "kernelspec": {
   "display_name": "misc-practice",
   "language": "python",
   "name": "python3"
  },
  "language_info": {
   "codemirror_mode": {
    "name": "ipython",
    "version": 3
   },
   "file_extension": ".py",
   "mimetype": "text/x-python",
   "name": "python",
   "nbconvert_exporter": "python",
   "pygments_lexer": "ipython3",
   "version": "3.11.0"
  },
  "orig_nbformat": 4
 },
 "nbformat": 4,
 "nbformat_minor": 2
}
