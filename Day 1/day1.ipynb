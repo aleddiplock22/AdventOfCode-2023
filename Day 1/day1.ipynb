{
 "cells": [
  {
   "attachments": {},
   "cell_type": "markdown",
   "metadata": {},
   "source": [
    "## Day 1 - first an last number in each string concatenated is the callibration"
   ]
  },
  {
   "attachments": {},
   "cell_type": "markdown",
   "metadata": {},
   "source": [
    "Task 1: Sum all these"
   ]
  },
  {
   "cell_type": "code",
   "execution_count": 6,
   "metadata": {},
   "outputs": [],
   "source": [
    "from typing import List"
   ]
  },
  {
   "cell_type": "code",
   "execution_count": 7,
   "metadata": {},
   "outputs": [],
   "source": [
    "with open(\"./example.txt\") as f:\n",
    "    example_lines = f.readlines()\n",
    "\n",
    "with open(\"./input.txt\") as f:\n",
    "    input_lines = f.readlines()"
   ]
  },
  {
   "cell_type": "code",
   "execution_count": 10,
   "metadata": {},
   "outputs": [
    {
     "data": {
      "text/plain": [
       "55130"
      ]
     },
     "execution_count": 10,
     "metadata": {},
     "output_type": "execute_result"
    }
   ],
   "source": [
    "def task1(input: List[str]) -> int:\n",
    "    numbers = []\n",
    "    for line in input:\n",
    "        for char in line:\n",
    "            try:\n",
    "                first = int(char)\n",
    "                break\n",
    "            except ValueError:\n",
    "                continue\n",
    "        for char in [*line].__reversed__():\n",
    "            try:\n",
    "                last = int(char)\n",
    "                break\n",
    "            except ValueError:\n",
    "                continue\n",
    "        \n",
    "        numbers.append(int(str(first)+str(last)))\n",
    "    \n",
    "    return sum(numbers)\n",
    "    \n",
    "assert task1(example_lines) == 142\n",
    "task1(input_lines)\n"
   ]
  },
  {
   "attachments": {},
   "cell_type": "markdown",
   "metadata": {},
   "source": [
    "Task 2: Same but either input could be spelled out"
   ]
  },
  {
   "cell_type": "code",
   "execution_count": 14,
   "metadata": {},
   "outputs": [],
   "source": [
    "with open(\"./example2.txt\") as f:\n",
    "    example2_lines = f.readlines()"
   ]
  },
  {
   "cell_type": "code",
   "execution_count": 33,
   "metadata": {},
   "outputs": [
    {
     "name": "stdout",
     "output_type": "stream",
     "text": [
      "{'one': '1', 'two': '2', 'three': '3', 'four': '4', 'five': '5', 'six': '6', 'seven': '7', 'eight': '8', 'nine': '9'}\n"
     ]
    }
   ],
   "source": [
    "spelled_numbers = [\"one\", \"two\", \"three\", \"four\", \"five\", \"six\", \"seven\", \"eight\", \"nine\"]\n",
    "spelled_numbers_map = {num:str(i+1) for i, num in enumerate(spelled_numbers)}\n",
    "\n",
    "print(spelled_numbers_map)"
   ]
  },
  {
   "cell_type": "code",
   "execution_count": 48,
   "metadata": {},
   "outputs": [
    {
     "data": {
      "text/plain": [
       "54985"
      ]
     },
     "execution_count": 48,
     "metadata": {},
     "output_type": "execute_result"
    }
   ],
   "source": [
    "def task2(input: List[str]) -> int:\n",
    "    numbers = []\n",
    "    for line in input:\n",
    "        prev_spelled_idx = 100000\n",
    "        # First (yes brute force)\n",
    "        for spelled_num in spelled_numbers:\n",
    "            if (spelled_idx := line.find(spelled_num)) != -1:\n",
    "                if spelled_idx < prev_spelled_idx:\n",
    "                    prev_spelled_idx = spelled_idx\n",
    "                    spelled_number_found = spelled_num\n",
    "\n",
    "        for i, char in enumerate(line):\n",
    "            try:\n",
    "                first_char_found = int(char)\n",
    "                char_idx = i\n",
    "                break\n",
    "            except ValueError:\n",
    "                continue\n",
    "        if char_idx < prev_spelled_idx:\n",
    "            first = str(first_char_found)\n",
    "        else:\n",
    "            first = spelled_numbers_map[spelled_number_found]\n",
    "\n",
    "        # Second (yes more brute force)\n",
    "        prev_spelled_idx = -10000\n",
    "        for spelled_num in spelled_numbers:\n",
    "            if (spelled_idx := line.rfind(spelled_num)) != -1:\n",
    "                if spelled_idx > prev_spelled_idx:\n",
    "                    prev_spelled_idx = spelled_idx\n",
    "                    spelled_number_found = spelled_num\n",
    "                \n",
    "        for char in [*line].__reversed__():\n",
    "            try:\n",
    "                last_char_found = int(char)\n",
    "                break\n",
    "            except ValueError:\n",
    "                continue\n",
    "        last_char_idx = line.rfind(str(last_char_found))\n",
    "        if last_char_idx > prev_spelled_idx:\n",
    "            last = str(last_char_found)\n",
    "        else:\n",
    "            last = spelled_numbers_map[spelled_number_found]\n",
    "\n",
    "        numbers.append(int(first+last))\n",
    "\n",
    "    return sum(numbers)\n",
    "\n",
    "assert task2(example2_lines) == 281\n",
    "task2(input_lines)\n"
   ]
  },
  {
   "cell_type": "code",
   "execution_count": 23,
   "metadata": {},
   "outputs": [
    {
     "data": {
      "text/plain": [
       "['two1nine\\n',\n",
       " 'eightwothree\\n',\n",
       " 'abcone2threexyz\\n',\n",
       " 'xtwone3four\\n',\n",
       " '4nineeightseven2\\n',\n",
       " 'zoneight234\\n',\n",
       " '7pqrstsixteen\\n']"
      ]
     },
     "execution_count": 23,
     "metadata": {},
     "output_type": "execute_result"
    }
   ],
   "source": [
    "example2_lines"
   ]
  }
 ],
 "metadata": {
  "kernelspec": {
   "display_name": "misc-practice",
   "language": "python",
   "name": "python3"
  },
  "language_info": {
   "codemirror_mode": {
    "name": "ipython",
    "version": 3
   },
   "file_extension": ".py",
   "mimetype": "text/x-python",
   "name": "python",
   "nbconvert_exporter": "python",
   "pygments_lexer": "ipython3",
   "version": "3.11.0"
  },
  "orig_nbformat": 4
 },
 "nbformat": 4,
 "nbformat_minor": 2
}
