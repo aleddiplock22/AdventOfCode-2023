{
 "cells": [
  {
   "attachments": {},
   "cell_type": "markdown",
   "metadata": {},
   "source": [
    "## Day 13 - spooky mirrors"
   ]
  },
  {
   "attachments": {},
   "cell_type": "markdown",
   "metadata": {},
   "source": [
    "**Part 1: To summarize your pattern notes, add up the number of columns to the left of each vertical line of reflection; to that, also add 100 multiplied by the number of rows above each horizontal line of reflection**"
   ]
  },
  {
   "attachments": {},
   "cell_type": "markdown",
   "metadata": {},
   "source": [
    "Have to find reflections in a text grid....\n",
    "\n",
    "- ONE REFLECTION PER PUZZLE !"
   ]
  },
  {
   "cell_type": "code",
   "execution_count": 198,
   "metadata": {},
   "outputs": [],
   "source": [
    "with open(\"./example.txt\") as f:\n",
    "    example_txt = f.read()\n",
    "\n",
    "with open(\"./input.txt\") as f:\n",
    "    input_txt = f.read()"
   ]
  },
  {
   "cell_type": "code",
   "execution_count": 214,
   "metadata": {},
   "outputs": [
    {
     "data": {
      "text/plain": [
       "(True, False, True, True, True)"
      ]
     },
     "execution_count": 214,
     "metadata": {},
     "output_type": "execute_result"
    }
   ],
   "source": [
    "def is_reflection(split: int, string: str) -> bool:\n",
    "    if not (split < len(string) - 1):\n",
    "        return False\n",
    "\n",
    "    max_half_lengths = len(string) // 2\n",
    "    split = split + 1\n",
    "\n",
    "    first_half_split = split - max_half_lengths\n",
    "\n",
    "    diff = 0 \n",
    "    if first_half_split < 0:\n",
    "        diff = abs(first_half_split)\n",
    "\n",
    "    second_half_split = split + max_half_lengths\n",
    "\n",
    "    if second_half_split > len(string):\n",
    "        diff = second_half_split - len(string)\n",
    "\n",
    "    first_half = string[first_half_split + diff:split]\n",
    "\n",
    "    second_half = string[split:second_half_split-diff]\n",
    "    second_half_reversed = second_half[::-1]\n",
    "\n",
    "    assert len(first_half) == len(second_half_reversed)\n",
    "\n",
    "    # if first_half == second_half_reversed:\n",
    "    #     print(split)\n",
    "    return first_half == second_half_reversed\n",
    "\n",
    "is_reflection(2, \".####.\"), is_reflection(2, \".#.###\"), is_reflection(3, \"........\"), is_reflection(7, \"#.#.##.##.#\"), is_reflection(0, \"##.##.....#.#\")"
   ]
  },
  {
   "cell_type": "code",
   "execution_count": 221,
   "metadata": {},
   "outputs": [
    {
     "data": {
      "text/plain": [
       "30158"
      ]
     },
     "execution_count": 221,
     "metadata": {},
     "output_type": "execute_result"
    }
   ],
   "source": [
    "with open(\"./verify.txt\") as f:\n",
    "    verify_txt = f.read()\n",
    "\n",
    "def part1(input_txt: str) -> int:\n",
    "    input_blocks = input_txt.split(\"\\n\\n\")\n",
    "    input_blocks = [block.split(\"\\n\") for block in input_blocks]\n",
    "\n",
    "    i = 0\n",
    "\n",
    "    total = 0\n",
    "\n",
    "    for block in input_blocks:\n",
    "\n",
    "        i += 1\n",
    "        cols = [col for col in zip(*block)]\n",
    "        rows = [row for row in block]\n",
    "\n",
    "        found = False\n",
    "        for r in range(len(rows)):\n",
    "            if all(is_reflection(r, check_col) for check_col in cols):\n",
    "                # HORIZONTAL REFLECTION\n",
    "                total += (r+1)*100  # Add cols to the left of reflection\n",
    "                found = True\n",
    "                break\n",
    "        if not found:\n",
    "            for c in range(len(cols)):\n",
    "                if all(is_reflection(c, check_row) for check_row in rows):\n",
    "                    # VERTICAL REFLECTION\n",
    "                    total += (c + 1) # Add rows above the reflection\n",
    "                    found = True\n",
    "                    break\n",
    "        assert found, i\n",
    "    \n",
    "    return total\n",
    "\n",
    "assert part1(example_txt) == 405\n",
    "part1(input_txt)\n",
    "# part1(verify_txt)"
   ]
  },
  {
   "attachments": {},
   "cell_type": "markdown",
   "metadata": {},
   "source": [
    "**Part 2: oh who smudged the bloody mirror?**"
   ]
  },
  {
   "cell_type": "code",
   "execution_count": 222,
   "metadata": {},
   "outputs": [],
   "source": [
    "with open(\"./example2.txt\") as f:\n",
    "    example2 = f.read()\n",
    "\n",
    "# check it's right answer with the correct edits\n",
    "assert part1(example2) == 400"
   ]
  },
  {
   "cell_type": "code",
   "execution_count": 226,
   "metadata": {},
   "outputs": [
    {
     "data": {
      "text/plain": [
       "36474"
      ]
     },
     "execution_count": 226,
     "metadata": {},
     "output_type": "execute_result"
    }
   ],
   "source": [
    "from copy import deepcopy\n",
    "def part2(input_txt: str) -> int:\n",
    "    input_blocks = input_txt.split(\"\\n\\n\")\n",
    "    input_blocks = [block.split(\"\\n\") for block in input_blocks]\n",
    "\n",
    "    total = 0\n",
    "    HORIZONTAL = \"H\"\n",
    "    VERTICAL = \"V\"\n",
    "\n",
    "    def do_first(block):\n",
    "\n",
    "        cols = [col for col in zip(*block)]\n",
    "        rows = [row for row in block]\n",
    "\n",
    "        found = False\n",
    "        for r in range(len(rows)):\n",
    "            if all(is_reflection(r, check_col) for check_col in cols):\n",
    "                return HORIZONTAL, r\n",
    "\n",
    "        if not found:\n",
    "            for c in range(len(cols)):\n",
    "                if all(is_reflection(c, check_row) for check_row in rows):\n",
    "                    return VERTICAL, c\n",
    "        \n",
    "        raise RuntimeError(\"shouldn't be here lol\")\n",
    "\n",
    "    def do(block, axis: str, check_number: int) -> int:\n",
    "        cols = [col for col in zip(*block)]\n",
    "        rows = [row for row in block]\n",
    "\n",
    "        found = False\n",
    "        for r in range(len(rows)):\n",
    "            if all(is_reflection(r, check_col) for check_col in cols):\n",
    "                if not (axis == HORIZONTAL and r == check_number):\n",
    "                    # HORIZONTAL REFLECTION\n",
    "                    return (r+1)*100  # Add cols to the left of reflection\n",
    "\n",
    "        if not found:\n",
    "            for c in range(len(cols)):\n",
    "                if all(is_reflection(c, check_row) for check_row in rows):\n",
    "                    if not (axis == VERTICAL and c == check_number):\n",
    "                        # VERTICAL REFLECTION\n",
    "                        return (c + 1) # Add rows above the reflection\n",
    "        return 0\n",
    "\n",
    "    \n",
    "    for input_block in input_blocks:\n",
    "        default_block = deepcopy(input_block)\n",
    "        axis, check_number = do_first(default_block)\n",
    "        found = False\n",
    "        for line_idx, line in enumerate(default_block):\n",
    "            if found:\n",
    "                break\n",
    "            for i, char in enumerate(line):\n",
    "                block = deepcopy(default_block)\n",
    "                \n",
    "                new_char = \"#\" if char == \".\" else \".\"\n",
    "                line_to_change = block[line_idx]\n",
    "                new_line = line_to_change[:i] + new_char + line_to_change[i+1:]\n",
    "                block[line_idx] = new_line\n",
    "\n",
    "                if adding := do(block, axis, check_number):\n",
    "                    found = True\n",
    "                    total += adding\n",
    "                    break\n",
    "\n",
    "    return total\n",
    "\n",
    "assert part2(example_txt) == 400\n",
    "part2(input_txt)  # Woooooooooooooooooooooooooooooooooooooooooooo"
   ]
  }
 ],
 "metadata": {
  "kernelspec": {
   "display_name": "misc-practice",
   "language": "python",
   "name": "python3"
  },
  "language_info": {
   "codemirror_mode": {
    "name": "ipython",
    "version": 3
   },
   "file_extension": ".py",
   "mimetype": "text/x-python",
   "name": "python",
   "nbconvert_exporter": "python",
   "pygments_lexer": "ipython3",
   "version": "3.11.0"
  },
  "orig_nbformat": 4
 },
 "nbformat": 4,
 "nbformat_minor": 2
}
