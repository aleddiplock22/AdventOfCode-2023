{
 "cells": [
  {
   "attachments": {},
   "cell_type": "markdown",
   "metadata": {},
   "source": [
    "## Day 6: Boat races"
   ]
  },
  {
   "attachments": {},
   "cell_type": "markdown",
   "metadata": {},
   "source": [
    "Race lasts certain amount of time, hold button down to increase speed throughout race by that many units, but counts towards race time."
   ]
  },
  {
   "cell_type": "code",
   "execution_count": 1,
   "metadata": {},
   "outputs": [],
   "source": [
    "with open(\"./example.txt\") as f:\n",
    "    example_lines = []\n",
    "    for line in f.readlines():\n",
    "        example_lines.append(line.strip())\n",
    "\n",
    "with open(\"./input.txt\") as f:\n",
    "    input_lines = []\n",
    "    for line in f.readlines():\n",
    "        input_lines.append(line.strip())"
   ]
  },
  {
   "cell_type": "code",
   "execution_count": 2,
   "metadata": {},
   "outputs": [
    {
     "data": {
      "text/plain": [
       "['Time:      7  15   30', 'Distance:  9  40  200']"
      ]
     },
     "execution_count": 2,
     "metadata": {},
     "output_type": "execute_result"
    }
   ],
   "source": [
    "example_lines"
   ]
  },
  {
   "attachments": {},
   "cell_type": "markdown",
   "metadata": {},
   "source": [
    "**Part 1: Ways to beat the record! Multiply number of ways from each race**\n"
   ]
  },
  {
   "cell_type": "code",
   "execution_count": 3,
   "metadata": {},
   "outputs": [],
   "source": [
    "def calculate_if_win(button_press: int, total_time: int, distance_record: int) -> bool:\n",
    "    speed = button_press\n",
    "    time_remaining = total_time - button_press\n",
    "    distance_travelled = speed*time_remaining\n",
    "    return distance_travelled > distance_record"
   ]
  },
  {
   "cell_type": "code",
   "execution_count": 8,
   "metadata": {},
   "outputs": [],
   "source": [
    "import numpy as np\n",
    "from joblib import Parallel, delayed\n",
    "\n",
    "def calculate_number_of_ways_to_win(time_distance_pair: tuple) -> int:\n",
    "    total_time, distance_record = time_distance_pair\n",
    "    possible_button_presses_range = np.arange(total_time+1)\n",
    "    calculate_if_win_vectorised = np.vectorize(calculate_if_win)\n",
    "    if possible_button_presses_range.size > 100000:\n",
    "        arrays_to_do = np.array_split(possible_button_presses_range, 10)\n",
    "    else:\n",
    "        arrays_to_do = np.array_split(possible_button_presses_range, 1)\n",
    "    answers = Parallel(n_jobs=-1)(\n",
    "        delayed(calculate_if_win_vectorised)(button_press=array_to_do, total_time=total_time, distance_record=distance_record)\n",
    "        for array_to_do in arrays_to_do\n",
    "    )\n",
    "    # win_or_not = calculate_if_win_vectorised(button_press=possible_button_presses_range, total_time=total_time, distance_record=distance_record)\n",
    "    win_or_not = np.concatenate(answers)\n",
    "    return win_or_not.sum()\n"
   ]
  },
  {
   "cell_type": "code",
   "execution_count": 9,
   "metadata": {},
   "outputs": [
    {
     "data": {
      "text/plain": [
       "74698"
      ]
     },
     "execution_count": 9,
     "metadata": {},
     "output_type": "execute_result"
    }
   ],
   "source": [
    "# Going to try and NOT use dictionaries today.\n",
    "\n",
    "def part1(lines: list[str]) -> int:\n",
    "\n",
    "    # (race, record) tuples\n",
    "    times = list(map(int, lines[0].split(\":\")[-1].split()))\n",
    "    distances = list(map(int, lines[1].split(\":\")[-1].split()))\n",
    "    t_d_pairs = list(zip(times, distances))\n",
    "    \n",
    "    winning_combos_list = list(map(calculate_number_of_ways_to_win, t_d_pairs))\n",
    "    return np.prod(winning_combos_list)\n",
    "\n",
    "assert part1(example_lines) == 288\n",
    "part1(input_lines)\n"
   ]
  },
  {
   "attachments": {},
   "cell_type": "markdown",
   "metadata": {},
   "source": [
    "Turns out the numbers should be concatenated! Just one time and distance."
   ]
  },
  {
   "cell_type": "code",
   "execution_count": 11,
   "metadata": {},
   "outputs": [
    {
     "data": {
      "text/plain": [
       "27563421"
      ]
     },
     "execution_count": 11,
     "metadata": {},
     "output_type": "execute_result"
    }
   ],
   "source": [
    "def part2(lines: list[str]) -> int:\n",
    "    time_allocated = int(\"\".join(lines[0].split(\":\")[-1].split()))\n",
    "    distance_record = int(\"\".join(lines[1].split(\":\")[-1].split()))\n",
    "    return calculate_number_of_ways_to_win((time_allocated, distance_record))\n",
    "\n",
    "assert part2(example_lines) == 71503\n",
    "part2(input_lines)"
   ]
  }
 ],
 "metadata": {
  "kernelspec": {
   "display_name": "misc-practice",
   "language": "python",
   "name": "python3"
  },
  "language_info": {
   "codemirror_mode": {
    "name": "ipython",
    "version": 3
   },
   "file_extension": ".py",
   "mimetype": "text/x-python",
   "name": "python",
   "nbconvert_exporter": "python",
   "pygments_lexer": "ipython3",
   "version": "3.11.0"
  },
  "orig_nbformat": 4
 },
 "nbformat": 4,
 "nbformat_minor": 2
}
