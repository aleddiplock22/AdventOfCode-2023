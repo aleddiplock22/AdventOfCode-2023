{
 "cells": [
  {
   "attachments": {},
   "cell_type": "markdown",
   "metadata": {},
   "source": [
    "## Day 9 - GCSE maths sequences etc."
   ]
  },
  {
   "cell_type": "code",
   "execution_count": 37,
   "metadata": {},
   "outputs": [],
   "source": [
    "with open(\"./example.txt\") as f:\n",
    "    example_lines = [line.strip() for line in f.readlines()]\n",
    "with open(\"./input.txt\") as f:\n",
    "    input_lines = [line.strip() for line in f.readlines()]"
   ]
  },
  {
   "cell_type": "code",
   "execution_count": 38,
   "metadata": {},
   "outputs": [
    {
     "data": {
      "text/plain": [
       "['0 3 6 9 12 15', '1 3 6 10 15 21', '10 13 16 21 30 45']"
      ]
     },
     "execution_count": 38,
     "metadata": {},
     "output_type": "execute_result"
    }
   ],
   "source": [
    "example_lines"
   ]
  },
  {
   "cell_type": "code",
   "execution_count": 39,
   "metadata": {},
   "outputs": [],
   "source": [
    "def next_val_in_linear_sequence(seq: tuple[int], diff: int) -> int:\n",
    "    return seq[0] + len(seq)*diff"
   ]
  },
  {
   "cell_type": "code",
   "execution_count": 40,
   "metadata": {},
   "outputs": [],
   "source": [
    "assert next_val_in_linear_sequence(seq=(3,6,9,12), diff=3) == 15"
   ]
  },
  {
   "cell_type": "code",
   "execution_count": 41,
   "metadata": {},
   "outputs": [
    {
     "name": "stderr",
     "output_type": "stream",
     "text": [
      "<>:9: SyntaxWarning: assertion is always true, perhaps remove parentheses?\n",
      "<>:9: SyntaxWarning: assertion is always true, perhaps remove parentheses?\n",
      "C:\\Users\\adiplock\\AppData\\Local\\Temp\\ipykernel_11840\\1047145075.py:9: SyntaxWarning: assertion is always true, perhaps remove parentheses?\n",
      "  assert (\n"
     ]
    }
   ],
   "source": [
    "def next_val_in_quadratic_sequence(seq: tuple[int], second_diff: int) -> int:\n",
    "    a = second_diff/2\n",
    "    lin_seq = []\n",
    "    for i in range(1, 4):\n",
    "        lin_seq.append(\n",
    "            # seq_n - (second_diff / 2)*n^2\n",
    "            seq[i-1] - a*(i**2)\n",
    "        )\n",
    "    assert (\n",
    "        (diff := (lin_seq[1] - lin_seq[0])) == (lin_seq[2] - lin_seq[1]),\n",
    "    )\n",
    "    # So now we have formula an^2 + diff*n + seq[0]\n",
    "    n = len(seq) + 1\n",
    "    lin_seq_0th = lin_seq[0] - diff\n",
    "    return int(a*(n**2) + diff*n + lin_seq_0th)"
   ]
  },
  {
   "cell_type": "code",
   "execution_count": 42,
   "metadata": {},
   "outputs": [],
   "source": [
    "assert next_val_in_quadratic_sequence(seq=(3,8,15,24), second_diff=2) == 35"
   ]
  },
  {
   "cell_type": "code",
   "execution_count": 43,
   "metadata": {},
   "outputs": [],
   "source": [
    "assert (ans := next_val_in_quadratic_sequence(seq=(1,3,6,10,15,21), second_diff=1)) == 28, ans"
   ]
  },
  {
   "cell_type": "code",
   "execution_count": 44,
   "metadata": {},
   "outputs": [],
   "source": [
    "assert next_val_in_quadratic_sequence(seq=(6,15,28,45), second_diff=4) == 66"
   ]
  },
  {
   "cell_type": "code",
   "execution_count": 45,
   "metadata": {},
   "outputs": [],
   "source": [
    "def next_val_in_cubic_sequence(seq: tuple[int], third_diff: int, second_diff: int) -> int:\n",
    "    first_term = seq[0]\n",
    "    diff_of_second_first = seq[1] - seq[0]\n",
    "\n",
    "    # term_n = an^3 + bn^2 + cn + d\n",
    "    # 6a = third difference\n",
    "    # 12a + 2b = second difference\n",
    "    # 7a + 3b + c = difference between first two terms\n",
    "    # a + b + c + d = first term (from n=1 of course!)\n",
    "    a = third_diff / 6\n",
    "    b = (second_diff - 12*a) / 2\n",
    "    c = diff_of_second_first - (7*a + 3*b)\n",
    "    d = first_term - (a+b+c)\n",
    "\n",
    "    n = len(seq) + 1\n",
    "    return a * (n**3) + b * (n**2) + c * n + d"
   ]
  },
  {
   "cell_type": "code",
   "execution_count": 46,
   "metadata": {},
   "outputs": [],
   "source": [
    "assert next_val_in_cubic_sequence(seq=(10,13,16,12,30,45), third_diff=2, second_diff=0) == 68"
   ]
  },
  {
   "cell_type": "code",
   "execution_count": 47,
   "metadata": {},
   "outputs": [],
   "source": [
    "def find_next_val_in_sequence(seq: tuple[int]) -> int:\n",
    "    # Linear: an = a1+(n-1)d\n",
    "    if (diff := seq[2] - seq[1]) == (seq[1] - seq[0]) == (seq[3] - seq[2]) == (seq[4] - seq[3]):\n",
    "        return next_val_in_linear_sequence(seq, diff)\n",
    "    if (\n",
    "        (second_diff := (seq[2] - seq[1]) - (seq[1] - seq[0])) == ((seq[3] - seq[2]) - (seq[2] - seq[1])) == ((seq[4] - seq[3]) - (seq[3] - seq[2]))\n",
    "    ):\n",
    "        return next_val_in_quadratic_sequence(seq, second_diff)\n",
    "    # third difference, cubic case!\n",
    "    x3 = (seq[4] - seq[3]) - (seq[3] - seq[2])\n",
    "    x2 = (seq[3] - seq[2]) - (seq[2] - seq[1])\n",
    "    x1 = (seq[2] - seq[1]) - (seq[1] - seq[0])\n",
    "    if (third_diff := x3-x2) == x2 - x1:\n",
    "        return next_val_in_cubic_sequence(\n",
    "            seq,\n",
    "            third_diff=third_diff,\n",
    "            second_diff=second_diff,\n",
    "        )\n",
    "    else:\n",
    "\n",
    "        # TODO \n",
    "        # IMPLEMENT RECURSIVE THING LIKE IN THE PROBLEM DEFINITION\n",
    "\n",
    "        return 0\n",
    "    # it was at this point I realised it can go higher than cubic :(((("
   ]
  },
  {
   "cell_type": "code",
   "execution_count": 48,
   "metadata": {},
   "outputs": [
    {
     "data": {
      "text/plain": [
       "126019"
      ]
     },
     "execution_count": 48,
     "metadata": {},
     "output_type": "execute_result"
    }
   ],
   "source": [
    "def part2(lines: list[str]) -> int:\n",
    "    sequences = [\n",
    "        tuple(map(int, line.split())) for line in lines\n",
    "    ]\n",
    "    running_total_of_nth_terms = 0\n",
    "    for seq in sequences:\n",
    "        running_total_of_nth_terms += find_next_val_in_sequence(seq)\n",
    "    \n",
    "    return int(running_total_of_nth_terms)\n",
    "\n",
    "part2(example_lines) == 14\n",
    "part2(input_lines)"
   ]
  }
 ],
 "metadata": {
  "kernelspec": {
   "display_name": "misc-practice",
   "language": "python",
   "name": "python3"
  },
  "language_info": {
   "codemirror_mode": {
    "name": "ipython",
    "version": 3
   },
   "file_extension": ".py",
   "mimetype": "text/x-python",
   "name": "python",
   "nbconvert_exporter": "python",
   "pygments_lexer": "ipython3",
   "version": "3.11.0"
  },
  "orig_nbformat": 4
 },
 "nbformat": 4,
 "nbformat_minor": 2
}
