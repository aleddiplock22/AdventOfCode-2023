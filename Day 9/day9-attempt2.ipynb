{
 "cells": [
  {
   "cell_type": "markdown",
   "metadata": {},
   "source": [
    "## Day 9 - GCSE maths sequences etc."
   ]
  },
  {
   "cell_type": "code",
   "execution_count": 1,
   "metadata": {},
   "outputs": [],
   "source": [
    "with open(\"./example.txt\") as f:\n",
    "    example_lines = [line.strip() for line in f.readlines()]\n",
    "    example_lines = [\n",
    "        tuple(map(int, item.split())) for item in example_lines\n",
    "    ]\n",
    "with open(\"./input.txt\") as f:\n",
    "    input_lines = [line.strip() for line in f.readlines()]\n",
    "    input_lines = [\n",
    "        tuple(map(int, item.split())) for item in input_lines\n",
    "    ]"
   ]
  },
  {
   "cell_type": "code",
   "execution_count": 2,
   "metadata": {},
   "outputs": [
    {
     "data": {
      "text/plain": [
       "[(0, 3, 6, 9, 12, 15), (1, 3, 6, 10, 15, 21), (10, 13, 16, 21, 30, 45)]"
      ]
     },
     "execution_count": 2,
     "metadata": {},
     "output_type": "execute_result"
    }
   ],
   "source": [
    "example_lines"
   ]
  },
  {
   "cell_type": "code",
   "execution_count": 3,
   "metadata": {},
   "outputs": [],
   "source": [
    "def seq_differences(seq: tuple[int]) -> tuple[int]:\n",
    "    return tuple(\n",
    "        seq[i+1] - seq[i] for i in range(len(seq) - 1)\n",
    "    )"
   ]
  },
  {
   "cell_type": "code",
   "execution_count": 4,
   "metadata": {},
   "outputs": [
    {
     "data": {
      "text/plain": [
       "(3, 3, 5, 9, 15)"
      ]
     },
     "execution_count": 4,
     "metadata": {},
     "output_type": "execute_result"
    }
   ],
   "source": [
    "seq_differences((10, 13, 16, 21, 30, 45))"
   ]
  },
  {
   "cell_type": "code",
   "execution_count": 5,
   "metadata": {},
   "outputs": [],
   "source": [
    "def is_same(differences: tuple[int]) -> bool:\n",
    "    comparison_val = differences[0]\n",
    "    for val in differences[1:]:\n",
    "        if val != comparison_val:\n",
    "            return False\n",
    "    return True"
   ]
  },
  {
   "cell_type": "code",
   "execution_count": 6,
   "metadata": {},
   "outputs": [],
   "source": [
    "def get_next_val_in_sequence(seq: tuple[int]) -> int:\n",
    "    differences_list = []\n",
    "\n",
    "    current_seq = seq\n",
    "    while True:\n",
    "        diffs = seq_differences(current_seq)\n",
    "        differences_list.append(\n",
    "            diffs\n",
    "        )\n",
    "        if is_same(diffs):\n",
    "            break\n",
    "        else:\n",
    "            current_seq = diffs\n",
    "\n",
    "    final_diff = differences_list.pop()\n",
    "    assert is_same(final_diff)\n",
    "    val_to_add = final_diff[-1]\n",
    "\n",
    "    if not differences_list:\n",
    "        return seq[-1] + val_to_add\n",
    "    else:\n",
    "        for sub_diffs in differences_list.__reversed__():\n",
    "            val_to_add = sub_diffs[-1] + val_to_add\n",
    "    \n",
    "    return seq[-1] + val_to_add"
   ]
  },
  {
   "cell_type": "code",
   "execution_count": 7,
   "metadata": {},
   "outputs": [
    {
     "data": {
      "text/plain": [
       "68"
      ]
     },
     "execution_count": 7,
     "metadata": {},
     "output_type": "execute_result"
    }
   ],
   "source": [
    "get_next_val_in_sequence((10, 13, 16, 21, 30, 45))"
   ]
  },
  {
   "cell_type": "code",
   "execution_count": 8,
   "metadata": {},
   "outputs": [
    {
     "data": {
      "text/plain": [
       "-214"
      ]
     },
     "execution_count": 8,
     "metadata": {},
     "output_type": "execute_result"
    }
   ],
   "source": [
    "-179-35"
   ]
  },
  {
   "cell_type": "code",
   "execution_count": 9,
   "metadata": {},
   "outputs": [],
   "source": [
    "for i in range(len(input_lines)):\n",
    "    example = input_lines[i][:-1]\n",
    "    answer = input_lines[i][-1]\n",
    "    assert get_next_val_in_sequence(example) == answer, (i, get_next_val_in_sequence(example), answer)"
   ]
  },
  {
   "cell_type": "code",
   "execution_count": 10,
   "metadata": {},
   "outputs": [
    {
     "data": {
      "text/plain": [
       "2098530125"
      ]
     },
     "execution_count": 10,
     "metadata": {},
     "output_type": "execute_result"
    }
   ],
   "source": [
    "def part1(sequences: list[tuple[int]]) -> int:\n",
    "    running_total = 0\n",
    "    for seq in sequences:\n",
    "        running_total += get_next_val_in_sequence(seq)\n",
    "    \n",
    "    return running_total\n",
    "\n",
    "assert part1(example_lines) == 114\n",
    "part1(input_lines)"
   ]
  },
  {
   "attachments": {},
   "cell_type": "markdown",
   "metadata": {},
   "source": [
    "## Part 2 - the same but the 0th value, (backwards extrapolation)"
   ]
  },
  {
   "cell_type": "code",
   "execution_count": 15,
   "metadata": {},
   "outputs": [],
   "source": [
    "def get_0th_val_in_sequence(seq: tuple[int]) -> int:\n",
    "    differences_list = []\n",
    "\n",
    "    current_seq = seq\n",
    "    while True:\n",
    "        diffs = seq_differences(current_seq)\n",
    "        differences_list.append(\n",
    "            diffs\n",
    "        )\n",
    "        if is_same(diffs):\n",
    "            break\n",
    "        else:\n",
    "            current_seq = diffs\n",
    "\n",
    "    final_diff = differences_list.pop()\n",
    "    assert is_same(final_diff)\n",
    "    val_to_subtract = final_diff[-1]\n",
    "\n",
    "    if not differences_list:\n",
    "        return seq[0] - val_to_subtract\n",
    "    else:\n",
    "        for sub_diffs in differences_list.__reversed__():\n",
    "            val_to_subtract = sub_diffs[0] - val_to_subtract\n",
    "    \n",
    "    return seq[0] - val_to_subtract"
   ]
  },
  {
   "cell_type": "code",
   "execution_count": 17,
   "metadata": {},
   "outputs": [
    {
     "data": {
      "text/plain": [
       "1016"
      ]
     },
     "execution_count": 17,
     "metadata": {},
     "output_type": "execute_result"
    }
   ],
   "source": [
    "def part2(sequences: list[tuple[int]]) -> int:\n",
    "    running_total = 0\n",
    "    for seq in sequences:\n",
    "        running_total += get_0th_val_in_sequence(seq)\n",
    "    \n",
    "    return running_total\n",
    "\n",
    "assert part2(example_lines) == 2\n",
    "part2(input_lines)"
   ]
  }
 ],
 "metadata": {
  "kernelspec": {
   "display_name": "misc-practice",
   "language": "python",
   "name": "python3"
  },
  "language_info": {
   "codemirror_mode": {
    "name": "ipython",
    "version": 3
   },
   "file_extension": ".py",
   "mimetype": "text/x-python",
   "name": "python",
   "nbconvert_exporter": "python",
   "pygments_lexer": "ipython3",
   "version": "3.11.0"
  },
  "orig_nbformat": 4
 },
 "nbformat": 4,
 "nbformat_minor": 2
}
