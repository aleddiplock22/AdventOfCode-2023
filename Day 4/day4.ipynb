{
 "cells": [
  {
   "attachments": {},
   "cell_type": "markdown",
   "metadata": {},
   "source": [
    "## Day 4: Scratch cards"
   ]
  },
  {
   "attachments": {},
   "cell_type": "markdown",
   "metadata": {},
   "source": [
    "N matches -> 2^(N-1) points, sum these"
   ]
  },
  {
   "cell_type": "code",
   "execution_count": 1,
   "metadata": {},
   "outputs": [],
   "source": [
    "with open(\"./example.txt\") as f:\n",
    "    example_lines = []\n",
    "    for line in f.readlines():\n",
    "        example_lines.append(line.strip())\n",
    "\n",
    "with open(\"./input.txt\") as f:\n",
    "    input_lines = []\n",
    "    for line in f.readlines():\n",
    "        input_lines.append(line.strip())"
   ]
  },
  {
   "cell_type": "code",
   "execution_count": 2,
   "metadata": {},
   "outputs": [
    {
     "data": {
      "text/plain": [
       "['Card 1: 41 48 83 86 17 | 83 86  6 31 17  9 48 53',\n",
       " 'Card 2: 13 32 20 16 61 | 61 30 68 82 17 32 24 19',\n",
       " 'Card 3:  1 21 53 59 44 | 69 82 63 72 16 21 14  1',\n",
       " 'Card 4: 41 92 73 84 69 | 59 84 76 51 58  5 54 83',\n",
       " 'Card 5: 87 83 26 28 32 | 88 30 70 12 93 22 82 36',\n",
       " 'Card 6: 31 18 13 56 72 | 74 77 10 23 35 67 36 11']"
      ]
     },
     "execution_count": 2,
     "metadata": {},
     "output_type": "execute_result"
    }
   ],
   "source": [
    "example_lines"
   ]
  },
  {
   "cell_type": "code",
   "execution_count": 14,
   "metadata": {},
   "outputs": [
    {
     "data": {
      "text/plain": [
       "23235"
      ]
     },
     "execution_count": 14,
     "metadata": {},
     "output_type": "execute_result"
    }
   ],
   "source": [
    "def part1(lines: list[str]) -> int:\n",
    "    lines = [line.split(\": \")[-1] for line in lines]\n",
    "    score = 0\n",
    "    for line in lines:\n",
    "        answers = set(line.split(\"|\")[0].split())\n",
    "        guesses = set(line.split(\"|\")[-1].split())\n",
    "        num_correct = len(answers.intersection(guesses))\n",
    "        if num_correct > 0:\n",
    "            score += pow(2, len(answers.intersection(guesses))-1)\n",
    "    \n",
    "    return score\n",
    "\n",
    "assert part1(example_lines) == 13\n",
    "part1(input_lines)"
   ]
  },
  {
   "attachments": {},
   "cell_type": "markdown",
   "metadata": {},
   "source": [
    "part 2: bit obtuse. however N many matches you get, you 'win' the following N cards."
   ]
  },
  {
   "cell_type": "code",
   "execution_count": 25,
   "metadata": {},
   "outputs": [
    {
     "data": {
      "text/plain": [
       "5920640"
      ]
     },
     "execution_count": 25,
     "metadata": {},
     "output_type": "execute_result"
    }
   ],
   "source": [
    "def part2(lines: list[str]) -> int:\n",
    "    lines = [line.split(\": \")[-1] for line in lines]\n",
    "    card_scores = {i:1 for i in range(1, len(lines)+1)}\n",
    "    for i, line in enumerate(lines):\n",
    "        card_number = i + 1\n",
    "        answers = set(line.split(\"|\")[0].split())\n",
    "        guesses = set(line.split(\"|\")[-1].split())\n",
    "        num_correct = len(answers.intersection(guesses))\n",
    "        if num_correct > 0:\n",
    "            for j in range(card_number + 1, card_number + num_correct + 1):\n",
    "                amount_of_current_card = card_scores[card_number]\n",
    "                tmp = card_scores[j]\n",
    "                tmp += amount_of_current_card\n",
    "                card_scores[j] = tmp\n",
    "    \n",
    "    return sum(card_scores.values())\n",
    "\n",
    "    \n",
    "assert part2(example_lines) == 30\n",
    "part2(input_lines)"
   ]
  }
 ],
 "metadata": {
  "kernelspec": {
   "display_name": "Python 3",
   "language": "python",
   "name": "python3"
  },
  "language_info": {
   "codemirror_mode": {
    "name": "ipython",
    "version": 3
   },
   "file_extension": ".py",
   "mimetype": "text/x-python",
   "name": "python",
   "nbconvert_exporter": "python",
   "pygments_lexer": "ipython3",
   "version": "3.11.0"
  },
  "orig_nbformat": 4
 },
 "nbformat": 4,
 "nbformat_minor": 2
}
