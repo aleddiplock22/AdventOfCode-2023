{
 "cells": [
  {
   "attachments": {},
   "cell_type": "markdown",
   "metadata": {},
   "source": [
    "## Day 2 - Grab handful from bag of various colour blocks"
   ]
  },
  {
   "attachments": {},
   "cell_type": "markdown",
   "metadata": {},
   "source": [
    "Part 1: only 12 red cubes, 13 green cubes, and 14 blue cubes... which games possible? (sum of IDs)"
   ]
  },
  {
   "cell_type": "code",
   "execution_count": 1,
   "metadata": {},
   "outputs": [],
   "source": [
    "with open(\"./example.txt\") as f:\n",
    "    example_lines = []\n",
    "    for line in f.readlines():\n",
    "        example_lines.append(line.strip())\n",
    "\n",
    "with open(\"./input.txt\") as f:\n",
    "    input_lines = []\n",
    "    for line in f.readlines():\n",
    "        input_lines.append(line.strip())\n"
   ]
  },
  {
   "cell_type": "code",
   "execution_count": 2,
   "metadata": {},
   "outputs": [
    {
     "data": {
      "text/plain": [
       "['Game 1: 3 blue, 4 red; 1 red, 2 green, 6 blue; 2 green',\n",
       " 'Game 2: 1 blue, 2 green; 3 green, 4 blue, 1 red; 1 green, 1 blue',\n",
       " 'Game 3: 8 green, 6 blue, 20 red; 5 blue, 4 red, 13 green; 5 green, 1 red',\n",
       " 'Game 4: 1 green, 3 red, 6 blue; 3 green, 6 red; 3 green, 15 blue, 14 red',\n",
       " 'Game 5: 6 red, 1 blue, 3 green; 2 blue, 1 red, 2 green']"
      ]
     },
     "execution_count": 2,
     "metadata": {},
     "output_type": "execute_result"
    }
   ],
   "source": [
    "example_lines"
   ]
  },
  {
   "cell_type": "code",
   "execution_count": 3,
   "metadata": {},
   "outputs": [],
   "source": [
    "def pots_from_game(game: str):\n",
    "    if \":\" in game:\n",
    "        game = game.split(\": \")[-1]\n",
    "\n",
    "    # now split game into colours\n",
    "    colours = game.split(\",\")\n",
    "    blues = 0\n",
    "    reds = 0\n",
    "    greens = 0\n",
    "    for colour in colours:\n",
    "        if \"blue\" in colour:\n",
    "            val = colour.strip().split(\" \")[0].strip()\n",
    "            blues += int(val)\n",
    "        elif \"red\" in colour:\n",
    "            val = colour.strip().split(\" \")[0].strip()\n",
    "            reds += int(val)\n",
    "        elif \"green\" in colour:\n",
    "            val = colour.strip().split(\" \")[0].strip()\n",
    "            greens += int(val)\n",
    "        else:\n",
    "            raise ValueError(f\"Problem here: where's the colour? - {colour}\")\n",
    "    \n",
    "    return blues, reds, greens"
   ]
  },
  {
   "cell_type": "code",
   "execution_count": 4,
   "metadata": {},
   "outputs": [
    {
     "data": {
      "text/plain": [
       "2541"
      ]
     },
     "execution_count": 4,
     "metadata": {},
     "output_type": "execute_result"
    }
   ],
   "source": [
    "def part1(lines: list[str]) -> int:\n",
    "    valid_game_ids = []\n",
    "    for line in lines:\n",
    "        game_id = line.split(\" \")[1].split(\":\")[0]\n",
    "        games = line.split(\";\") # list\n",
    "        valid = True\n",
    "        for game in games:\n",
    "            blues, reds, greens = pots_from_game(game)\n",
    "            if blues > 14 or reds > 12 or greens > 13:\n",
    "                valid = False\n",
    "        if valid:\n",
    "            valid_game_ids.append(int(game_id))\n",
    "    \n",
    "    return sum(valid_game_ids)\n",
    "\n",
    "assert part1(example_lines) == 8\n",
    "part1(input_lines)"
   ]
  },
  {
   "attachments": {},
   "cell_type": "markdown",
   "metadata": {},
   "source": [
    "Part 2: find 'min game' (i.e. max from each colour in each line), then multiply these. Sum all."
   ]
  },
  {
   "cell_type": "code",
   "execution_count": 5,
   "metadata": {},
   "outputs": [
    {
     "data": {
      "text/plain": [
       "66016"
      ]
     },
     "execution_count": 5,
     "metadata": {},
     "output_type": "execute_result"
    }
   ],
   "source": [
    "def part2(lines: list[str]) -> int:\n",
    "    power_set_vals = []\n",
    "    for line in lines:\n",
    "        games = line.split(\";\") # list\n",
    "        min_blue, min_red, min_green = 0,0,0\n",
    "        for game in games:\n",
    "            blues, reds, greens = pots_from_game(game)\n",
    "            min_blue = max(min_blue, blues)\n",
    "            min_red = max(min_red, reds)\n",
    "            min_green = max(min_green, greens)\n",
    "        power_set = min_blue*min_red*min_green\n",
    "        power_set_vals.append(power_set)\n",
    "\n",
    "    return sum(power_set_vals)\n",
    "\n",
    "assert part2(example_lines) == 2286\n",
    "part2(input_lines)\n"
   ]
  }
 ],
 "metadata": {
  "kernelspec": {
   "display_name": "Python 3",
   "language": "python",
   "name": "python3"
  },
  "language_info": {
   "codemirror_mode": {
    "name": "ipython",
    "version": 3
   },
   "file_extension": ".py",
   "mimetype": "text/x-python",
   "name": "python",
   "nbconvert_exporter": "python",
   "pygments_lexer": "ipython3",
   "version": "3.11.0"
  },
  "orig_nbformat": 4
 },
 "nbformat": 4,
 "nbformat_minor": 2
}
