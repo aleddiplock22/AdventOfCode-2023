{
 "cells": [
  {
   "attachments": {},
   "cell_type": "markdown",
   "metadata": {},
   "source": [
    "## Day 24 - Colliding hailstones"
   ]
  },
  {
   "attachments": {},
   "cell_type": "markdown",
   "metadata": {},
   "source": [
    "**Part 1: Disregarding z-axis, how many hailstones will collide between with an X and Y position each at least 200000000000000 and at most 400000000000000.**"
   ]
  },
  {
   "cell_type": "code",
   "execution_count": 9,
   "metadata": {},
   "outputs": [
    {
     "data": {
      "text/plain": [
       "['19, 13, 30 @ -2,  1, -2',\n",
       " '18, 19, 22 @ -1, -1, -2',\n",
       " '20, 25, 34 @ -2, -2, -4',\n",
       " '12, 31, 28 @ -1, -2, -1',\n",
       " '20, 19, 15 @  1, -5, -3']"
      ]
     },
     "execution_count": 9,
     "metadata": {},
     "output_type": "execute_result"
    }
   ],
   "source": [
    "with open(\"./example.txt\") as f:\n",
    "    example_lines = [line.strip() for line in f.readlines()]\n",
    "\n",
    "with open(\"./input.txt\") as f:\n",
    "    input_lines = [line.strip() for line in f.readlines()]\n",
    "\n",
    "example_lines"
   ]
  },
  {
   "cell_type": "code",
   "execution_count": 10,
   "metadata": {},
   "outputs": [],
   "source": [
    "def intersection_time2(x1, x2, y1, y2, vx1, vx2, vy1, vy2) -> float:\n",
    "    return (x2 - x1 + (vx1/vy1)*(y1-y2))/((vx1*vy2)/vy1 - vx2)"
   ]
  },
  {
   "cell_type": "code",
   "execution_count": 11,
   "metadata": {},
   "outputs": [],
   "source": [
    "def position_at_time2(x2, y2, vx2, vy2, t2):\n",
    "    return (x2 + vx2*t2, y2 + vy2*t2)"
   ]
  },
  {
   "cell_type": "code",
   "execution_count": 12,
   "metadata": {},
   "outputs": [],
   "source": [
    "def t1_from_xval1(xs, vx1, xval1):\n",
    "    return (xval1 - xs)/vx1"
   ]
  },
  {
   "cell_type": "code",
   "execution_count": 13,
   "metadata": {},
   "outputs": [
    {
     "data": {
      "text/plain": [
       "14799"
      ]
     },
     "execution_count": 13,
     "metadata": {},
     "output_type": "execute_result"
    }
   ],
   "source": [
    "from itertools import combinations\n",
    "\n",
    "def part1(lines: list[str], example: bool = False) -> int:\n",
    "    lower_bound = 7 if example else 200000000000000\n",
    "    upper_bound = 27 if example else 400000000000000\n",
    "\n",
    "    hailstones = [\n",
    "        tuple(map(int,\n",
    "                  (line.split(\",\")[0], line.split(\", \")[1], line.split(\"@ \")[-1].split(\",\")[0], line.split(\"@ \")[-1].split(\", \")[1])\n",
    "                  ))\n",
    "        for line in lines\n",
    "    ]  # (X, Y, vX, vY)\n",
    "\n",
    "    found = 0\n",
    "\n",
    "    for (x1, y1, vx1, vy1), (x2, y2, vx2, vy2) in combinations(hailstones, r=2):\n",
    "        try:\n",
    "            t2 = intersection_time2(x1, x2, y1, y2, vx1, vx2, vy1, vy2)\n",
    "            xval2, yval2 = position_at_time2(x2, y2, vx2, vy2, t2)\n",
    "            t1 = t1_from_xval1(x1, vx1, xval2)\n",
    "\n",
    "        except:\n",
    "            continue\n",
    "\n",
    "        if (\n",
    "            lower_bound <= xval2 <= upper_bound\n",
    "            and lower_bound <= yval2 <= upper_bound\n",
    "            and t2 >= 0\n",
    "            and t1 >= 0\n",
    "        ):\n",
    "            found += 1\n",
    "\n",
    "    return found\n",
    "\n",
    "assert part1(example_lines, example=True) == 2\n",
    "part1(input_lines, example=False)  # with some Algebra help from Kate!"
   ]
  }
 ],
 "metadata": {
  "kernelspec": {
   "display_name": "misc-practice",
   "language": "python",
   "name": "python3"
  },
  "language_info": {
   "codemirror_mode": {
    "name": "ipython",
    "version": 3
   },
   "file_extension": ".py",
   "mimetype": "text/x-python",
   "name": "python",
   "nbconvert_exporter": "python",
   "pygments_lexer": "ipython3",
   "version": "3.11.0"
  },
  "orig_nbformat": 4
 },
 "nbformat": 4,
 "nbformat_minor": 2
}
