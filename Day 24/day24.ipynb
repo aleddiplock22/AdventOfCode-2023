{
 "cells": [
  {
   "attachments": {},
   "cell_type": "markdown",
   "metadata": {},
   "source": [
    "## Day 24 - Colliding hailstones"
   ]
  },
  {
   "attachments": {},
   "cell_type": "markdown",
   "metadata": {},
   "source": [
    "**Part 1: Disregarding z-axis, how many hailstones will collide between with an X and Y position each at least 200000000000000 and at most 400000000000000.**"
   ]
  },
  {
   "cell_type": "code",
   "execution_count": 115,
   "metadata": {},
   "outputs": [
    {
     "data": {
      "text/plain": [
       "['19, 13, 30 @ -2,  1, -2',\n",
       " '18, 19, 22 @ -1, -1, -2',\n",
       " '20, 25, 34 @ -2, -2, -4',\n",
       " '12, 31, 28 @ -1, -2, -1',\n",
       " '20, 19, 15 @  1, -5, -3']"
      ]
     },
     "execution_count": 115,
     "metadata": {},
     "output_type": "execute_result"
    }
   ],
   "source": [
    "with open(\"./example.txt\") as f:\n",
    "    example_lines = [line.strip() for line in f.readlines()]\n",
    "\n",
    "with open(\"./input.txt\") as f:\n",
    "    input_lines = [line.strip() for line in f.readlines()]\n",
    "\n",
    "example_lines"
   ]
  },
  {
   "cell_type": "code",
   "execution_count": 116,
   "metadata": {},
   "outputs": [],
   "source": [
    "def intersection_time2(x1, x2, y1, y2, vx1, vx2, vy1, vy2) -> float:\n",
    "    return (x2 - x1 + (vx1/vy1)*(y1-y2))/((vx1*vy2)/vy1 - vx2)"
   ]
  },
  {
   "cell_type": "code",
   "execution_count": 117,
   "metadata": {},
   "outputs": [],
   "source": [
    "def position_at_time2(x2, y2, vx2, vy2, t2):\n",
    "    return (x2 + vx2*t2, y2 + vy2*t2)"
   ]
  },
  {
   "cell_type": "code",
   "execution_count": 118,
   "metadata": {},
   "outputs": [],
   "source": [
    "def t1_from_xval1(xs, vx1, xval1):\n",
    "    return (xval1 - xs)/vx1"
   ]
  },
  {
   "cell_type": "code",
   "execution_count": 119,
   "metadata": {},
   "outputs": [
    {
     "data": {
      "image/png": "[encoded data removed]",
      "text/latex": [
       "$\\displaystyle 14799$"
      ],
      "text/plain": [
       "14799"
      ]
     },
     "execution_count": 119,
     "metadata": {},
     "output_type": "execute_result"
    }
   ],
   "source": [
    "from itertools import combinations\n",
    "\n",
    "def part1(lines: list[str], example: bool = False) -> int:\n",
    "    lower_bound = 7 if example else 200000000000000\n",
    "    upper_bound = 27 if example else 400000000000000\n",
    "\n",
    "    hailstones = [\n",
    "        tuple(map(int,\n",
    "                  (line.split(\",\")[0], line.split(\", \")[1], line.split(\"@ \")[-1].split(\",\")[0], line.split(\"@ \")[-1].split(\", \")[1])\n",
    "                  ))\n",
    "        for line in lines\n",
    "    ]  # (X, Y, vX, vY)\n",
    "\n",
    "    found = 0\n",
    "\n",
    "    for (x1, y1, vx1, vy1), (x2, y2, vx2, vy2) in combinations(hailstones, r=2):\n",
    "        try:\n",
    "            t2 = intersection_time2(x1, x2, y1, y2, vx1, vx2, vy1, vy2)\n",
    "            xval2, yval2 = position_at_time2(x2, y2, vx2, vy2, t2)\n",
    "            t1 = t1_from_xval1(x1, vx1, xval2)\n",
    "\n",
    "        except:\n",
    "            continue\n",
    "\n",
    "        if (\n",
    "            lower_bound <= xval2 <= upper_bound\n",
    "            and lower_bound <= yval2 <= upper_bound\n",
    "            and t2 >= 0\n",
    "            and t1 >= 0\n",
    "        ):\n",
    "            found += 1\n",
    "\n",
    "    return found\n",
    "\n",
    "assert part1(example_lines, example=True) == 2\n",
    "part1(input_lines, example=False)  # with some Algebra help from Kate!"
   ]
  },
  {
   "attachments": {},
   "cell_type": "markdown",
   "metadata": {},
   "source": [
    "**Part 2: Throw a rock to hit all the hailstones, now including the z-axis....**"
   ]
  },
  {
   "cell_type": "code",
   "execution_count": 120,
   "metadata": {},
   "outputs": [
    {
     "data": {
      "text/plain": [
       "['19, 13, 30 @ -2,  1, -2',\n",
       " '18, 19, 22 @ -1, -1, -2',\n",
       " '20, 25, 34 @ -2, -2, -4',\n",
       " '12, 31, 28 @ -1, -2, -1',\n",
       " '20, 19, 15 @  1, -5, -3']"
      ]
     },
     "execution_count": 120,
     "metadata": {},
     "output_type": "execute_result"
    }
   ],
   "source": [
    "example_lines"
   ]
  },
  {
   "cell_type": "code",
   "execution_count": 121,
   "metadata": {},
   "outputs": [],
   "source": [
    "# class Hailstone:\n",
    "#     def __init__(self, sx: int, sy: int, sz: int, vx: int, vy: int, vz: int):\n",
    "#         self.sx: int = sx\n",
    "#         self.sy: int = sy\n",
    "#         self.sz: int = sz\n",
    "#         self.vx: int = vx\n",
    "#         self.vy: int = vy\n",
    "#         self.vz: int = vz\n",
    "\n",
    "#     def __repr__(self) -> str:\n",
    "#         return f\"H({self.sx}, {self.sy}, {self.sz} @ {self.vx}, {self.vy}, {self.vz})\""
   ]
  },
  {
   "cell_type": "code",
   "execution_count": 162,
   "metadata": {},
   "outputs": [
    {
     "data": {
      "image/png": "[encoded data removed]",
      "text/latex": [
       "$\\displaystyle \\left[ \\left\\{ VX : -9, \\  VY : -9, \\  VZ : 94, \\  X : 33, \\  Y : 33, \\  Z : -162, \\  t_{1} : 2, \\  t_{2} : \\frac{15}{8}, \\  t_{3} : \\frac{13}{7}\\right\\}\\right]$"
      ],
      "text/plain": [
       "[{VX: -9, VY: -9, VZ: 94, X: 33, Y: 33, Z: -162, t₁: 2, t₂: 15/8, t₃: 13/7}]"
      ]
     },
     "execution_count": 162,
     "metadata": {},
     "output_type": "execute_result"
    }
   ],
   "source": [
    "import sympy as sym\n",
    "sym.init_printing()\n",
    "\n",
    "# x,y,z,vx,vy,vz = sym.symbols(\"x,y,z,vx,vy,vz\")\n",
    "x,y,z,vx,vy,vz = 19, 13, 30, -2, 1, -2\n",
    "x2,y2,z2,vx2,vy2,vz2 = 18,19,22,-1,-1,-2\n",
    "x3,y3,z3,vx3,vy3,vz3 = 20,25,34,-2,-2,-4\n",
    "X,Y,Z,VX,VY,VZ = sym.symbols(\"X Y Z VX VY VZ\")\n",
    "# X = sym.Symbol(\"X\", positive=True)\n",
    "# Y = sym.Symbol(\"Y\", positive=True)\n",
    "# Z = sym.Symbol(\"Z\", positive=True)\n",
    "# VX = sym.Symbol(\"VX\", positive=True)\n",
    "# VY = sym.Symbol(\"VY\", positive=True)\n",
    "# VZ = sym.Symbol(\"VZ\", positive=True)\n",
    "# t1 = sym.Symbol(\"t1\", positive=True)\n",
    "# t2 = sym.Symbol(\"t2\", positive=True)\n",
    "# t3 = sym.Symbol(\"t3\", positive=True)\n",
    "t1,t2,t3 = sym.symbols(\"t1 t2 t3\")\n",
    "eq_x = sym.Eq(x+vx*t1, X+VX*t1)\n",
    "eq_y = sym.Eq(y+vy*t1, Y+VY*t1)\n",
    "eq_z = sym.Eq(z+vz*t1, Z+VZ*t1)\n",
    "eq_x2 = sym.Eq(x2+vx2*t2, X+VX*t2)\n",
    "eq_y2 = sym.Eq(x2+vy2*t2, Y+VY*t2)\n",
    "eq_z2 = sym.Eq(x2+vz2*t2, Z+VZ*t2)\n",
    "eq_x3 = sym.Eq(x3+vx3*t3, X+VX*t3)\n",
    "eq_y3 = sym.Eq(x3+vy3*t3, Y+VY*t3)\n",
    "eq_z3 = sym.Eq(x3+vz3*t3, Z+VZ*t3)\n",
    "\n",
    "sym.solve([eq_x,eq_y,eq_z,eq_x2, eq_y2, eq_z2, eq_x3, eq_y3, eq_z3])  # not quite sure why this isn't right / doesn't work?"
   ]
  },
  {
   "cell_type": "code",
   "execution_count": 123,
   "metadata": {},
   "outputs": [
    {
     "data": {
      "image/png": "[encoded data removed]",
      "text/latex": [
       "$\\displaystyle \\left[ \\left\\{ X : \\frac{5}{2} - \\frac{\\sqrt{33}}{2}, \\  Y : \\frac{5}{2} + \\frac{\\sqrt{33}}{2}\\right\\}, \\  \\left\\{ X : \\frac{5}{2} + \\frac{\\sqrt{33}}{2}, \\  Y : \\frac{5}{2} - \\frac{\\sqrt{33}}{2}\\right\\}\\right]$"
      ],
      "text/plain": [
       "⎡⎧   5   √33     5   √33⎫  ⎧   5   √33     5   √33⎫⎤\n",
       "⎢⎨X: ─ - ───, Y: ─ + ───⎬, ⎨X: ─ + ───, Y: ─ - ───⎬⎥\n",
       "⎣⎩   2    2      2    2 ⎭  ⎩   2    2      2    2 ⎭⎦"
      ]
     },
     "execution_count": 123,
     "metadata": {},
     "output_type": "execute_result"
    }
   ],
   "source": [
    "sym.solve([X+Y-5, Y*X+2])"
   ]
  },
  {
   "cell_type": "code",
   "execution_count": 124,
   "metadata": {},
   "outputs": [
    {
     "name": "stdout",
     "output_type": "stream",
     "text": [
      "{VX: -3, VY: 1, VZ: 2, X: 24, Y: 13, Z: 10}\n",
      "{VX: 26, VY: -331, VZ: 53, X: 270392223533307, Y: 463714142194110, Z: 273041846062208}\n"
     ]
    },
    {
     "data": {
      "image/png": "[encoded data removed]",
      "text/latex": [
       "$\\displaystyle 1007148211789625$"
      ],
      "text/plain": [
       "1007148211789625"
      ]
     },
     "execution_count": 124,
     "metadata": {},
     "output_type": "execute_result"
    }
   ],
   "source": [
    "def part2(lines: list[str]) -> int:\n",
    "    \"\"\"\n",
    "    Returns the sum of the X, Y, Z, coordinates that this brutal rock would start from.\n",
    "    \"\"\"\n",
    "    hailstones = [\n",
    "        tuple(map(int, line.replace(\" @\", \",\").split(\", \")))\n",
    "        for line in lines\n",
    "    ]\n",
    "    X,Y,Z,VX,VY,VZ = sym.symbols(\"X Y Z VX VY VZ\")\n",
    "    \n",
    "    equations = []\n",
    "\n",
    "    # can actually just throw all possible equations into sympy, but a bit slower!\n",
    "\n",
    "    for i, (x, y, z, vx, vy, vz) in enumerate(hailstones):\n",
    "        equations.append(\n",
    "            (Y-y)*(vx-VX) - (X-x)*(vy-VY)\n",
    "        )\n",
    "        equations.append(\n",
    "            (Z-z)*(vx-VX) - (X-x)*(vz-VZ)\n",
    "        )\n",
    "        if i < 2:\n",
    "            continue\n",
    "        answers = [soln for soln in sym.solve(equations)]\n",
    "        if len(answers) == 1:\n",
    "            break\n",
    "    \n",
    "    answer = answers.pop()\n",
    "\n",
    "    print(answer)\n",
    "    return sum((answer[X], answer[Y], answer[Z]))\n",
    "\n",
    "\n",
    "assert part2(example_lines) == 47\n",
    "part2(input_lines)"
   ]
  },
  {
   "attachments": {},
   "cell_type": "markdown",
   "metadata": {},
   "source": [
    "dangerous copying paste the sympy print above lol. Doubled it for whatever reason!"
   ]
  },
  {
   "cell_type": "code",
   "execution_count": 125,
   "metadata": {},
   "outputs": [
    {
     "name": "stdout",
     "output_type": "stream",
     "text": [
      "{VX: 26, VY: -331, VZ: 53, X: 270392223533307, Y: 463714142194110, Z: 273041846062208}\n"
     ]
    },
    {
     "data": {
      "text/plain": [
       "1007148211789625"
      ]
     },
     "execution_count": 125,
     "metadata": {},
     "output_type": "execute_result"
    }
   ],
   "source": [
    "sym.init_printing(False)\n",
    "part2(input_lines)"
   ]
  }
 ],
 "metadata": {
  "kernelspec": {
   "display_name": "misc-practice",
   "language": "python",
   "name": "python3"
  },
  "language_info": {
   "codemirror_mode": {
    "name": "ipython",
    "version": 3
   },
   "file_extension": ".py",
   "mimetype": "text/x-python",
   "name": "python",
   "nbconvert_exporter": "python",
   "pygments_lexer": "ipython3",
   "version": "3.11.0"
  },
  "orig_nbformat": 4
 },
 "nbformat": 4,
 "nbformat_minor": 2
}
