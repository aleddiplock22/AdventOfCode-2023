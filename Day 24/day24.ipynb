{
 "cells": [
  {
   "attachments": {},
   "cell_type": "markdown",
   "metadata": {},
   "source": [
    "## Day 24 - Colliding hailstones"
   ]
  },
  {
   "attachments": {},
   "cell_type": "markdown",
   "metadata": {},
   "source": [
    "**Part 1: Disregarding z-axis, how many hailstones will collide between with an X and Y position each at least 200000000000000 and at most 400000000000000.**"
   ]
  },
  {
   "cell_type": "code",
   "execution_count": 7,
   "metadata": {},
   "outputs": [
    {
     "data": {
      "text/plain": [
       "['19, 13, 30 @ -2,  1, -2',\n",
       " '18, 19, 22 @ -1, -1, -2',\n",
       " '20, 25, 34 @ -2, -2, -4',\n",
       " '12, 31, 28 @ -1, -2, -1',\n",
       " '20, 19, 15 @  1, -5, -3']"
      ]
     },
     "execution_count": 7,
     "metadata": {},
     "output_type": "execute_result"
    }
   ],
   "source": [
    "with open(\"./example.txt\") as f:\n",
    "    example_lines = [line.strip() for line in f.readlines()]\n",
    "\n",
    "with open(\"./input.txt\") as f:\n",
    "    input_lines = [line.strip() for line in f.readlines()]\n",
    "\n",
    "example_lines"
   ]
  },
  {
   "cell_type": "code",
   "execution_count": 8,
   "metadata": {},
   "outputs": [],
   "source": [
    "def intersection_time1(x1, x2, y1, y2, vx1, vx2, vy1, vy2) -> float:\n",
    "    return (vx2*(y2-y1)+vy1*(x1-x2))/(vx2*vy1 - vx1*vy2)"
   ]
  },
  {
   "cell_type": "code",
   "execution_count": 9,
   "metadata": {},
   "outputs": [],
   "source": [
    "def intersection_time2(x1, x2, y1, y2, vx1, vx2, vy1, vy2) -> float:\n",
    "    return (y1 - y2 + (vy1/vx1)*(x2-x1))/(vy2 - (vx2/vx1))"
   ]
  },
  {
   "cell_type": "code",
   "execution_count": 10,
   "metadata": {},
   "outputs": [],
   "source": [
    "def position_at_time1(x1, y1, vx1, vy1, t1):\n",
    "    return (x1 + vx1*t1, y1 + vy1*t1)"
   ]
  },
  {
   "cell_type": "code",
   "execution_count": 11,
   "metadata": {},
   "outputs": [],
   "source": [
    "def position_at_time2(x2, y2, vx2, vy2, t2):\n",
    "    return (x2 + vx2*t2, y2 + vy2*t2)"
   ]
  },
  {
   "cell_type": "code",
   "execution_count": 35,
   "metadata": {},
   "outputs": [
    {
     "name": "stdout",
     "output_type": "stream",
     "text": [
      "\n",
      "x1=19 y1=13 x2=18 y2=19 vx1=-2 vy1=1 vx2=-1 vy2=-1\n",
      "Within! xval1= 15.666666666666666 yval1=14.666666666666666 t1=1.6666666666666667 | xval2= 14.333333333333334 yval2=15.333333333333334 t2=3.6666666666666665\n",
      "\n",
      "x1=19 y1=13 x2=20 y2=25 vx1=-2 vy1=1 vx2=-2 vy2=-2\n",
      "Within! xval1= 10.666666666666666 yval1=17.166666666666668 t1=4.166666666666667 | xval2= 11.666666666666666 yval2=16.666666666666664 t2=4.166666666666667\n",
      "\n",
      "x1=19 y1=13 x2=12 y2=31 vx1=-2 vy1=1 vx2=-1 vy2=-2\n",
      "OUtside! xval1= 14.6 yval1=15.2 t1=2.2 | xval2= 6.2 yval2=19.4 t2=5.8\n",
      "\n",
      "x1=19 y1=13 x2=20 y2=19 vx1=-2 vy1=1 vx2=1 vy2=-5\n",
      "OUtside! xval1= 20.11111111111111 yval1=12.444444444444445 t1=-0.5555555555555556 | xval2= 21.444444444444443 yval2=11.777777777777779 t2=1.4444444444444444\n",
      "\n",
      "no x1=18 y1=19 x2=20 y2=25\n",
      "\n",
      "x1=18 y1=19 x2=12 y2=31 vx1=-1 vy1=-1 vx2=-1 vy2=-2\n",
      "OUtside! xval1= 0.0 yval1=1.0 t1=18.0 | xval2= 6.0 yval2=19.0 t2=6.0\n",
      "\n",
      "x1=18 y1=19 x2=20 y2=19 vx1=-1 vy1=-1 vx2=1 vy2=-5\n",
      "OUtside! xval1= 18.333333333333332 yval1=19.333333333333332 t1=-0.3333333333333333 | xval2= 19.5 yval2=21.5 t2=-0.5\n",
      "\n",
      "x1=20 y1=25 x2=12 y2=31 vx1=-2 vy1=-2 vx2=-1 vy2=-2\n",
      "OUtside! xval1= -2.0 yval1=3.0 t1=11.0 | xval2= 6.4 yval2=19.8 t2=5.6\n",
      "\n",
      "x1=20 y1=25 x2=20 y2=19 vx1=-2 vy1=-2 vx2=1 vy2=-5\n",
      "OUtside! xval1= 19.0 yval1=24.0 t1=0.5 | xval2= 18.666666666666668 yval2=25.666666666666664 t2=-1.3333333333333333\n",
      "\n",
      "x1=12 y1=31 x2=20 y2=19 vx1=-1 vy1=-2 vx2=1 vy2=-5\n",
      "OUtside! xval1= 12.571428571428571 yval1=32.142857142857146 t1=-0.5714285714285714 | xval2= 13.0 yval2=54.0 t2=-7.0\n"
     ]
    }
   ],
   "source": [
    "from itertools import combinations\n",
    "\n",
    "def part1(lines: list[str], example: bool = False) -> int:\n",
    "    lower_bound = 7 if example else 200000000000000\n",
    "    upper_bound = 27 if example else 400000000000000\n",
    "\n",
    "    hailstones = [\n",
    "        tuple(map(int,\n",
    "                  (line.split(\",\")[0], line.split(\", \")[1], line.split(\"@ \")[-1].split(\",\")[0], line.split(\"@ \")[-1].split(\", \")[1])\n",
    "                  ))\n",
    "        for line in lines\n",
    "    ]  # (X, Y, vX, vY)\n",
    "\n",
    "    found = 0\n",
    "\n",
    "    for (x1, y1, vx1, vy1), (x2, y2, vx2, vy2) in combinations(hailstones, r=2):\n",
    "        print()\n",
    "        try:\n",
    "            t1 = intersection_time1(x1, x2, y1, y2, vx1, vx2, vy1, vy2)\n",
    "            t2 = intersection_time2(x1, x2, y1, y2, vx1, vx2, vy1, vy2)\n",
    "            print(f\"{x1=} {y1=} {x2=} {y2=} {vx1=} {vy1=} {vx2=} {vy2=}\")\n",
    "        except:\n",
    "            print(f\"no {x1=} {y1=} {x2=} {y2=}\")\n",
    "            continue\n",
    "        xval1, yval1 = position_at_time1(x1, y1, vx1, vy1, t1)\n",
    "        xval2, yval2 = position_at_time2(x2, y2, vx2, vy2, t2)\n",
    "        if (\n",
    "            # first intersection valid\n",
    "            lower_bound <= xval1 <= upper_bound\n",
    "            and lower_bound <= yval1 <= upper_bound\n",
    "            and t1 >= 0\n",
    "            # second intersection valid\n",
    "            and lower_bound <= xval2 <= upper_bound\n",
    "            and lower_bound <= yval2 <= upper_bound\n",
    "            and t2 >= 0\n",
    "        ):\n",
    "            print(f\"Within! {xval1= } {yval1=} {t1=} | {xval2= } {yval2=} {t2=}\")\n",
    "            found += 1\n",
    "        else:\n",
    "            pass\n",
    "            print(f\"OUtside! {xval1= } {yval1=} {t1=} | {xval2= } {yval2=} {t2=}\")\n",
    "\n",
    "    return found\n",
    "\n",
    "        \n",
    "\n",
    "assert part1(example_lines, example=True) == 2\n",
    "# part1(input_lines, example=False)  # 4152 is too low\n"
   ]
  },
  {
   "cell_type": "code",
   "execution_count": 27,
   "metadata": {},
   "outputs": [
    {
     "name": "stdout",
     "output_type": "stream",
     "text": [
      "14799\n"
     ]
    }
   ],
   "source": [
    "class Hailstone:\n",
    "    def __init__(self, sx, sy, sz, vx, vy, vz):\n",
    "        self.sx = sx\n",
    "        self.sy = sy\n",
    "        self.sz = sz\n",
    "        self.vx = vx\n",
    "        self.vy = vy\n",
    "        self.vz = vz\n",
    "        \n",
    "        self.a = vy\n",
    "        self.b = -vx\n",
    "        self.c = vy * sx - vx * sy\n",
    "    \n",
    "    def __repr__(self):\n",
    "        return \"Hailstone{\" + f\"a={self.a}, b={self.b}, c={self.c}\" + \"}\"\n",
    "\n",
    "hailstones = [Hailstone(*map(int, line.replace(\"@\", \",\").split(\",\"))) for line in input_lines]\n",
    "\n",
    "total = 0\n",
    "\n",
    "for i, hs1 in enumerate(hailstones):\n",
    "    for hs2 in hailstones[:i]:\n",
    "        a1, b1, c1 = hs1.a, hs1.b, hs1.c\n",
    "        a2, b2, c2 = hs2.a, hs2.b, hs2.c\n",
    "        if a1 * b2 == b1 * a2:\n",
    "            continue\n",
    "        x = (c1 * b2 - c2 * b1) / (a1 * b2 - a2 * b1)\n",
    "        y = (c2 * a1 - c1 * a2) / (a1 * b2 - a2 * b1)\n",
    "        if 200000000000000 <= x <= 400000000000000 and 200000000000000 <= y <= 400000000000000:\n",
    "            if all((x - hs.sx) * hs.vx >= 0 and (y - hs.sy) * hs.vy >= 0 for hs in (hs1, hs2)):\n",
    "                total += 1\n",
    "\n",
    "print(total)"
   ]
  }
 ],
 "metadata": {
  "kernelspec": {
   "display_name": "misc-practice",
   "language": "python",
   "name": "python3"
  },
  "language_info": {
   "codemirror_mode": {
    "name": "ipython",
    "version": 3
   },
   "file_extension": ".py",
   "mimetype": "text/x-python",
   "name": "python",
   "nbconvert_exporter": "python",
   "pygments_lexer": "ipython3",
   "version": "3.11.0"
  },
  "orig_nbformat": 4
 },
 "nbformat": 4,
 "nbformat_minor": 2
}
