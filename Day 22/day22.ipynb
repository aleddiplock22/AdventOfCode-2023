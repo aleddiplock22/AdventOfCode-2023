{
 "cells": [
  {
   "attachments": {},
   "cell_type": "markdown",
   "metadata": {},
   "source": [
    "## Day 22 - 3D sand block simulation... :panik:"
   ]
  },
  {
   "cell_type": "code",
   "execution_count": 41,
   "metadata": {},
   "outputs": [
    {
     "data": {
      "text/plain": [
       "['1,0,1~1,2,1',\n",
       " '0,0,2~2,0,2',\n",
       " '0,2,3~2,2,3',\n",
       " '0,0,4~0,2,4',\n",
       " '2,0,5~2,2,5',\n",
       " '0,1,6~2,1,6',\n",
       " '1,1,8~1,1,9']"
      ]
     },
     "execution_count": 41,
     "metadata": {},
     "output_type": "execute_result"
    }
   ],
   "source": [
    "with open(\"./example.txt\") as f:\n",
    "    example_lines = [line.strip() for line in f.readlines()]\n",
    "\n",
    "with open(\"./input.txt\") as f:\n",
    "    input_lines = [line.strip() for line in f.readlines()]\n",
    "\n",
    "example_lines"
   ]
  },
  {
   "attachments": {},
   "cell_type": "markdown",
   "metadata": {},
   "source": [
    "Each row describes the coordinates of a block, starting from lowest z coord to highest.\n",
    "- format is x1,y1,z1~x2,y2,z2 to describe the volume that block spans\n",
    "\n",
    "Blocks are supported if there's at least one contact point below, otherwise they fall."
   ]
  },
  {
   "attachments": {},
   "cell_type": "markdown",
   "metadata": {},
   "source": [
    "**Part 1: Simulate such that all the blocks settle (some haven't 'landed' down yet) and then find out how many blocks can be removed without things falling down!**"
   ]
  },
  {
   "cell_type": "code",
   "execution_count": 77,
   "metadata": {},
   "outputs": [],
   "source": [
    "from dataclasses import dataclass\n",
    "\n",
    "@dataclass\n",
    "class Brick():\n",
    "    x: tuple[int, int]\n",
    "    y: tuple[int, int]\n",
    "    z: tuple[int, int]\n",
    "\n",
    "    def can_balance_on_this(self, other_brick: 'Brick'):\n",
    "        z1s, z1e = self.z\n",
    "        z2s, z2e = other_brick.z\n",
    "\n",
    "        return z2s in range(z1s, z1e) or z2e in range(z1s, z1e)\n",
    "\n",
    "    def fall_vertically_to_row(self, row: int):\n",
    "        z1, z2 = self.z\n",
    "        assert row < z1, f\"{row=} {z1=}\"\n",
    "        diff = z1 - row\n",
    "        self.z = (z1-diff, z2-diff)\n",
    "    \n",
    "    def overlap_horizontally(self, other_brick: 'Brick'):\n",
    "        return (\n",
    "            (\n",
    "            other_brick.x[0] in range(self.x[0], self.x[1]+1) or\n",
    "            other_brick.x[1] in range(self.x[0], self.x[1]+1) or\n",
    "            self.x[0] in range(other_brick.x[0], other_brick.x[1]+1) or\n",
    "            self.x[1] in range(other_brick.x[0], other_brick.x[1]+1)\n",
    "            ) and\n",
    "            (\n",
    "            other_brick.y[0] in range(self.y[0], self.y[1]+1) or\n",
    "            other_brick.y[1] in range(self.y[0], self.y[1]+1) or\n",
    "            self.y[0] in range(other_brick.y[0], other_brick.y[1]+1) or\n",
    "            self.y[1] in range(other_brick.y[0], other_brick.y[1]+1)\n",
    "            )\n",
    "        )"
   ]
  },
  {
   "cell_type": "code",
   "execution_count": 108,
   "metadata": {},
   "outputs": [],
   "source": [
    "class Stack():\n",
    "\n",
    "    def __init__(self, bricks: list[Brick]):\n",
    "        self.bricks: list[Brick] = bricks\n",
    "        bricks.sort(key=lambda b: b.z[0])\n",
    "        self.shift_bricks_down_as_far_as_they_can()\n",
    "\n",
    "    \n",
    "    def shift_bricks_down_as_far_as_they_can(self):\n",
    "        z_max = max([brick.z[1] for brick in self.bricks])\n",
    "\n",
    "        def set_flat_rows() -> dict[int, list[Brick]]:\n",
    "            flat_rows = {z:[] for z in range(1, z_max+1)}\n",
    "            for brick in self.bricks:\n",
    "                for z in range(brick.z[0], brick.z[1]+1):\n",
    "                    flat_rows[z].append(brick)\n",
    "            return flat_rows\n",
    "        \n",
    "        flat_rows = set_flat_rows()\n",
    "\n",
    "        for brick in self.bricks:\n",
    "            for z in range(brick.z[0]-1, 0, -1):\n",
    "                doesnt_overlap = True\n",
    "                for sub_brick in flat_rows[z]:\n",
    "                    if brick != sub_brick:\n",
    "                        doesnt_overlap = not sub_brick.overlap_horizontally(brick)\n",
    "                if doesnt_overlap:\n",
    "                    brick.fall_vertically_to_row(z)\n",
    "                    flat_rows = set_flat_rows()\n",
    "                else:\n",
    "                    # must be an overlap\n",
    "                    break\n"
   ]
  },
  {
   "cell_type": "code",
   "execution_count": 109,
   "metadata": {},
   "outputs": [],
   "source": [
    "example_bricks = []\n",
    "for line in example_lines:\n",
    "    l, r = line.split(\"~\")\n",
    "    lx, ly, lz = map(int, l.split(\",\"))\n",
    "    rx, ry, rz = map(int, r.split(\",\"))\n",
    "    example_bricks.append(\n",
    "        Brick((lx, rx), (ly, ry), (lz, rz))\n",
    "    )\n",
    "example_stack = Stack(example_bricks)"
   ]
  },
  {
   "cell_type": "code",
   "execution_count": 111,
   "metadata": {},
   "outputs": [],
   "source": [
    "# SET UP (slow to run so get it defined etc.)\n",
    "\n",
    "assert False, \"Put it here to avoid overwriting input_stack lol. Can't be waiting another couple minutes!\"\n",
    "\n",
    "bricks = []\n",
    "for line in input_lines:\n",
    "    l, r = line.split(\"~\")\n",
    "    lx, ly, lz = map(int, l.split(\",\"))\n",
    "    rx, ry, rz = map(int, r.split(\",\"))\n",
    "    bricks.append(\n",
    "        Brick((lx, rx), (ly, ry), (lz, rz))\n",
    "    )\n",
    "input_stack = Stack(bricks)"
   ]
  },
  {
   "cell_type": "code",
   "execution_count": 125,
   "metadata": {},
   "outputs": [
    {
     "data": {
      "text/plain": [
       "973"
      ]
     },
     "execution_count": 125,
     "metadata": {},
     "output_type": "execute_result"
    }
   ],
   "source": [
    "def part1(example: bool = True):\n",
    "    if example:\n",
    "        stack = example_stack\n",
    "    else:\n",
    "        stack = input_stack\n",
    "\n",
    "    \n",
    "    z_max = max([brick.z[1] for brick in stack.bricks])\n",
    "    flat_rows = {z:[] for z in range(1, z_max+1)}\n",
    "    for brick in stack.bricks:\n",
    "        for z in range(brick.z[0], brick.z[1]+1):\n",
    "            flat_rows[z].append(brick)\n",
    "\n",
    "    total = 0\n",
    "    for brick in stack.bricks:\n",
    "        z_above = brick.z[1] + 1\n",
    "        if z_above in flat_rows:\n",
    "            stability = []\n",
    "            for other_brick in flat_rows[z_above]:\n",
    "                z_below_other = other_brick.z[0] - 1\n",
    "                if z_below_other == 0:\n",
    "                    stability.append(True)\n",
    "                    break\n",
    "                assert isinstance(other_brick, Brick)\n",
    "                stability.append(\n",
    "                    any(\n",
    "                        other_brick.overlap_horizontally(support_brick)\n",
    "                        for support_brick in flat_rows[z_below_other]\n",
    "                        if brick != support_brick and support_brick.z[1] == z_below_other\n",
    "                    )\n",
    "                )\n",
    "            if all(stability):\n",
    "                total += 1\n",
    "        else:\n",
    "            # top rows can always be removed right?\n",
    "            total += 1\n",
    "    \n",
    "    return total               \n",
    "                \n",
    "    \n",
    "\n",
    "assert part1(example=True)\n",
    "part1(example = False) # on real input, 974 is TOO HIGH\n"
   ]
  }
 ],
 "metadata": {
  "kernelspec": {
   "display_name": "misc-practice",
   "language": "python",
   "name": "python3"
  },
  "language_info": {
   "codemirror_mode": {
    "name": "ipython",
    "version": 3
   },
   "file_extension": ".py",
   "mimetype": "text/x-python",
   "name": "python",
   "nbconvert_exporter": "python",
   "pygments_lexer": "ipython3",
   "version": "3.11.0"
  },
  "orig_nbformat": 4
 },
 "nbformat": 4,
 "nbformat_minor": 2
}
