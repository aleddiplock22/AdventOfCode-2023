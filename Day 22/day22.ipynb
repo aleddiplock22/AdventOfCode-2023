{
 "cells": [
  {
   "attachments": {},
   "cell_type": "markdown",
   "metadata": {},
   "source": [
    "## Day 22 - 3D sand block simulation... :panik:"
   ]
  },
  {
   "cell_type": "code",
   "execution_count": 41,
   "metadata": {},
   "outputs": [
    {
     "data": {
      "text/plain": [
       "['1,0,1~1,2,1',\n",
       " '0,0,2~2,0,2',\n",
       " '0,2,3~2,2,3',\n",
       " '0,0,4~0,2,4',\n",
       " '2,0,5~2,2,5',\n",
       " '0,1,6~2,1,6',\n",
       " '1,1,8~1,1,9']"
      ]
     },
     "execution_count": 41,
     "metadata": {},
     "output_type": "execute_result"
    }
   ],
   "source": [
    "with open(\"./example.txt\") as f:\n",
    "    example_lines = [line.strip() for line in f.readlines()]\n",
    "\n",
    "with open(\"./input.txt\") as f:\n",
    "    input_lines = [line.strip() for line in f.readlines()]\n",
    "\n",
    "example_lines"
   ]
  },
  {
   "attachments": {},
   "cell_type": "markdown",
   "metadata": {},
   "source": [
    "Each row describes the coordinates of a block, starting from lowest z coord to highest.\n",
    "- format is x1,y1,z1~x2,y2,z2 to describe the volume that block spans\n",
    "\n",
    "Blocks are supported if there's at least one contact point below, otherwise they fall."
   ]
  },
  {
   "attachments": {},
   "cell_type": "markdown",
   "metadata": {},
   "source": [
    "**Part 1: Simulate such that all the blocks settle (some haven't 'landed' down yet) and then find out how many blocks can be removed without things falling down!**"
   ]
  },
  {
   "cell_type": "code",
   "execution_count": 53,
   "metadata": {},
   "outputs": [],
   "source": [
    "from dataclasses import dataclass\n",
    "\n",
    "@dataclass\n",
    "class Brick():\n",
    "    x: tuple[int, int]\n",
    "    y: tuple[int, int]\n",
    "    z: tuple[int, int]\n",
    "\n",
    "    def can_balance_on_this(self, other_brick: 'Brick'):\n",
    "        z1s, z1e = self.z\n",
    "        z2s, z2e = other_brick.z\n",
    "\n",
    "        return z2s in range(z1s, z1e) or z2e in range(z1s, z1e)\n",
    "\n",
    "    def fall_vertically_to_row(self, row: int):\n",
    "        z1, z2 = self.z\n",
    "        assert row < z1, f\"{row=} {z1=}\"\n",
    "        diff = z1 - row\n",
    "        self.z = (z1-diff, z2-diff)\n",
    "    \n",
    "    def overlap_horizontally(self, other_brick: 'Brick'):\n",
    "        return (\n",
    "            other_brick.x[0] in range(self.x[0], self.x[1]+1) or\n",
    "            other_brick.x[1] in range(self.x[0], self.x[1]+1) or\n",
    "            other_brick.y[0] in range(self.y[0], self.y[1]+1) or\n",
    "            other_brick.y[1] in range(self.y[0], self.y[1]+1)\n",
    "        )"
   ]
  },
  {
   "cell_type": "code",
   "execution_count": 59,
   "metadata": {},
   "outputs": [],
   "source": [
    "class Stack():\n",
    "\n",
    "    def __init__(self, bricks: list[Brick]):\n",
    "        self.bricks: list[Brick] = bricks\n",
    "        bricks.sort(key=lambda b: b.z[0])\n",
    "        self.shift_bricks_down_as_far_as_they_can()\n",
    "\n",
    "    \n",
    "    def shift_bricks_down_as_far_as_they_can(self):\n",
    "        z_max = max([brick.z[1] for brick in self.bricks])\n",
    "\n",
    "        def set_flat_rows() -> dict[int, list[Brick]]:\n",
    "            flat_rows = {z:[] for z in range(1, z_max+1)}\n",
    "            for brick in self.bricks:\n",
    "                for z in range(brick.z[0], brick.z[1]+1):\n",
    "                    flat_rows[z].append(brick)\n",
    "            return flat_rows\n",
    "        \n",
    "        flat_rows = set_flat_rows()\n",
    "        for brick in self.bricks:\n",
    "            for z in range(1, brick.z[0]+1):\n",
    "                if brick.z[0] == z:\n",
    "                    break\n",
    "                doesnt_overlap = True\n",
    "                for sub_brick in flat_rows[z]:\n",
    "                    doesnt_overlap = not sub_brick.overlap_horizontally(brick)\n",
    "                    if not doesnt_overlap:\n",
    "                        break\n",
    "                if doesnt_overlap:\n",
    "                    brick.fall_vertically_to_row(z)\n",
    "                    flat_rows = set_flat_rows()\n",
    "                    break\n"
   ]
  },
  {
   "cell_type": "code",
   "execution_count": 60,
   "metadata": {},
   "outputs": [
    {
     "name": "stdout",
     "output_type": "stream",
     "text": [
      "[Brick(x=(1, 1), y=(0, 2), z=(1, 1)), Brick(x=(0, 2), y=(0, 0), z=(2, 2)), Brick(x=(0, 2), y=(2, 2), z=(3, 3)), Brick(x=(0, 0), y=(0, 2), z=(4, 4)), Brick(x=(2, 2), y=(0, 2), z=(5, 5)), Brick(x=(0, 2), y=(1, 1), z=(6, 6)), Brick(x=(1, 1), y=(1, 1), z=(7, 8))]\n"
     ]
    }
   ],
   "source": [
    "def part1(lines: list[str]):\n",
    "    bricks = []\n",
    "    for line in lines:\n",
    "        l, r = line.split(\"~\")\n",
    "        lx, ly, lz = map(int, l.split(\",\"))\n",
    "        rx, ry, rz = map(int, r.split(\",\"))\n",
    "        bricks.append(\n",
    "            Brick((lx, rx), (ly, ry), (lz, rz))\n",
    "        )\n",
    "\n",
    "    stack = Stack(bricks)\n",
    "\n",
    "    print(stack.bricks)\n",
    "\n",
    "part1(example_lines)\n",
    "# part1(input_lines)\n"
   ]
  },
  {
   "cell_type": "code",
   "execution_count": 61,
   "metadata": {},
   "outputs": [
    {
     "data": {
      "text/plain": [
       "range(1, 2)"
      ]
     },
     "execution_count": 61,
     "metadata": {},
     "output_type": "execute_result"
    }
   ],
   "source": [
    "range((1, 2)[0], (1,2)[1])"
   ]
  },
  {
   "cell_type": "code",
   "execution_count": null,
   "metadata": {},
   "outputs": [
    {
     "data": {
      "text/plain": [
       "False"
      ]
     },
     "execution_count": 38,
     "metadata": {},
     "output_type": "execute_result"
    }
   ],
   "source": [
    "2 in range(1,2)"
   ]
  }
 ],
 "metadata": {
  "kernelspec": {
   "display_name": "misc-practice",
   "language": "python",
   "name": "python3"
  },
  "language_info": {
   "codemirror_mode": {
    "name": "ipython",
    "version": 3
   },
   "file_extension": ".py",
   "mimetype": "text/x-python",
   "name": "python",
   "nbconvert_exporter": "python",
   "pygments_lexer": "ipython3",
   "version": "3.11.0"
  },
  "orig_nbformat": 4
 },
 "nbformat": 4,
 "nbformat_minor": 2
}
