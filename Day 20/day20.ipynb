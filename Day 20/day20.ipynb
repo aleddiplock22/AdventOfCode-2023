{
 "cells": [
  {
   "attachments": {},
   "cell_type": "markdown",
   "metadata": {},
   "source": [
    "## Day 20 - Modules & Pulses"
   ]
  },
  {
   "attachments": {},
   "cell_type": "markdown",
   "metadata": {},
   "source": [
    "**Part 1: Multiply the total amount of low beam by the total amount of high beam after 1000 button presses**"
   ]
  },
  {
   "attachments": {},
   "cell_type": "markdown",
   "metadata": {},
   "source": [
    "Start with low pulse\n",
    "\n",
    "Modules:\n",
    "- `broadcaster` just sends one to many as specified\n",
    "- `%` flip-flop modules. Either *on* or *off* (initially off). If flip flop recieves HIGH, do nothing. If flip flop recieves LOW:\n",
    "  - If it was **off**, it turns *on* and sends a **high** pulse. If it was **on** it turns *off* and sends a **low** pulse.\n",
    "- `&` Conjunction modules. Remember the type of the most recent pulse recieved from *each* of their connected input modules. Initially default ot remembering a *low pulse* for each.\n",
    "  - When a pulse is recieved, conjunction updates its memory for *THAT* input\n",
    "    - Then if it remembers *high pulses* for all inputs, it sends a *low pulse*, otherwise it sends a *high pulse*.\n",
    "\n",
    "When press button, you send a single *low pulse* directly to the `broadcaster` module.\n",
    "After pressing you wait until all pulses delievered and fully handled before pushing it again.\n",
    "!! Pulses are always processed *in the order they are sent*."
   ]
  },
  {
   "cell_type": "code",
   "execution_count": 2,
   "metadata": {},
   "outputs": [
    {
     "data": {
      "text/plain": [
       "['broadcaster -> a, b, c', '%a -> b', '%b -> c', '%c -> inv', '&inv -> a']"
      ]
     },
     "execution_count": 2,
     "metadata": {},
     "output_type": "execute_result"
    }
   ],
   "source": [
    "with open(\"./example1.txt\") as f:\n",
    "    example1_lines = [line.strip() for line in f.readlines()]\n",
    "\n",
    "with open(\"./example2.txt\") as f:\n",
    "    example2_lines = [line.strip() for line in f.readlines()]\n",
    "\n",
    "with open(\"./input.txt\") as f:\n",
    "    input_lines = [line.strip() for line in f.readlines()]\n",
    "\n",
    "example1_lines"
   ]
  },
  {
   "cell_type": "code",
   "execution_count": 3,
   "metadata": {},
   "outputs": [],
   "source": [
    "def get_mappings(lines: list[str]) -> dict:\n",
    "    mappings = {}\n",
    "\n",
    "    for line in lines:\n",
    "        src, dest = line.split(\" -> \")\n",
    "        dest = dest.split(\", \")\n",
    "\n",
    "        if src == \"broadcaster\":\n",
    "            mappings[src] = dest\n",
    "        elif src[0] == \"%\":\n",
    "            mappings[src[1:]] = (src[0], dest, False)  # % type [...] destination(s) False state (off!)\n",
    "        elif src[0] == \"&\":\n",
    "            mappings[src[1:]] = (src[0], dest, {})\n",
    "        else:\n",
    "            raise ValueError(\"what kind of prefix is this?\", src[0])\n",
    "\n",
    "    nodes = [k for k in mappings.keys() if k != \"broadcaster\"]\n",
    "    for k, v in mappings.items():\n",
    "        if k == \"broadcaster\":\n",
    "            continue\n",
    "        type_, dest, _ = v\n",
    "        if type_ == \"&\":\n",
    "            connected_inputs = []\n",
    "            for node in nodes:\n",
    "                _, tmp_dest, _ = mappings[node]\n",
    "                if k in tmp_dest:\n",
    "                    connected_inputs.append(node)\n",
    "            states = {node: False for node in connected_inputs}\n",
    "            mappings[k] = (type_, dest, states)\n",
    "    \n",
    "    return mappings"
   ]
  },
  {
   "cell_type": "code",
   "execution_count": 4,
   "metadata": {},
   "outputs": [],
   "source": [
    "from dataclasses import dataclass\n",
    "\n",
    "@dataclass\n",
    "class Pulse:\n",
    "    loc: str\n",
    "    from_loc: str\n",
    "    low: bool = True\n",
    "\n",
    "    def flip(self):\n",
    "        self.low = not self.low"
   ]
  },
  {
   "cell_type": "code",
   "execution_count": 5,
   "metadata": {},
   "outputs": [
    {
     "name": "stdout",
     "output_type": "stream",
     "text": [
      "low_count=8000 high_count=4000, low_count*high_count=32000000\n",
      "low_count=4250 high_count=2750, low_count*high_count=11687500\n",
      "low_count=17422 high_count=48202, low_count*high_count=839775244\n"
     ]
    },
    {
     "data": {
      "text/plain": [
       "839775244"
      ]
     },
     "execution_count": 5,
     "metadata": {},
     "output_type": "execute_result"
    }
   ],
   "source": [
    "from collections import deque\n",
    "\n",
    "def part1(lines: list[str]) -> int:\n",
    "    mappings = get_mappings(lines)\n",
    "\n",
    "    conjunctions = []\n",
    "    for k, v in mappings.items():\n",
    "        if k == \"broadcaster\":\n",
    "            continue\n",
    "        (t, _, _) = v\n",
    "        if t == \"&\":\n",
    "            conjunctions.append(k)\n",
    "\n",
    "    low_count = 0\n",
    "    high_count = 0\n",
    "\n",
    "    pulses = deque([])\n",
    "    for _ in range(1000):\n",
    "\n",
    "        # button press to broadcaster\n",
    "        low_count += 1\n",
    "        # Ok we're now ready to play\n",
    "        for loc in mappings[\"broadcaster\"]:\n",
    "            low_count += 1\n",
    "            pulses.append(Pulse(loc=loc, from_loc=\"broadcaster\"))\n",
    "\n",
    "\n",
    "        # get through current batch\n",
    "        while pulses:\n",
    "            pulse = pulses.popleft()\n",
    "            assert isinstance(pulse, Pulse)\n",
    "\n",
    "            if pulse.loc not in mappings:\n",
    "                # at a dead end sort i think let it die\n",
    "                continue\n",
    "            \n",
    "            type_, dest, state = mappings[pulse.loc]\n",
    "\n",
    "            if type_ == \"%\":\n",
    "                if pulse.low:\n",
    "                    state = not state\n",
    "                    mappings[pulse.loc] = (type_, dest, state)\n",
    "                    if state:\n",
    "                        # if now ON, sends a high pulse\n",
    "                        pulse.low = False\n",
    "                \n",
    "                    for d in dest:\n",
    "                        if pulse.low:\n",
    "                            low_count += 1\n",
    "                        else:\n",
    "                            high_count += 1\n",
    "                        pulses.append(\n",
    "                            Pulse(loc=d, from_loc=pulse.loc, low=pulse.low)\n",
    "                        )\n",
    "                # if it recieves a high do nothing\n",
    "            elif type_ == \"&\":\n",
    "                # conjunction module\n",
    "                assert isinstance(state, dict)\n",
    "                state[pulse.from_loc] = not pulse.low\n",
    "                if all(high for high in state.values()):\n",
    "                    # all high values -> send low pulse\n",
    "                    low=True\n",
    "                else:\n",
    "                    low=False\n",
    "                for d in dest:\n",
    "                    if low:\n",
    "                        low_count += 1\n",
    "                    else:\n",
    "                        high_count += 1\n",
    "                    pulses.append(\n",
    "                        Pulse(loc=d, from_loc=pulse.loc, low=low)\n",
    "                    )\n",
    "            else:\n",
    "                raise RuntimeError(f\"what's going on: {type_=}\")\n",
    "            \n",
    "    print(f\"{low_count=} {high_count=}, {low_count*high_count=}\")\n",
    "\n",
    "    return low_count*high_count\n",
    "\n",
    "assert part1(example1_lines) == 32000000\n",
    "assert part1(example2_lines) == 11687500\n",
    "part1(input_lines)"
   ]
  },
  {
   "attachments": {},
   "cell_type": "markdown",
   "metadata": {},
   "source": [
    "**Part 2- final machine responsible for moving sand is named `rx`. THe machine turns on when a single low pulse is sent to `rx`**\n",
    "\n",
    "Reset all modules to their default states. Waiting for all pulses to be fully handled after each button press... what is the fewest number of BUTTON PRESSES required to deliver a single *LOW PULSE* to the module named `rx`?"
   ]
  },
  {
   "cell_type": "code",
   "execution_count": 17,
   "metadata": {},
   "outputs": [
    {
     "data": {
      "text/plain": [
       "207787533680413"
      ]
     },
     "execution_count": 17,
     "metadata": {},
     "output_type": "execute_result"
    }
   ],
   "source": [
    "from collections import deque\n",
    "import math\n",
    "\n",
    "def part2(lines: list[str]) -> int:\n",
    "    mappings = get_mappings(lines)\n",
    "\n",
    "    conjunctions = []\n",
    "    for k, v in mappings.items():\n",
    "        if k == \"broadcaster\":\n",
    "            continue\n",
    "        (t, _, _) = v\n",
    "        if t == \"&\":\n",
    "            conjunctions.append(k)\n",
    "\n",
    "    pulses = deque([])\n",
    "\n",
    "    (feed,) = [name for name, mapping in mappings.items() if \"rx\" in mapping[1]]\n",
    "\n",
    "    cycle_lengths = {}\n",
    "\n",
    "    seen = {name: 0 for name, mapping in mappings.items() if feed in mapping[1]}\n",
    "\n",
    "    button_presses = 0\n",
    "    while True:\n",
    "        button_presses += 1\n",
    "\n",
    "        for loc in mappings[\"broadcaster\"]:\n",
    "            pulses.append(Pulse(loc=loc, from_loc=\"broadcaster\"))\n",
    "\n",
    "        while pulses:\n",
    "            pulse = pulses.popleft()\n",
    "            assert isinstance(pulse, Pulse)\n",
    "\n",
    "            if pulse.loc not in mappings:\n",
    "                continue\n",
    "            \n",
    "            type_, dest, state = mappings[pulse.loc]\n",
    "\n",
    "            if pulse.loc == feed and not pulse.low:\n",
    "                # this means we're going to feed into \"rx\" but with a high beam\n",
    "                seen[pulse.from_loc] += 1\n",
    "\n",
    "                if pulse.from_loc not in cycle_lengths:\n",
    "                    # define cycle\n",
    "                    cycle_lengths[pulse.from_loc] = button_presses\n",
    "                else:\n",
    "                    # ensure cycle assumption\n",
    "                    assert button_presses == seen[pulse.from_loc] * cycle_lengths[pulse.from_loc]\n",
    "                \n",
    "            if all(seen.values()):\n",
    "                return math.lcm(*cycle_lengths.values())\n",
    "\n",
    "\n",
    "            if type_ == \"%\":\n",
    "                if pulse.low:\n",
    "                    state = not state\n",
    "                    mappings[pulse.loc] = (type_, dest, state)\n",
    "                    if state:\n",
    "                        # if now ON, sends a high pulse\n",
    "                        pulse.low = False\n",
    "                \n",
    "                    for d in dest:\n",
    "                        if d == \"rx\" and pulse.low:\n",
    "                            return button_presses\n",
    "\n",
    "                        pulses.append(\n",
    "                            Pulse(loc=d, from_loc=pulse.loc, low=pulse.low)\n",
    "                        )\n",
    "\n",
    "            else:\n",
    "                # conjunction module\n",
    "                assert isinstance(state, dict)\n",
    "                state[pulse.from_loc] = not pulse.low\n",
    "                if all(high for high in state.values()):\n",
    "                    # all high values -> send low pulse\n",
    "                    low=True\n",
    "                else:\n",
    "                    low=False\n",
    "                for d in dest:\n",
    "                    if d == \"rx\" and low:\n",
    "                        return button_presses\n",
    "                    pulses.append(\n",
    "                        Pulse(loc=d, from_loc=pulse.loc, low=low)\n",
    "                    )\n",
    "\n",
    "part2(input_lines)"
   ]
  },
  {
   "attachments": {},
   "cell_type": "markdown",
   "metadata": {},
   "source": [
    "not a fan of part2"
   ]
  }
 ],
 "metadata": {
  "kernelspec": {
   "display_name": "misc-practice",
   "language": "python",
   "name": "python3"
  },
  "language_info": {
   "codemirror_mode": {
    "name": "ipython",
    "version": 3
   },
   "file_extension": ".py",
   "mimetype": "text/x-python",
   "name": "python",
   "nbconvert_exporter": "python",
   "pygments_lexer": "ipython3",
   "version": "3.11.0"
  },
  "orig_nbformat": 4
 },
 "nbformat": 4,
 "nbformat_minor": 2
}
