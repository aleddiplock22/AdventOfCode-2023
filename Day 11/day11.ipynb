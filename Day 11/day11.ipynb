{
 "cells": [
  {
   "attachments": {},
   "cell_type": "markdown",
   "metadata": {},
   "source": [
    "## Day 11 - Distances between galaxies!"
   ]
  },
  {
   "cell_type": "code",
   "execution_count": 70,
   "metadata": {},
   "outputs": [],
   "source": [
    "with open(\"./example.txt\") as f:\n",
    "    examples_lines = [line.strip() for line in f.readlines()]\n",
    "with open(\"./input.txt\") as f:\n",
    "    input_lines = [line.strip() for line in f.readlines()]"
   ]
  },
  {
   "cell_type": "code",
   "execution_count": 71,
   "metadata": {},
   "outputs": [
    {
     "data": {
      "text/plain": [
       "['...#......',\n",
       " '.......#..',\n",
       " '#.........',\n",
       " '..........',\n",
       " '......#...',\n",
       " '.#........',\n",
       " '.........#',\n",
       " '..........',\n",
       " '.......#..',\n",
       " '#...#.....']"
      ]
     },
     "execution_count": 71,
     "metadata": {},
     "output_type": "execute_result"
    }
   ],
   "source": [
    "examples_lines"
   ]
  },
  {
   "cell_type": "code",
   "execution_count": 107,
   "metadata": {},
   "outputs": [],
   "source": [
    "import copy\n",
    "def expand_universe(lines: list[str]) -> list[str]:\n",
    "    \"\"\"\n",
    "    Returns an expanded universe.\n",
    "    \"\"\"\n",
    "    new_lines = copy.deepcopy(lines)\n",
    "    \n",
    "    # Fill horizontally\n",
    "    shifts = 0\n",
    "    for idx, line in enumerate(lines):\n",
    "        if all([debris == \".\" for debris in line]):\n",
    "            new_lines = (\n",
    "                new_lines[0:idx + shifts] + [\".\" * len(line)] + new_lines[shifts + idx:]\n",
    "            )\n",
    "            shifts += 1\n",
    "\n",
    "    # Fill vertically\n",
    "    v_shifts = 0\n",
    "    for idx in range(len(lines[0])):\n",
    "        if all([debris_line[idx] == \".\" for debris_line in lines]):\n",
    "            # print(new_lines[0], idx, idx + 1 + v_shifts)\n",
    "            # print(new_lines[0][0: idx + 1 + v_shifts])\n",
    "            # print(new_lines[0][0: idx + 1 + v_shifts] + \".\" + new_lines[0][idx + shifts:])\n",
    "            new_lines = [\n",
    "                line[0: idx + v_shifts] + \".\" + line[idx+v_shifts:]\n",
    "                for line in new_lines\n",
    "            ]\n",
    "            v_shifts += 1\n",
    "    \n",
    "    \n",
    "    return new_lines\n",
    "\n",
    "# expand_universe(examples_lines)"
   ]
  },
  {
   "cell_type": "code",
   "execution_count": 110,
   "metadata": {},
   "outputs": [
    {
     "data": {
      "text/plain": [
       "['.............',\n",
       " '.............',\n",
       " '.............',\n",
       " '.............',\n",
       " '.............',\n",
       " '.............',\n",
       " '.............',\n",
       " '.............',\n",
       " '.............',\n",
       " '.............',\n",
       " '....#######..',\n",
       " '.............',\n",
       " '.............',\n",
       " '.............',\n",
       " '.............',\n",
       " '.............',\n",
       " '.............',\n",
       " '.............',\n",
       " '.............']"
      ]
     },
     "execution_count": 110,
     "metadata": {},
     "output_type": "execute_result"
    }
   ],
   "source": [
    "with open(\"./example_expansion_first_last_row_col.txt\") as f:\n",
    "    example_expansion_lines = [line.strip() for line in f.readlines()]\n",
    "\n",
    "expand_universe(example_expansion_lines)"
   ]
  },
  {
   "cell_type": "code",
   "execution_count": 73,
   "metadata": {},
   "outputs": [
    {
     "data": {
      "text/plain": [
       "['....1........',\n",
       " '.........2...',\n",
       " '3............',\n",
       " '.............',\n",
       " '.............',\n",
       " '........4....',\n",
       " '.5...........',\n",
       " '............6',\n",
       " '.............',\n",
       " '.............',\n",
       " '.........7...',\n",
       " '8....9.......']"
      ]
     },
     "execution_count": 73,
     "metadata": {},
     "output_type": "execute_result"
    }
   ],
   "source": [
    "# Might as well number the galaxies as suggested for the sake of pairing!\n",
    "\n",
    "def number_galaxies(lines: list[str]) -> list[str]:\n",
    "    \"\"\"\n",
    "    Returns fresh set of lines and also the count of the galaxies\n",
    "    \"\"\"\n",
    "    galaxy_number = 1\n",
    "    new_lines = copy.deepcopy(lines)\n",
    "\n",
    "    for i in range(len(lines)):\n",
    "        finding = True\n",
    "        while finding:\n",
    "            if finding := (new_lines[i].find(\"#\") >= 0):\n",
    "                new_lines[i] = new_lines[i].replace(\"#\", str(galaxy_number), 1)\n",
    "                galaxy_number += 1\n",
    "\n",
    "    return new_lines\n",
    "\n",
    "number_galaxies(expand_universe(examples_lines))"
   ]
  },
  {
   "cell_type": "code",
   "execution_count": 74,
   "metadata": {},
   "outputs": [
    {
     "data": {
      "text/plain": [
       "[(0, 4), (1, 9), (2, 0), (5, 8), (6, 1), (7, 12), (10, 9), (11, 0), (11, 5)]"
      ]
     },
     "execution_count": 74,
     "metadata": {},
     "output_type": "execute_result"
    }
   ],
   "source": [
    "def locations_of_galaxies(lines: list[str]) -> list:\n",
    "    \"\"\"\n",
    "    returns list with (y,x) tuples where\n",
    "    (0,0) is top left\n",
    "    \"\"\"\n",
    "    locs = []\n",
    "    for y, line in enumerate(lines):\n",
    "        for x in range(len(line)):\n",
    "            if line[x] != \".\":\n",
    "                locs.append((y,x))\n",
    "    \n",
    "    return locs\n",
    "\n",
    "expanded_and_numbered_galaxy = number_galaxies(expand_universe(examples_lines))\n",
    "galaxy_locs = locations_of_galaxies(expanded_and_numbered_galaxy)\n",
    "galaxy_locs"
   ]
  },
  {
   "cell_type": "code",
   "execution_count": 96,
   "metadata": {},
   "outputs": [
    {
     "data": {
      "text/plain": [
       "73934864"
      ]
     },
     "execution_count": 96,
     "metadata": {},
     "output_type": "execute_result"
    }
   ],
   "source": [
    "import itertools\n",
    "\n",
    "def part1(lines: list[str]) -> int:\n",
    "    \"\"\"\n",
    "    Sum of the distances\n",
    "    \"\"\"\n",
    "    universe = number_galaxies(expand_universe(lines))\n",
    "    galaxy_locs = locations_of_galaxies(universe)\n",
    "\n",
    "    total_distances = 0\n",
    "    for galaxy_pair in itertools.combinations(galaxy_locs, r=2):\n",
    "        g1, g2 = galaxy_pair\n",
    "        y1, x1 = g1\n",
    "        y2, x2 = g2\n",
    "        total_distances += abs(x2-x1) + abs(y2-y1)\n",
    "        # total_distances += (\n",
    "        #     max(x1,x2) - min(x1, x2) + max(y1, y2) - min(y1, y2)\n",
    "        # )\n",
    "    \n",
    "    return total_distances\n",
    "\n",
    "assert part1(examples_lines) == 374\n",
    "part1(input_lines)  # why isn't the answer 73934864  :(((("
   ]
  },
  {
   "cell_type": "code",
   "execution_count": 101,
   "metadata": {},
   "outputs": [
    {
     "data": {
      "text/plain": [
       "['............',\n",
       " '............',\n",
       " '..#.........',\n",
       " '..#.........',\n",
       " '..#.........',\n",
       " '..#.........',\n",
       " '..########..',\n",
       " '..#.........',\n",
       " '..#.........',\n",
       " '..#.........',\n",
       " '............',\n",
       " '............']"
      ]
     },
     "execution_count": 101,
     "metadata": {},
     "output_type": "execute_result"
    }
   ],
   "source": [
    "with open(\"./example_expansion_first_last_row_col.txt\") as f:\n",
    "    example_expansion_lines = [line.strip() for line in f.readlines()]\n",
    "\n",
    "expand_universe(example_expansion_lines)"
   ]
  },
  {
   "cell_type": "code",
   "execution_count": 105,
   "metadata": {},
   "outputs": [
    {
     "data": {
      "text/plain": [
       "9742154"
      ]
     },
     "execution_count": 105,
     "metadata": {},
     "output_type": "execute_result"
    }
   ],
   "source": [
    "# honestly idk what could be going wrong but guess I'll change method???\n",
    "\n",
    "def part1_2(lines: list[str]) -> int:\n",
    "    empty_rows = [r for r, row in enumerate(lines) if all(ch == \".\" for ch in row)]\n",
    "    empty_cols = [c for c, col in enumerate(zip(*lines)) if all(ch == \".\" for ch in col)]\n",
    "\n",
    "    galaxy_points = [(r, c) for r, row in enumerate(lines) for c, ch in enumerate(row) if ch == \"#\"]\n",
    "\n",
    "    total = 0\n",
    "    scale = 2\n",
    "\n",
    "    for i, (r1, c1) in enumerate(galaxy_points):\n",
    "        for (r2, c2) in galaxy_points[:i]:\n",
    "            # so basically manually find the distance but by counting in a loop and double counting the 'empty row' entries!\n",
    "            for r in range(min(r1, r2), max(r1, r2)):\n",
    "                total += scale if r in empty_rows else 1\n",
    "            for c in range(min(c1, c2), max(c1, c2)):\n",
    "                total += scale if c in empty_cols else 1\n",
    "\n",
    "    return total            \n",
    "\n",
    "assert part1_2(examples_lines) == 374\n",
    "part1_2(input_lines) \n",
    "# lol this is a factor of 10 out from the first attempt, \n",
    "# no idea what could have other than like the expansion or double counting... but ???\n",
    "# ohhhhh I wonder if I was expanding the grid like more than once for the same row/col bc of replacement?\n",
    "\n",
    "# ugh checked and that doesn't seem to be it... stumped."
   ]
  },
  {
   "attachments": {},
   "cell_type": "markdown",
   "metadata": {},
   "source": [
    "**Part 2 - million times expansion instead!**"
   ]
  },
  {
   "cell_type": "code",
   "execution_count": 112,
   "metadata": {},
   "outputs": [
    {
     "data": {
      "text/plain": [
       "411142919886"
      ]
     },
     "execution_count": 112,
     "metadata": {},
     "output_type": "execute_result"
    }
   ],
   "source": [
    "# so tbf would've had to change strategy here anyway\n",
    "\n",
    "def part2(lines: list[str], scale = 1000000) -> int:\n",
    "    empty_rows = [r for r, row in enumerate(lines) if all(ch == \".\" for ch in row)]\n",
    "    empty_cols = [c for c, col in enumerate(zip(*lines)) if all(ch == \".\" for ch in col)]\n",
    "\n",
    "    galaxy_points = [(r, c) for r, row in enumerate(lines) for c, ch in enumerate(row) if ch == \"#\"]\n",
    "\n",
    "    total = 0\n",
    "\n",
    "    for i, (r1, c1) in enumerate(galaxy_points):\n",
    "        for (r2, c2) in galaxy_points[:i]:\n",
    "            # so basically manually find the distance but by counting in a loop and double counting the 'empty row' entries!\n",
    "            for r in range(min(r1, r2), max(r1, r2)):\n",
    "                total += scale if r in empty_rows else 1\n",
    "            for c in range(min(c1, c2), max(c1, c2)):\n",
    "                total += scale if c in empty_cols else 1\n",
    "\n",
    "    return total            \n",
    "\n",
    "assert part2(examples_lines, 10) == 1030\n",
    "assert part2(examples_lines, 100) == 8410\n",
    "part2(input_lines)"
   ]
  },
  {
   "attachments": {},
   "cell_type": "markdown",
   "metadata": {},
   "source": [
    "the mystery of the original part1 remains i guess!"
   ]
  }
 ],
 "metadata": {
  "kernelspec": {
   "display_name": "misc-practice",
   "language": "python",
   "name": "python3"
  },
  "language_info": {
   "codemirror_mode": {
    "name": "ipython",
    "version": 3
   },
   "file_extension": ".py",
   "mimetype": "text/x-python",
   "name": "python",
   "nbconvert_exporter": "python",
   "pygments_lexer": "ipython3",
   "version": "3.11.0"
  },
  "orig_nbformat": 4
 },
 "nbformat": 4,
 "nbformat_minor": 2
}
