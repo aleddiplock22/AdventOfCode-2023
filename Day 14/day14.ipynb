{
 "cells": [
  {
   "attachments": {},
   "cell_type": "markdown",
   "metadata": {},
   "source": [
    "## Day 14: Rolling rocks!"
   ]
  },
  {
   "attachments": {},
   "cell_type": "markdown",
   "metadata": {},
   "source": [
    "**Part 1, calculate the load which is SUM[round rocks] { dist_from_south(rock_i) }**"
   ]
  },
  {
   "attachments": {},
   "cell_type": "markdown",
   "metadata": {},
   "source": [
    "```\n",
    "O....#....\n",
    "O.OO#....#\n",
    ".....##...\n",
    "OO.#O....O\n",
    ".O.....O#.\n",
    "O.#..O.#.#\n",
    "..O..#O..O\n",
    ".......O..\n",
    "#....###..\n",
    "#OO..#....\n",
    "```\n",
    "\n",
    "becomes (+ distance numbers)\n",
    "\n",
    "```\n",
    "OOOO.#.O.. 10\n",
    "OO..#....#  9\n",
    "OO..O##..O  8\n",
    "O..#.OO...  7\n",
    "........#.  6\n",
    "..#....#.#  5\n",
    "..O..#.O.O  4\n",
    "..O.......  3\n",
    "#....###..  2\n",
    "#....#....  1\n",
    "```\n",
    "\n",
    "s.t. the total stress = 136"
   ]
  },
  {
   "cell_type": "code",
   "execution_count": 1,
   "metadata": {},
   "outputs": [
    {
     "data": {
      "text/plain": [
       "['O....#....',\n",
       " 'O.OO#....#',\n",
       " '.....##...',\n",
       " 'OO.#O....O',\n",
       " '.O.....O#.',\n",
       " 'O.#..O.#.#',\n",
       " '..O..#O..O',\n",
       " '.......O..',\n",
       " '#....###..',\n",
       " '#OO..#....']"
      ]
     },
     "execution_count": 1,
     "metadata": {},
     "output_type": "execute_result"
    }
   ],
   "source": [
    "with open(\"./example.txt\") as f:\n",
    "    example_lines = [line.strip() for line in f.readlines()]\n",
    "\n",
    "with open(\"./input.txt\") as f:\n",
    "    input_lines = [line.strip() for line in f.readlines()]\n",
    "\n",
    "example_lines"
   ]
  },
  {
   "cell_type": "code",
   "execution_count": 2,
   "metadata": {},
   "outputs": [
    {
     "name": "stdout",
     "output_type": "stream",
     "text": [
      "OO.O.O..## OOOO....##\n",
      "...OO....O OOO.......\n",
      ".O...#O..O O....#OO..\n",
      ".O.#...... O..#......\n",
      ".#.O...... .#O.......\n",
      "#.#..O#.## #.#O..#.##\n",
      "..#...O.#. ..#O....#.\n",
      "....O#.O#. O....#O.#.\n",
      "....#..... ....#.....\n",
      ".#.O.#O... .#O..#O...\n"
     ]
    }
   ],
   "source": [
    "from collections import deque\n",
    "\n",
    "def shift_string(string: str, index: int, to_move_indexes: deque[int]):\n",
    "    \"\"\"\n",
    "    To avoid sharing state, at first pass have to set index=0, to_move_indexes = deque([])\n",
    "    \"\"\"\n",
    "    if index == len(string):\n",
    "        if not isinstance(string, str):\n",
    "            string = \"\".join(string)\n",
    "            # cba to find out WHY it can even be a tuple here....   \n",
    "        return string, index, to_move_indexes\n",
    "\n",
    "    if string[index] == \"#\":\n",
    "        to_move_indexes = deque([])\n",
    "        return shift_string(string, index + 1, to_move_indexes)\n",
    "    \n",
    "    if string[index] == \".\":\n",
    "        to_move_indexes.append(index)\n",
    "        return shift_string(string, index+1, to_move_indexes)\n",
    "    \n",
    "    if string[index] == \"O\":\n",
    "        if len(to_move_indexes) > 0:\n",
    "            # Moving O from index to move_to_index\n",
    "            move_to_idx = to_move_indexes.popleft()\n",
    "            string_as_list = [*string]\n",
    "\n",
    "            string_as_list[index] = \".\"\n",
    "            to_move_indexes.append(index)\n",
    "            string_as_list[move_to_idx] = \"O\"\n",
    "\n",
    "            string = \"\".join(string_as_list)\n",
    "            return shift_string(string, index + 1, to_move_indexes)\n",
    "        else:\n",
    "            # leave it where it is then\n",
    "            return shift_string(string, index + 1, to_move_indexes)\n",
    "\n",
    "for string in [\n",
    "    'OO.O.O..##',\n",
    "    '...OO....O',\n",
    "    '.O...#O..O',\n",
    "    '.O.#......',\n",
    "    '.#.O......',\n",
    "    '#.#..O#.##',\n",
    "    '..#...O.#.',\n",
    "    '....O#.O#.',\n",
    "    '....#.....',\n",
    "    '.#.O.#O...',\n",
    "    ]:\n",
    "    tmp, _, _ = shift_string(string, 0, deque([]))\n",
    "    print(string, tmp)"
   ]
  },
  {
   "cell_type": "code",
   "execution_count": 3,
   "metadata": {},
   "outputs": [
    {
     "name": "stdout",
     "output_type": "stream",
     "text": [
      "24.5 ms ± 1.83 ms per loop (mean ± std. dev. of 7 runs, 10 loops each)\n"
     ]
    }
   ],
   "source": [
    "def part1(lines: list[str]):\n",
    "\n",
    "    shifted_cols = [\n",
    "        shift_string(col, 0, deque([]))[0] for col in zip(*lines)\n",
    "    ]\n",
    "\n",
    "    total = 0\n",
    "\n",
    "    for col in shifted_cols:\n",
    "        for i, ch in enumerate(col):\n",
    "            if ch == \"O\":\n",
    "                total += (len(col) - i)\n",
    "    \n",
    "    return total\n",
    "\n",
    "assert part1(example_lines) == 136\n",
    "%timeit part1(input_lines)"
   ]
  },
  {
   "attachments": {},
   "cell_type": "markdown",
   "metadata": {},
   "source": [
    "**Part 2: Oh god it's tilting NORTH, WEST, SOUTH, THEN EAST each cycle, and there are `1000000000` bloody cycle... What's the load on north after all that?**"
   ]
  },
  {
   "cell_type": "code",
   "execution_count": 4,
   "metadata": {},
   "outputs": [
    {
     "data": {
      "text/plain": [
       "['O....#....',\n",
       " 'O.OO#....#',\n",
       " '.....##...',\n",
       " 'OO.#O....O',\n",
       " '.O.....O#.',\n",
       " 'O.#..O.#.#',\n",
       " '..O..#O..O',\n",
       " '.......O..',\n",
       " '#....###..',\n",
       " '#OO..#....']"
      ]
     },
     "execution_count": 4,
     "metadata": {},
     "output_type": "execute_result"
    }
   ],
   "source": [
    "start = [\n",
    "        'O....#....',\n",
    "        'O.OO#....#',\n",
    "        '.....##...',\n",
    "        'OO.#O....O',\n",
    "        '.O.....O#.',\n",
    "        'O.#..O.#.#',\n",
    "        '..O..#O..O',\n",
    "        '.......O..',\n",
    "        '#....###..',\n",
    "        '#OO..#....'\n",
    "    ]\n",
    "N = [\n",
    "    \"\".join(row) for row in zip(*start)\n",
    "]\n",
    "W = [\"\".join(row) for row in zip(*N)]\n",
    "S = [\"\".join(row[::-1]) for row in zip(*W)]\n",
    "E = [\"\".join(row) for row in zip(*S)]\n",
    "start = [row for row in E.__reversed__()]\n",
    "start"
   ]
  },
  {
   "cell_type": "code",
   "execution_count": 80,
   "metadata": {},
   "outputs": [
    {
     "data": {
      "text/plain": [
       "118747"
      ]
     },
     "execution_count": 80,
     "metadata": {},
     "output_type": "execute_result"
    }
   ],
   "source": [
    "from copy import deepcopy\n",
    "\n",
    "def part2(lines: list[str]):\n",
    "    def cycle(lines: list[str]):\n",
    "        # TO NORTH\n",
    "        shifted_cols = [\n",
    "            shift_string(col, 0, deque([]))[0] for col in zip(*lines)\n",
    "        ]\n",
    "        # TO WEST\n",
    "        shifted_cols = [\n",
    "            shift_string(col, 0, deque([]))[0] for col in zip(*shifted_cols)\n",
    "        ]\n",
    "        \n",
    "        # At this point the orientation is all good.\n",
    "        # TO SOUTH\n",
    "        shifted_cols = [\n",
    "            shift_string(col[::-1], 0, deque([]))[0] for col in zip(*shifted_cols)\n",
    "        ]\n",
    "\n",
    "        # # TO EAST\n",
    "        shifted_cols = [\n",
    "            shift_string(col[::-1], 0, deque([]))[0][::-1] for col in zip(*shifted_cols)\n",
    "        ]\n",
    "        shifted_cols.reverse()\n",
    "        # orientation is as at start\n",
    "\n",
    "        return shifted_cols\n",
    "    \n",
    "\n",
    "    states = {}\n",
    "\n",
    "    lines_after_one_cycle = cycle(lines)\n",
    "\n",
    "    # HAVE VERIFIED CYCLE WORKS IN LINE WITH EXAMPLE !\n",
    "    # lines_after_one_cycle = cycle(lines_after_one_cycle)\n",
    "    # lines_after_one_cycle = cycle(lines_after_one_cycle)\n",
    "    # return ([\"\".join(x) for x in lines_after_one_cycle])\n",
    "\n",
    "\n",
    "    string_to_compare = \"\".join(lines_after_one_cycle)\n",
    "\n",
    "    states[string_to_compare] = (1, deepcopy(lines_after_one_cycle))\n",
    "\n",
    "    cycles = 1\n",
    "    input_to_alter = deepcopy(lines_after_one_cycle)\n",
    "    while True:\n",
    "        cycles += 1\n",
    "        input_to_alter = cycle(input_to_alter)\n",
    "        comparison_string = \"\".join(input_to_alter)\n",
    "        if comparison_string in states:\n",
    "            cycle_idx_1, cycle_val_1 = states[comparison_string]\n",
    "            assert comparison_string == \"\".join(cycle_val_1)\n",
    "            cycle_idx_2 = cycles\n",
    "            # print(f\"We found that equality with after {states[string_to_compare]} cycles, and after {cycles} cycles\")\n",
    "            break\n",
    "        else:\n",
    "            states[comparison_string] = (cycles, deepcopy(input_to_alter))\n",
    "\n",
    "        if cycles > 1000000:\n",
    "            # give it a mil I guess\n",
    "            print(\"over a mil cycles, let's give up?\")\n",
    "            return 0\n",
    "\n",
    "    left_to_do_at_end_of_known_cycle = 1e9 - cycle_idx_2\n",
    "\n",
    "    left_to_do_at_end_of_final_possible_cycle = left_to_do_at_end_of_known_cycle % (cycle_idx_2 - cycle_idx_1)\n",
    "\n",
    "    # we know that it repeates every cycle_idx_2 - cycle_idx_1\n",
    "    # so skip them by doing modulo\n",
    "\n",
    "    final_lines = cycle_val_1\n",
    "    \n",
    "    for _ in range(int(left_to_do_at_end_of_final_possible_cycle)):\n",
    "        final_lines = cycle(final_lines)\n",
    "\n",
    "    \n",
    "    shifted_cols = [\"\".join(col) for col in zip(*final_lines)]\n",
    "    total = 0\n",
    "    for col in shifted_cols:\n",
    "        for i, ch in enumerate(col):\n",
    "            if ch == \"O\":\n",
    "                total += (len(col) - i)\n",
    "    \n",
    "    return total\n",
    "    \n",
    "\n",
    "assert part2(example_lines) == 64\n",
    "part2(input_lines)  # 118752 isn't right"
   ]
  },
  {
   "attachments": {},
   "cell_type": "markdown",
   "metadata": {},
   "source": [
    "woo not too slow! Hardest bit was thinking about NESW tilting in a cycle lol, trying to keep orientation 'correct' at least by the end"
   ]
  },
  {
   "cell_type": "code",
   "execution_count": 25,
   "metadata": {},
   "outputs": [
    {
     "data": {
      "text/plain": [
       "['.....#....',\n",
       " '....#.O..#',\n",
       " 'O..O.##...',\n",
       " 'O.O#......',\n",
       " 'O.O....O#.',\n",
       " 'O.#..O.#.#',\n",
       " 'O....#....',\n",
       " 'OO....OO..',\n",
       " '#O...###..',\n",
       " '#O..O#....']"
      ]
     },
     "execution_count": 25,
     "metadata": {},
     "output_type": "execute_result"
    }
   ],
   "source": [
    "['.....#....',\n",
    " '....#.O..#',\n",
    " 'O..O.##...',\n",
    " 'O.O#......',\n",
    " 'O.O....O#.',\n",
    " 'O.#..O.#.#',\n",
    " 'O....#....',\n",
    " 'OO....OO..',\n",
    " '#O...###..',\n",
    " '#O..O#....']  # south"
   ]
  },
  {
   "cell_type": "code",
   "execution_count": 6,
   "metadata": {},
   "outputs": [
    {
     "data": {
      "text/plain": [
       "0"
      ]
     },
     "execution_count": 6,
     "metadata": {},
     "output_type": "execute_result"
    }
   ],
   "source": [
    "1000000000 % 4"
   ]
  },
  {
   "cell_type": "code",
   "execution_count": 7,
   "metadata": {},
   "outputs": [],
   "source": [
    "for i in range(0):\n",
    "    print(i)"
   ]
  },
  {
   "cell_type": "code",
   "execution_count": 73,
   "metadata": {},
   "outputs": [
    {
     "data": {
      "text/plain": [
       "6"
      ]
     },
     "execution_count": 73,
     "metadata": {},
     "output_type": "execute_result"
    }
   ],
   "source": [
    "90 % 7"
   ]
  },
  {
   "cell_type": "code",
   "execution_count": 71,
   "metadata": {},
   "outputs": [
    {
     "data": {
      "text/plain": [
       "94"
      ]
     },
     "execution_count": 71,
     "metadata": {},
     "output_type": "execute_result"
    }
   ],
   "source": [
    "10 + 7*12"
   ]
  }
 ],
 "metadata": {
  "kernelspec": {
   "display_name": "misc-practice",
   "language": "python",
   "name": "python3"
  },
  "language_info": {
   "codemirror_mode": {
    "name": "ipython",
    "version": 3
   },
   "file_extension": ".py",
   "mimetype": "text/x-python",
   "name": "python",
   "nbconvert_exporter": "python",
   "pygments_lexer": "ipython3",
   "version": "3.11.0"
  },
  "orig_nbformat": 4
 },
 "nbformat": 4,
 "nbformat_minor": 2
}
