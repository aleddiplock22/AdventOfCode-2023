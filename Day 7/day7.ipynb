{
 "cells": [
  {
   "attachments": {},
   "cell_type": "markdown",
   "metadata": {},
   "source": [
    "## Day 7: Camel Card game (poker-esque)"
   ]
  },
  {
   "attachments": {},
   "cell_type": "markdown",
   "metadata": {},
   "source": [
    "Part 1: have `hands bids` lines, rank all these, then do: SUM hand_rank_i * bid_i"
   ]
  },
  {
   "cell_type": "code",
   "execution_count": 175,
   "metadata": {},
   "outputs": [],
   "source": [
    "with open(\"./example.txt\") as f:\n",
    "    example_lines = [line.strip() for line in f.readlines()]\n",
    "\n",
    "with open(\"./input.txt\") as f:\n",
    "    input_lines = [line.strip() for line in f.readlines()]"
   ]
  },
  {
   "cell_type": "code",
   "execution_count": 176,
   "metadata": {},
   "outputs": [
    {
     "data": {
      "text/plain": [
       "['32T3K 765', 'T55J5 684', 'KK677 28', 'KTJJT 220', 'QQQJA 483']"
      ]
     },
     "execution_count": 176,
     "metadata": {},
     "output_type": "execute_result"
    }
   ],
   "source": [
    "example_lines"
   ]
  },
  {
   "attachments": {},
   "cell_type": "markdown",
   "metadata": {},
   "source": [
    "Idea:\n",
    "- Mappings from card to relative value such that we can use `sort`.\n",
    "- First have arrange into types, then do `sort` on the mapped tuples of hands\n",
    "  \n",
    "Types are Five of a kind, Four of a kind, Full house (3 | 2), Three of a kind, Two pair, One pair, High Card"
   ]
  },
  {
   "cell_type": "code",
   "execution_count": 177,
   "metadata": {},
   "outputs": [
    {
     "data": {
      "text/plain": [
       "(\"{'A': 13, 'K': 12, 'Q': 11, 'J': 10, 'T': 9, '9': 8, '8': 7, '7': 6, '6': 5, '5': 4, '4': 3, '3': 2, '2': 1}\",\n",
       " \"{13: 'A', 12: 'K', 11: 'Q', 10: 'J', 9: 'T', 8: '9', 7: '8', 6: '7', 5: '6', 4: '5', 3: '4', 2: '3', 1: '2'}\")"
      ]
     },
     "execution_count": 177,
     "metadata": {},
     "output_type": "execute_result"
    }
   ],
   "source": [
    "card_options = [\"A\", \"K\", \"Q\", \"J\", \"T\", \"9\", \"8\", \"7\", \"6\", \"5\", \"4\", \"3\", \"2\"]\n",
    "card_mapping = {\n",
    "    option: len(card_options)-i for i, option in enumerate(card_options)\n",
    "}\n",
    "mapping_to_card_mapping = {\n",
    "    len(card_options)-i:option for i, option in enumerate(card_options)\n",
    "}\n",
    "card_mapping.__str__(), mapping_to_card_mapping.__str__()"
   ]
  },
  {
   "cell_type": "code",
   "execution_count": 178,
   "metadata": {},
   "outputs": [],
   "source": [
    "FIVE = \"Five of a kind\"\n",
    "FOUR = \"Four of a kind\"\n",
    "FULL_HOUSE = \"Full house\"\n",
    "THREE = \"Three of a kind\"\n",
    "TWO = \"Two pair\"\n",
    "ONE = \"One pair\"\n",
    "HIGH = \"High Card\"\n",
    "# basically using this like an enum but cba with using python enum today\n",
    "\n",
    "hand_type_rankings = {\n",
    "    option: 7-i for i, option in enumerate(\n",
    "        [FIVE, FOUR, FULL_HOUSE, THREE, TWO, ONE, HIGH]\n",
    "    )\n",
    "}\n",
    "\n",
    "# {'Five of a kind': 7, 'Four of a kind': 6, 'Full house': 5, 'Three of a kind': 4, 'Two pair': 3, 'One pair': 2, 'High Card': 1}"
   ]
  },
  {
   "cell_type": "code",
   "execution_count": 179,
   "metadata": {},
   "outputs": [],
   "source": [
    "from collections import Counter\n",
    "\n",
    "def classify_hand(hand_string: str) -> str:\n",
    "    hand = [*hand_string]\n",
    "    assert len(hand) == 5, \"uh how many fingers does this man have?\"\n",
    "    hand_counter = Counter(hand)\n",
    "    if 5 in hand_counter.values():\n",
    "        return FIVE\n",
    "    if 4 in hand_counter.values():\n",
    "        return FOUR\n",
    "    if 3 in hand_counter.values() and 2 in hand_counter.values():\n",
    "        return FULL_HOUSE\n",
    "    if 3 in hand_counter.values():\n",
    "        return THREE\n",
    "    if Counter(hand_counter.values())[2] == 2:\n",
    "        return TWO\n",
    "    if 2 in hand_counter.values():\n",
    "        return ONE\n",
    "    else:\n",
    "        assert len(hand_counter.keys()) == 5\n",
    "        return HIGH"
   ]
  },
  {
   "cell_type": "code",
   "execution_count": 180,
   "metadata": {},
   "outputs": [],
   "source": [
    "def bucket_hands(hands_to_IDs: dict):\n",
    "    fives, fours, fulls, threes, twos, ones, highs = [], [], [], [], [], [], []\n",
    "\n",
    "    for hand in hands_to_IDs.keys():\n",
    "        classification = classify_hand(hand)\n",
    "        if classification == FIVE:\n",
    "            fives.append(hand)\n",
    "        elif classification == FOUR:\n",
    "            fours.append(hand)\n",
    "        elif classification == FULL_HOUSE:\n",
    "            fulls.append(hand)\n",
    "        elif classification == THREE:\n",
    "            threes.append(hand)\n",
    "        elif classification == TWO:\n",
    "            twos.append(hand)\n",
    "        elif classification == ONE:\n",
    "            ones.append(hand)\n",
    "        elif classification == HIGH:\n",
    "            highs.append(hand)\n",
    "        else:\n",
    "            raise ValueError(f\"What kind of hand is this? {hand}\")\n",
    "    \n",
    "    return fives, fours, fulls, threes, twos, ones, highs "
   ]
  },
  {
   "cell_type": "code",
   "execution_count": 181,
   "metadata": {},
   "outputs": [],
   "source": [
    "def map_func_for_hand_to_val(card: str) -> int:\n",
    "    return card_mapping[card]"
   ]
  },
  {
   "cell_type": "code",
   "execution_count": 182,
   "metadata": {},
   "outputs": [],
   "source": [
    "def map_func_for_val_to_hand(card_val: int) -> str:\n",
    "    return mapping_to_card_mapping[card_val]"
   ]
  },
  {
   "cell_type": "code",
   "execution_count": 183,
   "metadata": {},
   "outputs": [
    {
     "data": {
      "text/plain": [
       "('K', 'K', 'A', 'A', 'T')"
      ]
     },
     "execution_count": 183,
     "metadata": {},
     "output_type": "execute_result"
    }
   ],
   "source": [
    "v = \"KKAAT\"\n",
    "(*v,)"
   ]
  },
  {
   "cell_type": "code",
   "execution_count": 184,
   "metadata": {},
   "outputs": [],
   "source": [
    "def sort_hands(hands: list[str]) -> list[str]:\n",
    "    hands = [(*hand_str,) for hand_str in hands]\n",
    "    # converts hand str e.g. \"KKAAT\" to (\"K\", \"K\", \"A\", \"A\", \"T\")\n",
    "    # Input of form \n",
    "    # [('K', 'K', '6', '7', '7'), ('K', 'T', 'J', 'J', 'T')]\n",
    "    hands = [tuple(map(map_func_for_hand_to_val, hand)) for hand in hands]\n",
    "    hands.sort(reverse=True)  # get to use nice inbuilt python sort that prioritise 1st elem, then 2nd etc. etc.\n",
    "    # reverse = True means sort in descending order, so highest is at start of the list!\n",
    "    hands = [tuple(map(map_func_for_val_to_hand, hand)) for hand in hands]\n",
    "    hands = [\"\".join(hand_tuple) for hand_tuple in hands]\n",
    "    return hands\n"
   ]
  },
  {
   "cell_type": "code",
   "execution_count": 185,
   "metadata": {},
   "outputs": [
    {
     "data": {
      "text/plain": [
       "'KK677'"
      ]
     },
     "execution_count": 185,
     "metadata": {},
     "output_type": "execute_result"
    }
   ],
   "source": [
    "b = ('K', 'K', '6', '7', '7')\n",
    "\"\".join(b)"
   ]
  },
  {
   "cell_type": "code",
   "execution_count": 186,
   "metadata": {},
   "outputs": [
    {
     "data": {
      "text/plain": [
       "253313241"
      ]
     },
     "execution_count": 186,
     "metadata": {},
     "output_type": "execute_result"
    }
   ],
   "source": [
    "def part1(lines: list[str]):\n",
    "    hands_to_IDs = {}\n",
    "    IDs_to_bids = {}\n",
    "    for i, line in enumerate(lines):\n",
    "        hand, bid = line.split()\n",
    "        hands_to_IDs[hand] = i\n",
    "        IDs_to_bids[i] = int(bid)\n",
    "    # for the example this looks like:\n",
    "    # hands_to_IDs = {'32T3K': 0, 'T55J5': 1, 'KK677': 2, 'KTJJT': 3, 'QQQJA': 4}\n",
    "    # IDs_to_bids = {0: 765, 1: 684, 2: 28, 3: 220, 4: 483}\n",
    "    fives, fours, fulls, threes, twos, ones, highs = bucket_hands(hands_to_IDs)\n",
    "    fives, fours, fulls, threes, twos, ones, highs = (\n",
    "        sort_hands(fives),\n",
    "        sort_hands(fours),\n",
    "        sort_hands(fulls),\n",
    "        sort_hands(threes),\n",
    "        sort_hands(twos),\n",
    "        sort_hands(ones),\n",
    "        sort_hands(highs),\n",
    "    )\n",
    "    final_ordered_hands_list = fives + fours + fulls + threes + twos + ones + highs\n",
    "    \n",
    "    # Great we have an ordered list, now we can do our final answer\n",
    "    running_total = 0\n",
    "    for i, hand in enumerate(final_ordered_hands_list.__reversed__()):\n",
    "        hand_ID = hands_to_IDs[hand]\n",
    "        bid = IDs_to_bids[hand_ID]\n",
    "        # Realising I could've probably mapped hands : bids, oh well!\n",
    "        running_total += (i + 1) * bid\n",
    "\n",
    "    return running_total\n",
    "\n",
    "assert part1(example_lines) == 6440\n",
    "part1(input_lines)"
   ]
  },
  {
   "attachments": {},
   "cell_type": "markdown",
   "metadata": {},
   "source": [
    "First try :)"
   ]
  },
  {
   "attachments": {},
   "cell_type": "markdown",
   "metadata": {},
   "source": [
    "**Part 2: messing with the bloody jokers**"
   ]
  },
  {
   "attachments": {},
   "cell_type": "markdown",
   "metadata": {},
   "source": [
    "So now J = Joker not Jack, so it's a wild card that becomes whatever is most useful!\n",
    "\n",
    "But also now when ties are resolved, it's the least valuable..."
   ]
  },
  {
   "cell_type": "code",
   "execution_count": 187,
   "metadata": {},
   "outputs": [
    {
     "data": {
      "text/plain": [
       "(\"{'A': 13, 'K': 12, 'Q': 11, 'T': 10, '9': 9, '8': 8, '7': 7, '6': 6, '5': 5, '4': 4, '3': 3, '2': 2, 'J': 1}\",\n",
       " \"{13: 'A', 12: 'K', 11: 'Q', 10: 'T', 9: '9', 8: '8', 7: '7', 6: '6', 5: '5', 4: '4', 3: '3', 2: '2', 1: 'J'}\")"
      ]
     },
     "execution_count": 187,
     "metadata": {},
     "output_type": "execute_result"
    }
   ],
   "source": [
    "# We need to change card values map\n",
    "\n",
    "card_options = [\"A\", \"K\", \"Q\", \"T\", \"9\", \"8\", \"7\", \"6\", \"5\", \"4\", \"3\", \"2\", \"J\"]\n",
    "card_mapping = {\n",
    "    option: len(card_options)-i for i, option in enumerate(card_options)\n",
    "}\n",
    "mapping_to_card_mapping = {\n",
    "    len(card_options)-i:option for i, option in enumerate(card_options)\n",
    "}\n",
    "card_mapping.__str__(), mapping_to_card_mapping.__str__()"
   ]
  },
  {
   "cell_type": "code",
   "execution_count": 188,
   "metadata": {},
   "outputs": [],
   "source": [
    "# We also have to update (read: redefine lol) the classify_hand functions\n",
    "\n",
    "def classify_hand(hand_string: str) -> str:\n",
    "    hand = [*hand_string]\n",
    "    assert len(hand) == 5, \"uh how many fingers does this man have?\"\n",
    "    hand_counter = Counter(hand)\n",
    "    if 5 in hand_counter.values():\n",
    "        return FIVE\n",
    "    if 4 in hand_counter.values():\n",
    "        # If we had a joker as the fifth, then best bet is to change it to make a FIVE\n",
    "        # JJJJK -> FIVE\n",
    "        # KKKKJ -> FIVE\n",
    "        # KKKKA -> Stay at FOUR\n",
    "        if hand_counter[\"J\"] in (1,4):\n",
    "            return FIVE\n",
    "        return FOUR\n",
    "    if 3 in hand_counter.values() and 2 in hand_counter.values():\n",
    "        # JJJKK -> FIVE\n",
    "        # KKKJJ -> FIVE\n",
    "        # KKKAA -> Stay at full\n",
    "        if hand_counter[\"J\"] in (2,3):\n",
    "            return FIVE\n",
    "        return FULL_HOUSE\n",
    "    if 3 in hand_counter.values():\n",
    "        # KKKJA -> FOUR\n",
    "        # JJJKA -> FOUR\n",
    "        # KKKA2 -> stays at THREE\n",
    "        if hand_counter[\"J\"] in (1,3):\n",
    "            return FOUR\n",
    "        return THREE\n",
    "    if Counter(hand_counter.values())[2] == 2:\n",
    "        # KKJJA -> FOUR\n",
    "        # KKAAJ -> FULL\n",
    "        # KKAA2 -> Stay at TWO\n",
    "        if hand_counter[\"J\"] == 2:\n",
    "            return FOUR\n",
    "        if hand_counter[\"J\"] == 1:\n",
    "            return FULL_HOUSE\n",
    "        return TWO\n",
    "    if 2 in hand_counter.values():\n",
    "        # KKJA2 -> THREE\n",
    "        # JJKA2 -> THREE\n",
    "        # KKA23 -> Stay at ONE\n",
    "        if hand_counter[\"J\"] in (1,2):\n",
    "            return THREE\n",
    "        return ONE\n",
    "    else:\n",
    "        assert len(hand_counter.keys()) == 5\n",
    "        # JKQA2 -> ONE\n",
    "        # KQA23 -> stay at HIGH\n",
    "        if hand_counter[\"J\"] == 1:\n",
    "            return ONE\n",
    "        return HIGH"
   ]
  },
  {
   "cell_type": "code",
   "execution_count": 189,
   "metadata": {},
   "outputs": [
    {
     "data": {
      "text/plain": [
       "253362743"
      ]
     },
     "execution_count": 189,
     "metadata": {},
     "output_type": "execute_result"
    }
   ],
   "source": [
    "part2 = part1\n",
    "assert part2(example_lines) == 5905\n",
    "part2(input_lines)"
   ]
  }
 ],
 "metadata": {
  "kernelspec": {
   "display_name": "misc-practice",
   "language": "python",
   "name": "python3"
  },
  "language_info": {
   "codemirror_mode": {
    "name": "ipython",
    "version": 3
   },
   "file_extension": ".py",
   "mimetype": "text/x-python",
   "name": "python",
   "nbconvert_exporter": "python",
   "pygments_lexer": "ipython3",
   "version": "3.11.0"
  },
  "orig_nbformat": 4
 },
 "nbformat": 4,
 "nbformat_minor": 2
}
