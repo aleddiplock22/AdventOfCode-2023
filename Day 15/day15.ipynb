{
 "cells": [
  {
   "attachments": {},
   "cell_type": "markdown",
   "metadata": {},
   "source": [
    "## Day 15 - HASH"
   ]
  },
  {
   "attachments": {},
   "cell_type": "markdown",
   "metadata": {},
   "source": [
    "**Part 1: Sum of the result of hash algorithm on comma separated string**"
   ]
  },
  {
   "attachments": {},
   "cell_type": "markdown",
   "metadata": {},
   "source": [
    "HASH:\n",
    "\n",
    "- Determine the ASCII code for the current character of the string.\n",
    "- Increase the current value by the ASCII code you just determined.\n",
    "- Set the current value to itself multiplied by 17.\n",
    "- Set the current value to the remainder of dividing itself by 256."
   ]
  },
  {
   "cell_type": "code",
   "execution_count": 3,
   "metadata": {},
   "outputs": [
    {
     "data": {
      "text/plain": [
       "'rn=1,cm-,qp=3,cm=2,qp-,pc=4,ot=9,ab=5,pc-,pc=6,ot=7'"
      ]
     },
     "execution_count": 3,
     "metadata": {},
     "output_type": "execute_result"
    }
   ],
   "source": [
    "with open(\"./example.txt\") as f:\n",
    "    example_txt = f.read().strip()\n",
    "\n",
    "with open(\"./input.txt\") as f:\n",
    "    input_txt = f.read().strip()\n",
    "\n",
    "example_txt"
   ]
  },
  {
   "cell_type": "code",
   "execution_count": 9,
   "metadata": {},
   "outputs": [
    {
     "data": {
      "text/plain": [
       "52"
      ]
     },
     "execution_count": 9,
     "metadata": {},
     "output_type": "execute_result"
    }
   ],
   "source": [
    "def HASH(string: str) -> int:\n",
    "    val = 0\n",
    "    for ch in string:\n",
    "        ascii_val = ord(ch)\n",
    "        val += ascii_val\n",
    "        val *= 17\n",
    "        val = val % 256\n",
    "    \n",
    "    return val\n",
    "\n",
    "HASH(\"HASH\") # 52"
   ]
  },
  {
   "cell_type": "code",
   "execution_count": 12,
   "metadata": {},
   "outputs": [
    {
     "data": {
      "text/plain": [
       "510013"
      ]
     },
     "execution_count": 12,
     "metadata": {},
     "output_type": "execute_result"
    }
   ],
   "source": [
    "def part1(input_txt: str) -> int:\n",
    "    inputs = input_txt.split(\",\")\n",
    "\n",
    "    total = 0\n",
    "    for string in inputs:\n",
    "        total += HASH(string)\n",
    "\n",
    "    return total\n",
    "\n",
    "assert part1(example_txt) == 1320\n",
    "part1(input_txt)"
   ]
  },
  {
   "attachments": {},
   "cell_type": "markdown",
   "metadata": {},
   "source": [
    "**Part 2: now there are boxes....**"
   ]
  },
  {
   "attachments": {},
   "cell_type": "markdown",
   "metadata": {},
   "source": [
    "For each input:\n",
    "\n",
    "- initial characters are the label, and their HASH is the relevant box number\n",
    "- `-` means go to the relevant box and remove the lens with the given label (if it exists there), then move any remaining lenses as far forward in the box as they can go without changing their order\n",
    "- `=` is followed by a number, this tells you the *focal length* of the lens that needs to go into the relevant box. Can use label marker to mark the lens with the label given in the beginning of the step.\n",
    "  - If there's already a lens in the box w same label, replace it with new one.\n",
    "  - If there isn't a lens with that label, add the lens to the box immediately behind any lenses already there. "
   ]
  },
  {
   "attachments": {},
   "cell_type": "markdown",
   "metadata": {},
   "source": [
    "Add up the *focusing power* of all the lenses. THe focusing power of a single lens is the result of multiplying together:\n",
    "- One + the box number of the lens\n",
    "- The slot number of the lens within the box (1 for the first lens, 2 for the second...)\n",
    "- The focal length of the lens\n",
    "\n",
    "e.g. `rn 1` in box 0 in the first slot:\n",
    " `1 (box 0) * 1 (first slot) * 1 (focal length) = 1`"
   ]
  },
  {
   "cell_type": "code",
   "execution_count": 14,
   "metadata": {},
   "outputs": [
    {
     "data": {
      "text/plain": [
       "'rn=1,cm-,qp=3,cm=2,qp-,pc=4,ot=9,ab=5,pc-,pc=6,ot=7'"
      ]
     },
     "execution_count": 14,
     "metadata": {},
     "output_type": "execute_result"
    }
   ],
   "source": [
    "example_txt"
   ]
  },
  {
   "cell_type": "code",
   "execution_count": 21,
   "metadata": {},
   "outputs": [
    {
     "data": {
      "text/plain": [
       "268497"
      ]
     },
     "execution_count": 21,
     "metadata": {},
     "output_type": "execute_result"
    }
   ],
   "source": [
    "def part2(input_txt: str) -> int:\n",
    "    inputs = input_txt.split(\",\")\n",
    "\n",
    "    boxes = {\n",
    "        i: [] for i in range(256)\n",
    "    }\n",
    "    \n",
    "    for input in inputs:\n",
    "        if \"-\" in input:\n",
    "            removal_case = True\n",
    "            label = input.split(\"-\")[0]\n",
    "        if \"=\" in input:\n",
    "            removal_case = False\n",
    "            label, val = input.split(\"=\")\n",
    "            val = int(val)\n",
    "        \n",
    "        box_number = HASH(label)\n",
    "        \n",
    "        if removal_case:\n",
    "            # \"-\" case\n",
    "            relevant_box = boxes[box_number]\n",
    "            try:\n",
    "                existing_label_idx = [lbl for lbl, _ in relevant_box].index(label)\n",
    "                del relevant_box[existing_label_idx]\n",
    "                boxes[box_number] = relevant_box  # don't think this line is necessary\n",
    "            except ValueError:\n",
    "                pass\n",
    "        else:\n",
    "            # \"=\" case\n",
    "            relevant_box = boxes[box_number]\n",
    "            try:\n",
    "                existing_label_idx = [lbl for lbl, _ in relevant_box].index(label)\n",
    "                relevant_box[existing_label_idx] = (label, val)\n",
    "                boxes[box_number] = relevant_box\n",
    "            except ValueError:\n",
    "                relevant_box.append(\n",
    "                    (label, val)\n",
    "                )\n",
    "                boxes[box_number] = relevant_box\n",
    "    \n",
    "    # Ok we have our boxes sorted\n",
    "    # now to calculate total focal power\n",
    "\n",
    "    total_focal_power = 0\n",
    "    for box_number, lenses in boxes.items():\n",
    "        for i, (label, focal_length) in enumerate(lenses):\n",
    "            total_focal_power += (\n",
    "                (1 + box_number) * (i + 1) * (focal_length)\n",
    "            )\n",
    "    return total_focal_power\n",
    "\n",
    "\n",
    "assert part2(example_txt) == 145\n",
    "part2(input_txt)"
   ]
  }
 ],
 "metadata": {
  "kernelspec": {
   "display_name": "misc-practice",
   "language": "python",
   "name": "python3"
  },
  "language_info": {
   "codemirror_mode": {
    "name": "ipython",
    "version": 3
   },
   "file_extension": ".py",
   "mimetype": "text/x-python",
   "name": "python",
   "nbconvert_exporter": "python",
   "pygments_lexer": "ipython3",
   "version": "3.11.0"
  },
  "orig_nbformat": 4
 },
 "nbformat": 4,
 "nbformat_minor": 2
}
