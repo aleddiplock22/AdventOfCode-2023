{
 "cells": [
  {
   "cell_type": "markdown",
   "metadata": {},
   "source": [
    "## Day 17 - Heat loss on a locomotive"
   ]
  },
  {
   "cell_type": "markdown",
   "metadata": {},
   "source": [
    "**Part 1: Find a path that minimises heat loss from top left corner of grid to bottom right corner, can never go in a straight line for more than 3 blocks! - notably this doesn't include if you're e.g. turning 'up' and then going three to the right, the up didn't count as going to the right**"
   ]
  },
  {
   "cell_type": "markdown",
   "metadata": {},
   "source": [
    "Have never done path finding before... not looking forward to this!"
   ]
  },
  {
   "cell_type": "code",
   "execution_count": 71,
   "metadata": {},
   "outputs": [
    {
     "data": {
      "text/plain": [
       "['2413432311323',\n",
       " '3215453535623',\n",
       " '3255245654254',\n",
       " '3446585845452',\n",
       " '4546657867536',\n",
       " '1438598798454',\n",
       " '4457876987766',\n",
       " '3637877979653',\n",
       " '4654967986887',\n",
       " '4564679986453',\n",
       " '1224686865563',\n",
       " '2546548887735',\n",
       " '4322674655533']"
      ]
     },
     "execution_count": 71,
     "metadata": {},
     "output_type": "execute_result"
    }
   ],
   "source": [
    "with open(\"./example.txt\") as f:\n",
    "    example_lines = f.read().splitlines()\n",
    "\n",
    "with open(\"./input.txt\") as f:\n",
    "    input_lines = f.read().splitlines()\n",
    "\n",
    "example_lines"
   ]
  },
  {
   "cell_type": "code",
   "execution_count": 72,
   "metadata": {},
   "outputs": [],
   "source": [
    "from typing import Tuple, Iterator\n",
    "\n",
    "GridLocation = Tuple[int, int]\n",
    "\n",
    "class SquareGrid:\n",
    "    def __init__(self, width: int, height: int):\n",
    "        self.width = width\n",
    "        self.height = height\n",
    "    \n",
    "    def in_bounds(self, id: GridLocation) -> bool:\n",
    "        (x, y) = id\n",
    "        return 0 <= x < self.width and 0 <= y < self.height\n",
    "    \n",
    "    def neighbors(self, id: GridLocation) -> Iterator[GridLocation]:\n",
    "        (x, y) = id\n",
    "        neighbors = [(x+1, y), (x-1, y), (x, y-1), (x, y+1)] # E W N S\n",
    "        # see \"Ugly paths\" section for an explanation:\n",
    "        if (x + y) % 2 == 0: neighbors.reverse() # S N W E\n",
    "        results = filter(self.in_bounds, neighbors)\n",
    "        return results"
   ]
  },
  {
   "cell_type": "code",
   "execution_count": 73,
   "metadata": {},
   "outputs": [],
   "source": [
    "class GridWithWeights(SquareGrid):\n",
    "    def __init__(self, width: int, height: int, weights: list[list[int]]):\n",
    "        super().__init__(width, height)\n",
    "        self.weights: dict[GridLocation, int] = {\n",
    "            (c, r): val\n",
    "            for c, col in enumerate(weights)\n",
    "            for r, val in enumerate(col) \n",
    "        }\n",
    "    \n",
    "    def cost(self, to_node: GridLocation, amount_travelled_in_direction: int = 0) -> float:\n",
    "        return self.weights.get(to_node, 1) + 0 if amount_travelled_in_direction < 3 else 1e6"
   ]
  },
  {
   "cell_type": "code",
   "execution_count": 74,
   "metadata": {},
   "outputs": [],
   "source": [
    "from queue import PriorityQueue"
   ]
  },
  {
   "cell_type": "code",
   "execution_count": 75,
   "metadata": {},
   "outputs": [],
   "source": [
    "from typing import Optional\n",
    "\n",
    "def dijkstra_search(grid: GridWithWeights, start: GridLocation, goal: GridLocation):\n",
    "\n",
    "    manual_track_last_four = []\n",
    "\n",
    "    frontier = PriorityQueue()\n",
    "    frontier.put(start, 0)\n",
    "    came_from: dict[GridLocation, Optional[GridLocation]] = {}\n",
    "    cost_so_far: dict[GridLocation, int] = {}\n",
    "    came_from[start] = None\n",
    "    cost_so_far[start] = 0\n",
    "    \n",
    "    while not frontier.empty():\n",
    "        current: GridLocation = frontier.get()\n",
    "        \n",
    "        if current == goal:\n",
    "            break\n",
    "        \n",
    "        for next in grid.neighbors(current):\n",
    "\n",
    "            came_from_previous = [val for val in came_from.values()]\n",
    "            came_from_previous.reverse()\n",
    "            came_from_previous = came_from_previous[:4]\n",
    "            if len(came_from_previous) < 4 or None in came_from_previous:\n",
    "                can_continue_forward = True\n",
    "            else:\n",
    "                loc0 = came_from_previous[0]\n",
    "                y0, x0 = loc0\n",
    "                loc1 = came_from_previous[1]\n",
    "                y1, x1 = loc1\n",
    "                loc2 = came_from_previous[2]\n",
    "                y2, x2 = loc2\n",
    "                loc3 = came_from_previous[3]\n",
    "                y3, x3 = loc3\n",
    "                can_continue_forward = not (\n",
    "                    (y1-y0 == y2-y1 == y3-y2) or (x1-x0 == x2-x1 == x3-x2)\n",
    "                )\n",
    "            \n",
    "            if can_continue_forward:\n",
    "                travelled_ = 1\n",
    "                # not_allowed_y, not_allowed_x = 9999, 9999\n",
    "            else:\n",
    "                travelled_ = 5\n",
    "                # if ( (diff:= y1-y0) == y2-y1 == y3-y2):\n",
    "                #     not_allowed_y = y0 + diff\n",
    "                #     not_allowed_x = 99999\n",
    "                # elif ( (diff:= x1-x0) == x2-x1 == x3-x2):\n",
    "                #     not_allowed_y = 99999\n",
    "                #     not_allowed_x = x0 + diff\n",
    "                \n",
    "            \n",
    "            # next_y, next_x = next\n",
    "            # print(next_y, next_x, \"|\", not_allowed_y, not_allowed_x)\n",
    "            # print(travelled_)\n",
    "            new_cost = cost_so_far[current] + grid.cost(next, travelled_)\n",
    "            \n",
    "\n",
    "            if (next not in cost_so_far or new_cost < cost_so_far[next]):\n",
    "                cost_so_far[next] = new_cost\n",
    "                priority = new_cost\n",
    "                frontier.put(next, priority)\n",
    "                came_from[next] = current\n",
    "    \n",
    "    return came_from, cost_so_far"
   ]
  },
  {
   "cell_type": "code",
   "execution_count": 76,
   "metadata": {},
   "outputs": [],
   "source": [
    "def reconstruct_path(came_from: dict[GridLocation, GridLocation],\n",
    "                     start: GridLocation, goal: GridLocation) -> list[GridLocation]:\n",
    "\n",
    "    current: GridLocation = goal\n",
    "    path: list[GridLocation] = []\n",
    "    if goal not in came_from: # no path was found\n",
    "        return []\n",
    "    while current != start:\n",
    "        path.append(current)\n",
    "        current = came_from[current]\n",
    "    path.append(start) # optional\n",
    "    path.reverse() # optional\n",
    "    return path"
   ]
  },
  {
   "cell_type": "code",
   "execution_count": 78,
   "metadata": {},
   "outputs": [],
   "source": [
    "# def part1(lines: list[str]) -> int:\n",
    "    # grid = [list(map(int, [*line])) for line in lines]\n",
    "    \n",
    "#     # such that grid[y][x] takes you to (y,x) where (0,0) is top left\n",
    "#     goal = (len(grid) - 1, len(grid[0]) - 1)\n",
    "\n",
    "#     square_grid = GridWithWeights(width=len(grid[0]), height=len(grid), weights=grid)\n",
    "#     came_from, cost_so_far = dijkstra_search(square_grid, (0,0), goal)\n",
    "\n",
    "#     print(came_from)\n",
    "\n",
    "#     return reconstruct_path(came_from, (0,0), goal)\n",
    "    \n",
    "    \n",
    "    \n",
    "\n",
    "# part1(example_lines)"
   ]
  },
  {
   "cell_type": "markdown",
   "metadata": {},
   "source": [
    "idk that was a lot of code from some blog and idk if it's adaptable for this"
   ]
  },
  {
   "cell_type": "markdown",
   "metadata": {},
   "source": [
    "lets try ourselves a less sophisticated approach"
   ]
  },
  {
   "cell_type": "code",
   "execution_count": 115,
   "metadata": {},
   "outputs": [],
   "source": [
    "\n",
    "import collections\n",
    "def find_paths(grid, start_coord):\n",
    "    paths       = set()  # paths will be added here\n",
    "    state_queue = collections.deque([]) # Pending states which have not been explored yet\n",
    "    # State is a tuple consists of:\n",
    "    # 1. current coordinate\n",
    "    # 2. crack code path\n",
    "    # 3. set of visited coordinates in that path\n",
    "    state       = [start_coord, [], {start_coord}]  # Starting state\n",
    "    while True:\n",
    "        # Getting all possible neighboring states\n",
    "        # Crack code (right=0, down=1, left=2, up=3)\n",
    "\n",
    "        state_right = [(state[0][0],state[0][1]+1), state[1] + [0], state[2].copy()] if (state[0][1]+1 < len(grid[state[0][0]]) and (len(state[1]) == 0 or not all(s==0 if len(state[1]) >= 3 else False for s in state[1][-3:]))) else None\n",
    "        state_down  = [(state[0][0]+1,state[0][1]), state[1] + [1], state[2].copy()] if (state[0][0]+1 < len(grid) and (len(state[1]) == 0 or not all(s==1 if len(state[1]) >= 3 else False for s in state[1][-3:]))) else None\n",
    "        state_left  = [(state[0][0],state[0][1]-1), state[1] + [2], state[2].copy()] if (state[0][1]-1 >= 0 and (len(state[1]) == 0 or not all(s==2 if len(state[1]) >= 3 else False for s in state[1][-3:]))) else None\n",
    "        state_up    = [(state[0][0]-1,state[0][1]), state[1] + [3], state[2].copy()] if (state[0][0]-1 >= 0 and (len(state[1]) == 0 or not all(s==3 if len(state[1]) >= 3 else False for s in state[1][-3:]))) else None\n",
    "        # Adding to the queue all the unvisited states, as well as to the visited to avoid returning to states\n",
    "\n",
    "        blocked_counter = 0\n",
    "        for next_state in [state_right, state_down, state_left, state_up]:\n",
    "            if next_state is None:\n",
    "                blocked_counter += 1\n",
    "            elif next_state[0] in state[2] or grid[next_state[0][0]][next_state[0][1]] == 0:\n",
    "                blocked_counter += 1\n",
    "            else:\n",
    "                next_state[2].add(next_state[0])\n",
    "                state_queue.append(next_state)\n",
    "                \n",
    "        # After checking all directions' if reached a 'dead end', adding this path to the path set\n",
    "        if blocked_counter == 4:\n",
    "            paths.add(tuple(state[1]))\n",
    "        # Popping next state from the queue and updating the path if needed\n",
    "        try:\n",
    "            state = state_queue.pop()\n",
    "        except IndexError:\n",
    "            break\n",
    "    return paths"
   ]
  },
  {
   "cell_type": "code",
   "execution_count": 117,
   "metadata": {},
   "outputs": [],
   "source": [
    "# def part1(lines: list[str]) -> int:\n",
    "#     grid = [list(map(int, [*line])) for line in lines]\n",
    "\n",
    "#     paths = find_paths(grid, (0,0))\n",
    "#     return paths\n",
    "\n",
    "# part1(example_lines)\n",
    "\n",
    "\n",
    "# ugh that's just too inefficient isnt it obviously"
   ]
  },
  {
   "cell_type": "code",
   "execution_count": 129,
   "metadata": {},
   "outputs": [
    {
     "data": {
      "text/plain": [
       "886"
      ]
     },
     "execution_count": 129,
     "metadata": {},
     "output_type": "execute_result"
    }
   ],
   "source": [
    "# lets follow along Neutrino but try and learn since this is completely foreign lol. As long as I understand everything I think is ok.\n",
    "from heapq import heappush, heappop \n",
    "def part1(lines: list[str]) -> int:\n",
    "    grid = [list(map(int, [*line])) for line in lines]\n",
    "    \n",
    "    # dijkstra's algorithm\n",
    "\n",
    "    seen = set()\n",
    "\n",
    "    # EACH TUPLE IS OF THE FORM\n",
    "    # (HEATLOSS, ROW, COL, DELTA_R, DELTA_C, NUM_STEPS_IN_DIRECTION)\n",
    "    priority_queue = [(0, 0, 0, 0, 0, 0)]\n",
    "\n",
    "    while priority_queue:\n",
    "        heat_loss, r, c, dr, dc, dir_steps = heappop(priority_queue)\n",
    "\n",
    "        # if at destination we want to break!\n",
    "        if r == len(grid) - 1 and c == len(grid[0]) - 1:\n",
    "            return heat_loss\n",
    "            # Since we're using a priority queue here, we always get minimal values of heat_loss out the way first, so we cannot get here without it being the optimal value!\n",
    "\n",
    "        if (r, c, dr, dc, dir_steps) in seen:\n",
    "            # done it before\n",
    "            continue\n",
    "            \n",
    "        seen.add((r, c, dr, dc, dir_steps))\n",
    "        \n",
    "        if dir_steps < 3 and (dr, dc) != (0, 0):\n",
    "            # if we haven't gone in same direction for 3 and aren't standing still\n",
    "\n",
    "            # nr = next_r\n",
    "            nr = r + dr\n",
    "            nc = c + dc\n",
    "            if 0 < nr < len(grid) and 0 < nc < len(grid[0]):\n",
    "                heappush(priority_queue, (heat_loss + grid[nr][nc], nr, nc, dr, dc, dir_steps + 1))\n",
    "        \n",
    "        # can also TURN!\n",
    "        for ndr, ndc in [(0,1), (1,0), (-1, 0), (0, -1)]:\n",
    "            if (ndr, ndc) != (dr, dc) and (ndr, ndc) != (-dr, -dc):\n",
    "                # can't be current direction or backwards!\n",
    "                nr = r + ndr\n",
    "                nc = c + ndc\n",
    "                if 0 <= nr < len(grid) and 0 <= nc < len(grid[0]):\n",
    "                    heappush(priority_queue, (heat_loss + grid[nr][nc], nr, nc, ndr, ndc, 1))\n",
    "\n",
    "assert part1(example_lines) == 108\n",
    "part1(input_lines)"
   ]
  },
  {
   "cell_type": "markdown",
   "metadata": {},
   "source": [
    "**Part 2: Now using big train that go fast but not for long, i.e. have to go 4 continous steps in the same direction, but no more than 10!**"
   ]
  },
  {
   "cell_type": "markdown",
   "metadata": {},
   "source": [
    "obvs doing this bit alone no follow along now that I understand the algorithm, kinda brilliant tbf, Dijkstra was really onto something with this one"
   ]
  },
  {
   "cell_type": "code",
   "execution_count": 136,
   "metadata": {},
   "outputs": [],
   "source": [
    "with open(\"./example2.txt\") as f:\n",
    "    example2_lines = f.read().splitlines()"
   ]
  },
  {
   "cell_type": "code",
   "execution_count": 143,
   "metadata": {},
   "outputs": [
    {
     "data": {
      "text/plain": [
       "1055"
      ]
     },
     "execution_count": 143,
     "metadata": {},
     "output_type": "execute_result"
    }
   ],
   "source": [
    "def part2(lines: list[str]) -> int:\n",
    "    grid = [list(map(int, [*line])) for line in lines]\n",
    "    \n",
    "    # dijkstra's algorithm\n",
    "\n",
    "    seen = set()\n",
    "\n",
    "    # EACH TUPLE IS OF THE FORM\n",
    "    # (HEATLOSS, ROW, COL, DELTA_R, DELTA_C, NUM_STEPS_IN_DIRECTION)\n",
    "\n",
    "    # gonna add all the starting directions just to keep it simple\n",
    "    priority_queue = [\n",
    "        (0, 0, 0, 1, 0, 1),\n",
    "        (0, 0, 0, 0, 1, 1),\n",
    "    ]\n",
    "\n",
    "    while priority_queue:\n",
    "        heat_loss, r, c, dr, dc, dir_steps = heappop(priority_queue)\n",
    "\n",
    "        # if at destination we want to break!\n",
    "        # missed the condition that has to have been travelling for 4 at the end to stop also!\n",
    "        if r == len(grid) - 1 and c == len(grid[0]) - 1 and dir_steps >= 4:\n",
    "            return heat_loss\n",
    "            # Since we're using a priority queue here, we always get minimal values of heat_loss out the way first, so we cannot get here without it being the optimal value!\n",
    "\n",
    "        if (r, c, dr, dc, dir_steps) in seen:\n",
    "            # done it before\n",
    "            continue\n",
    "            \n",
    "        seen.add((r, c, dr, dc, dir_steps))\n",
    "        \n",
    "        if dir_steps < 10:\n",
    "            # if we haven't gone in same direction for 10 yet and aren't standing still\n",
    "\n",
    "            # nr = next_r\n",
    "            nr = r + dr\n",
    "            nc = c + dc\n",
    "            if 0 <= nr < len(grid) and 0 <= nc < len(grid[0]):\n",
    "                heappush(priority_queue, (heat_loss + grid[nr][nc], nr, nc, dr, dc, dir_steps + 1))\n",
    "        \n",
    "        # can also TURN!\n",
    "        for ndr, ndc in [(0,1), (1,0), (-1, 0), (0, -1)]:\n",
    "            if (ndr, ndc) != (dr, dc) and (ndr, ndc) != (-dr, -dc) and (dir_steps >= 4):\n",
    "                # can't be current direction or backwards!\n",
    "                nr = r + ndr\n",
    "                nc = c + ndc\n",
    "                if 0 <= nr < len(grid) and 0 <= nc < len(grid[0]):\n",
    "                    heappush(priority_queue, (heat_loss + grid[nr][nc], nr, nc, ndr, ndc, 1))\n",
    "\n",
    "assert part2(example_lines) == 94\n",
    "assert part2(example2_lines) == 71\n",
    "part2(input_lines)"
   ]
  },
  {
   "cell_type": "markdown",
   "metadata": {},
   "source": [
    "Very educational day !"
   ]
  }
 ],
 "metadata": {
  "kernelspec": {
   "display_name": "Python 3",
   "language": "python",
   "name": "python3"
  },
  "language_info": {
   "codemirror_mode": {
    "name": "ipython",
    "version": 3
   },
   "file_extension": ".py",
   "mimetype": "text/x-python",
   "name": "python",
   "nbconvert_exporter": "python",
   "pygments_lexer": "ipython3",
   "version": "3.11.7"
  }
 },
 "nbformat": 4,
 "nbformat_minor": 2
}
