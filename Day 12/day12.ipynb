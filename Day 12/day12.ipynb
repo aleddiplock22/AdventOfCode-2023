{
 "cells": [
  {
   "attachments": {},
   "cell_type": "markdown",
   "metadata": {},
   "source": [
    "## Day 12 - Hot springs  \n",
    "*(a return to this problem from scratch, one week after failing and giving up)*"
   ]
  },
  {
   "attachments": {},
   "cell_type": "markdown",
   "metadata": {},
   "source": [
    "Springs are:\n",
    "- Operational (`.`)\n",
    "- Damaged (`#`)\n",
    "- Unkown (`?`)"
   ]
  },
  {
   "cell_type": "code",
   "execution_count": 33,
   "metadata": {},
   "outputs": [
    {
     "data": {
      "text/plain": [
       "['???.### 1,1,3',\n",
       " '.??..??...?##. 1,1,3',\n",
       " '?#?#?#?#?#?#?#? 1,3,1,6',\n",
       " '????.#...#... 4,1,1',\n",
       " '????.######..#####. 1,6,5',\n",
       " '?###???????? 3,2,1']"
      ]
     },
     "execution_count": 33,
     "metadata": {},
     "output_type": "execute_result"
    }
   ],
   "source": [
    "with open(\"./example.txt\") as f:\n",
    "    example_lines = [line.strip() for line in f.readlines()]\n",
    "\n",
    "with open(\"./input.txt\") as f:\n",
    "    input_lines = [line.strip() for line in f.readlines()]\n",
    "\n",
    "example_lines"
   ]
  },
  {
   "cell_type": "code",
   "execution_count": 34,
   "metadata": {},
   "outputs": [],
   "source": [
    "def ways(string: str, rules: tuple[int]):\n",
    "    if string == \"\":\n",
    "        return 1 if rules == () else 0\n",
    "\n",
    "    if rules == ():\n",
    "        return 0 if \"#\" in string else 1\n",
    "\n",
    "    result = 0\n",
    "\n",
    "    # the string can either be a dot or # really (as ? just means either!)\n",
    "\n",
    "    if string[0] in \"?.\":\n",
    "        result += ways(string[1:], rules)\n",
    "    \n",
    "    if string[0] in \"?#\":\n",
    "        if (\n",
    "            rules[0] <= len(string)  # enough string to cover the first rule (we'll then move on from it!)\n",
    "            and \".\" not in string[:rules[0]] # no . breaking up our chain of #s\n",
    "            and (rules[0] == len(string) or string[rules[0]] in \"?.\") # and that one of 'the string is the length of the rule' (all #s) or that there isn't a # after the final # we need\n",
    "        ):\n",
    "            result += ways(string[rules[0] + 1:], rules[1:])\n",
    "\n",
    "\n",
    "    return result"
   ]
  },
  {
   "cell_type": "code",
   "execution_count": 35,
   "metadata": {},
   "outputs": [
    {
     "data": {
      "text/plain": [
       "7653"
      ]
     },
     "execution_count": 35,
     "metadata": {},
     "output_type": "execute_result"
    }
   ],
   "source": [
    "def part1(lines: list[str]):\n",
    "    total = 0\n",
    "    for line in lines:\n",
    "        springs_str, rules_str = line.split()\n",
    "        rules = tuple(map(int, rules_str.split(\",\")))\n",
    "        total += ways(springs_str, rules)\n",
    "\n",
    "    return total\n",
    "\n",
    "assert part1(example_lines) == 21\n",
    "part1(input_lines)"
   ]
  },
  {
   "attachments": {},
   "cell_type": "markdown",
   "metadata": {},
   "source": [
    "clearly still inspired by mr Neutrino but I get it tbf"
   ]
  },
  {
   "attachments": {},
   "cell_type": "markdown",
   "metadata": {},
   "source": [
    "**Part 2: List of springs is actualy itself five times, separated by `?`**"
   ]
  },
  {
   "cell_type": "code",
   "execution_count": 45,
   "metadata": {},
   "outputs": [
    {
     "data": {
      "text/plain": [
       "60681419004564"
      ]
     },
     "execution_count": 45,
     "metadata": {},
     "output_type": "execute_result"
    }
   ],
   "source": [
    "def part2(lines: list[str]) -> int:\n",
    "\n",
    "    cache = {}\n",
    "\n",
    "    def ways(string: str, rules: tuple[int]):\n",
    "        if string == \"\":\n",
    "            return 1 if rules == () else 0\n",
    "\n",
    "        if rules == ():\n",
    "            return 0 if \"#\" in string else 1\n",
    "        \n",
    "\n",
    "        key = (string, rules)\n",
    "\n",
    "        # Why can't I do this?\n",
    "        # if result := cache.get(key, 0):\n",
    "        #     return result\n",
    "\n",
    "        if key in cache:\n",
    "            return cache[key]\n",
    "        \n",
    "        result = 0\n",
    "\n",
    "\n",
    "        # the string can either be a dot or # really (as ? just means either!)\n",
    "\n",
    "        if string[0] in \"?.\":\n",
    "            result += ways(string[1:], rules)\n",
    "        \n",
    "        if string[0] in \"?#\":\n",
    "            if (\n",
    "                rules[0] <= len(string)  # enough string to cover the first rule (we'll then move on from it!)\n",
    "                and \".\" not in string[:rules[0]] # no . breaking up our chain of #s\n",
    "                and (rules[0] == len(string) or string[rules[0]] in \"?.\") # and that the string is the length of the rule (all #s) or that there isn't a # after the final # we need\n",
    "            ):\n",
    "                result += ways(string[rules[0] + 1:], rules[1:])\n",
    "\n",
    "        cache[key] = result\n",
    "\n",
    "        return result\n",
    "\n",
    "    total = 0\n",
    "    for line in lines:\n",
    "        springs_str, rules_str = line.split()\n",
    "        rules_str = \",\".join([rules_str for _ in range(5)])\n",
    "        springs_str = \"?\".join([springs_str for _ in range(5)])\n",
    "        rules = tuple(map(int, rules_str.split(\",\")))\n",
    "        total += ways(springs_str, rules)\n",
    "\n",
    "    return total\n",
    "\n",
    "assert part2(example_lines) == 525152\n",
    "part2(input_lines)"
   ]
  }
 ],
 "metadata": {
  "kernelspec": {
   "display_name": "misc-practice",
   "language": "python",
   "name": "python3"
  },
  "language_info": {
   "codemirror_mode": {
    "name": "ipython",
    "version": 3
   },
   "file_extension": ".py",
   "mimetype": "text/x-python",
   "name": "python",
   "nbconvert_exporter": "python",
   "pygments_lexer": "ipython3",
   "version": "3.11.0"
  },
  "orig_nbformat": 4
 },
 "nbformat": 4,
 "nbformat_minor": 2
}
