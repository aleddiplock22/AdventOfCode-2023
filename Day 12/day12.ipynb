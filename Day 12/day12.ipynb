{
 "cells": [
  {
   "attachments": {},
   "cell_type": "markdown",
   "metadata": {},
   "source": [
    "## Day 12 - Broken Hot Springs!"
   ]
  },
  {
   "attachments": {},
   "cell_type": "markdown",
   "metadata": {},
   "source": [
    "**Part 1: How many valid arrangements?**\n",
    "\n",
    "ugh, combinatorics"
   ]
  },
  {
   "attachments": {},
   "cell_type": "markdown",
   "metadata": {},
   "source": [
    "e.g.\n",
    "`.??..??...?##. 1,1,3` has *four* as first two `??` can be `#. #.` | `#. .#` | `.# #.` | `.# .#` - but fifth `?` has to be `#` to form the 3 group"
   ]
  },
  {
   "cell_type": "code",
   "execution_count": 114,
   "metadata": {},
   "outputs": [],
   "source": [
    "with open(\"./example.txt\") as f:\n",
    "    example_lines = [line.strip() for line in f.readlines()]\n",
    "\n",
    "with open(\"./input.txt\") as f:\n",
    "    input_lines = [line.strip() for line in f.readlines()]"
   ]
  },
  {
   "cell_type": "code",
   "execution_count": 115,
   "metadata": {},
   "outputs": [
    {
     "data": {
      "text/plain": [
       "['???.### 1,1,3',\n",
       " '.??..??...?##. 1,1,3',\n",
       " '?#?#?#?#?#?#?#? 1,3,1,6',\n",
       " '????.#...#... 4,1,1',\n",
       " '????.######..#####. 1,6,5',\n",
       " '?###???????? 3,2,1']"
      ]
     },
     "execution_count": 115,
     "metadata": {},
     "output_type": "execute_result"
    }
   ],
   "source": [
    "example_lines"
   ]
  },
  {
   "cell_type": "code",
   "execution_count": 116,
   "metadata": {},
   "outputs": [
    {
     "data": {
      "text/plain": [
       "[(1, 2), (5, 6), (8, 8), (11, 13), (16, 16), (26, 26)]"
      ]
     },
     "execution_count": 116,
     "metadata": {},
     "output_type": "execute_result"
    }
   ],
   "source": [
    "import re\n",
    "\n",
    "def find_ranges_of_Qs(row: str):\n",
    "    \"\"\"\n",
    "    row of the form e.g.\n",
    "        .??..??...?##.\n",
    "    \n",
    "    produce a list of the ranges where there are ?s\n",
    "    \"\"\"\n",
    "    hmm_locs = []\n",
    "    tmp = (None, None)\n",
    "    for loc in (s.start() for s in re.finditer(re.escape('?'), row)):\n",
    "        if None in tmp:\n",
    "            tmp = (loc, loc)\n",
    "        elif loc - tmp[1] == 1:\n",
    "            tmp = (tmp[0], loc)\n",
    "        else:\n",
    "            hmm_locs.append(tmp)\n",
    "            tmp = (loc, loc)\n",
    "    hmm_locs.append(tmp)\n",
    "\n",
    "    return hmm_locs\n",
    "\n",
    "find_ranges_of_Qs(\".??..??.?.#???..?.#.#.##..?\")"
   ]
  },
  {
   "cell_type": "code",
   "execution_count": 117,
   "metadata": {},
   "outputs": [
    {
     "data": {
      "text/plain": [
       "[(1, 2),\n",
       " (5, 6),\n",
       " (8, 8),\n",
       " (10, 13),\n",
       " (16, 16),\n",
       " (18, 18),\n",
       " (20, 20),\n",
       " (22, 23),\n",
       " (26, 26)]"
      ]
     },
     "execution_count": 117,
     "metadata": {},
     "output_type": "execute_result"
    }
   ],
   "source": [
    "def find_general_ranges(row: str):\n",
    "    hmm_locs = []\n",
    "    tmp = (None, None)\n",
    "    for loc in (s.start() for s in re.finditer(re.escape('?')+\"|\"+re.escape(\"#\"), row)):\n",
    "        if None in tmp:\n",
    "            tmp = (loc, loc)\n",
    "        elif loc - tmp[1] == 1:\n",
    "            tmp = (tmp[0], loc)\n",
    "        else:\n",
    "            hmm_locs.append(tmp)\n",
    "            tmp = (loc, loc)\n",
    "    hmm_locs.append(tmp)\n",
    "\n",
    "    return hmm_locs\n",
    "\n",
    "find_general_ranges(\".??..??.?.#???..?.#.#.##..?\")"
   ]
  },
  {
   "cell_type": "code",
   "execution_count": 118,
   "metadata": {},
   "outputs": [
    {
     "data": {
      "text/plain": [
       "{(0, 2): (0, 2), (4, 6): 'PRE_SET', (8, 8): (8, 8), (10, 11): 'PRE_SET'}"
      ]
     },
     "execution_count": 118,
     "metadata": {},
     "output_type": "execute_result"
    }
   ],
   "source": [
    "# TEST_STRING = \".??..??.?.#???..?.#.#.##..?\"\n",
    "TEST_STRING = \"???.###.?.##\"\n",
    "\n",
    "q = find_ranges_of_Qs(TEST_STRING)\n",
    "g = find_general_ranges(TEST_STRING)\n",
    "\n",
    "def map_general_ranges_to_Q_ranges(g: list[tuple[int, int]], q: list[tuple[int, int]]) -> dict:\n",
    "    q = set(q)\n",
    "    mappings = {}\n",
    "\n",
    "    for general_range in g:\n",
    "        if general_range in q:\n",
    "            q.remove(general_range)\n",
    "            mappings[general_range] = general_range\n",
    "        else:\n",
    "            # see if there's a sub range?\n",
    "            for q_range in q:\n",
    "                qs, qe = q_range\n",
    "                gs, ge = general_range\n",
    "                if gs <= qs and qe <= ge:\n",
    "                    mappings[general_range] = q_range\n",
    "                    q.remove(q_range)\n",
    "                    break\n",
    "            else:\n",
    "                mappings[general_range] = \"PRE_SET\"\n",
    "\n",
    "    return mappings\n",
    "\n",
    "map_general_ranges_to_Q_ranges(g, q)"
   ]
  },
  {
   "cell_type": "code",
   "execution_count": 359,
   "metadata": {},
   "outputs": [
    {
     "ename": "AssertionError",
     "evalue": "more keys than rules errrr - ('???????.??.#?????', (2, 2))",
     "output_type": "error",
     "traceback": [
      "\u001b[1;31m---------------------------------------------------------------------------\u001b[0m",
      "\u001b[1;31mAssertionError\u001b[0m                            Traceback (most recent call last)",
      "Cell \u001b[1;32mIn[359], line 186\u001b[0m\n\u001b[0;32m    183\u001b[0m \u001b[39massert\u001b[39;00m part1(example_lines) \u001b[39m==\u001b[39m \u001b[39m21\u001b[39m\n\u001b[0;32m    184\u001b[0m \u001b[39m# part1([\"?#?#?#?#?#?#?#? 1,3,1,6\"])\u001b[39;00m\n\u001b[0;32m    185\u001b[0m \u001b[39m# part1([\"?###???????? 3,2,1\"])\u001b[39;00m\n\u001b[1;32m--> 186\u001b[0m part1(input_lines)\n",
      "Cell \u001b[1;32mIn[359], line 50\u001b[0m, in \u001b[0;36mpart1\u001b[1;34m(lines)\u001b[0m\n\u001b[0;32m     46\u001b[0m                         combinations_total \u001b[39m+\u001b[39m\u001b[39m=\u001b[39m \u001b[39m1\u001b[39m\n\u001b[0;32m     48\u001b[0m \u001b[39m# RULES DO NOT ALIGN WITH SLOTS\u001b[39;00m\n\u001b[0;32m     49\u001b[0m \u001b[39melse\u001b[39;00m:\n\u001b[1;32m---> 50\u001b[0m     \u001b[39massert\u001b[39;00m \u001b[39mlen\u001b[39m(rules) \u001b[39m>\u001b[39m \u001b[39mlen\u001b[39m(mapped_general_to_Q\u001b[39m.\u001b[39mkeys()), \u001b[39mf\u001b[39m\u001b[39m\"\u001b[39m\u001b[39mmore keys than rules errrr - \u001b[39m\u001b[39m{\u001b[39;00mstring, rules\u001b[39m}\u001b[39;00m\u001b[39m\"\u001b[39m\n\u001b[0;32m     52\u001b[0m     all_g_ranges_generator \u001b[39m=\u001b[39m (\n\u001b[0;32m     53\u001b[0m         key \u001b[39mfor\u001b[39;00m key \u001b[39min\u001b[39;00m mapped_general_to_Q\u001b[39m.\u001b[39mkeys()\n\u001b[0;32m     54\u001b[0m     )\n\u001b[0;32m     56\u001b[0m     sub_rules \u001b[39m=\u001b[39m []\n",
      "\u001b[1;31mAssertionError\u001b[0m: more keys than rules errrr - ('???????.??.#?????', (2, 2))"
     ]
    }
   ],
   "source": [
    "from math import comb\n",
    "from itertools import combinations, product, permutations\n",
    "from copy import deepcopy\n",
    "\n",
    "def part1(lines: list[str]) -> int:\n",
    "    combinations_total = 0\n",
    "\n",
    "    for line in lines:\n",
    "        string, rules = line.split()\n",
    "        rules = tuple(map(int, rules.split(\",\")))\n",
    "\n",
    "        general_ranges = find_general_ranges(string)\n",
    "        Q_ranges = find_ranges_of_Qs(string)\n",
    "\n",
    "        mapped_general_to_Q = map_general_ranges_to_Q_ranges(general_ranges, Q_ranges)\n",
    "\n",
    "        # RULES ALIGN WITH SLOTS\n",
    "        if len(rules) == len(mapped_general_to_Q.keys()):\n",
    "            # We have 1:1 mapping and can do nCr stuff?\n",
    "            for rule, (key,val) in zip(rules, mapped_general_to_Q.items()):\n",
    "                if val == \"PRE_SET\":\n",
    "                    # all #s\n",
    "                    continue\n",
    "                if key == val:\n",
    "                    # all ?s\n",
    "                    s, e = val  # start end of range we can put inside\n",
    "                    positions = e - s + 1\n",
    "                    combinations_total += comb(positions, rule)\n",
    "                else:\n",
    "                    # so we have the mixed case.\n",
    "                    g_substring = string[key[0]:key[1]+1]\n",
    "\n",
    "                    required_substring = rule*\"#\"\n",
    "                    amount_needed = rule - g_substring.count(\"#\")\n",
    "\n",
    "                    q_positions = [i for i in range(val[0], val[1]+1)]\n",
    "\n",
    "                    combos_to_try = combinations(q_positions, r=amount_needed)\n",
    "\n",
    "                    if len(tuple(combos_to_try)) > 1:\n",
    "                        for combo in combos_to_try:\n",
    "                            test_string = \"\"\n",
    "                            for ch_idx, ch in enumerate(g_substring):\n",
    "                                test_string += ch if ch_idx+key[0] not in combo else \"#\"\n",
    "                            if required_substring in test_string:\n",
    "                                combinations_total += 1\n",
    "        \n",
    "        # RULES DO NOT ALIGN WITH SLOTS\n",
    "        else:\n",
    "            assert len(rules) > len(mapped_general_to_Q.keys()), f\"more keys than rules errrr - {string, rules}\"\n",
    "\n",
    "            all_g_ranges_generator = (\n",
    "                key for key in mapped_general_to_Q.keys()\n",
    "            )\n",
    "\n",
    "            sub_rules = []\n",
    "            using_range = False\n",
    "            for rule_idx, rule in enumerate(rules):\n",
    "                # print(\"rule\", rule)\n",
    "                if not using_range:\n",
    "                    using_range = True\n",
    "                    tmp_range = next(all_g_ranges_generator)\n",
    "                    tmp_total_pos = tmp_range[1] - tmp_range[0] + 1\n",
    "                    if rule < tmp_total_pos:\n",
    "                        sub_rules.append(rule)\n",
    "                        tmp_total_pos -= rule\n",
    "                else:\n",
    "                    if rule < tmp_total_pos and rule_idx != len(rules) - 1:\n",
    "                        sub_rules.append(rule)\n",
    "                        tmp_total_pos -= rule\n",
    "                    else:\n",
    "                        if rule_idx == len(rules) - 1:\n",
    "                            rule_string = \"#\"*rule\n",
    "                            if rule_string not in \"\".join([ch for ch in string if ch != \".\"][-rule:]):\n",
    "                                sub_rules.append(rule)\n",
    "                                # if it's already satisfied don't have to worry!\n",
    "\n",
    "                        # print(\"dealing with it?\", sub_rules, tmp_range)\n",
    "                        # can't assign to sub rules to this range any longer!\n",
    "                        g_substring = string[tmp_range[0]:tmp_range[1]+1]\n",
    "\n",
    "                        # print(\"g_substring: \", g_substring)\n",
    "                        # print(\"sub_rules \", sub_rules)\n",
    "\n",
    "                        # now we have like e.g. sub rules [2,2] and g_substring ????#??\n",
    "\n",
    "                        potential_ranges_to_alter = []\n",
    "                        for sub_rule in sub_rules:\n",
    "                            # print(\"sub\")\n",
    "                            alterations = []\n",
    "                            for i in (range(length := len(g_substring))):\n",
    "                                # god I love walruses\n",
    "                                if (tmp_end := i + sub_rule - 1) < length:\n",
    "                                    alterations.append(\n",
    "                                        (i, tmp_end)\n",
    "                                    )\n",
    "                            potential_ranges_to_alter.append(\n",
    "                                alterations\n",
    "                            )\n",
    "                        \n",
    "                        # print(\"potential ranges to alter: \", potential_ranges_to_alter)\n",
    "\n",
    "                        # now we have a list of lists, where the sub lists have \n",
    "                        # tuples of ranges we can edit\n",
    "                        double_counts_potential_edits = [\n",
    "                            p for p in product(*potential_ranges_to_alter)\n",
    "                            if len(p) == len(set(p))\n",
    "                        ]\n",
    "\n",
    "                        already_had_any_order = set()\n",
    "                        potential_edits_reduced = []\n",
    "                        for p in double_counts_potential_edits:\n",
    "                            if p not in already_had_any_order:\n",
    "                                potential_edits_reduced.append(p)\n",
    "                            for item in permutations(p, r=len(p)):\n",
    "                                already_had_any_order.add(item)\n",
    "\n",
    "                        potential_edits = []\n",
    "                        for not_necessarily_legit_edit in potential_edits_reduced:\n",
    "                            def do_overlap(t1: tuple[int, int], t2: tuple[int, int]):\n",
    "                                s1, e1 = t1\n",
    "                                s2, e2 = t2\n",
    "                                return s1 <= e2 and e1 >= s2\n",
    "\n",
    "                            adding = True\n",
    "                            for t1, t2 in combinations(not_necessarily_legit_edit, r=2):\n",
    "                                if do_overlap(t1, t2):\n",
    "                                    adding = False\n",
    "                                    break\n",
    "                            if adding:\n",
    "                                legit_sub_edit = []\n",
    "                                for sub_edit in not_necessarily_legit_edit:\n",
    "                                    sub_s, sub_e = sub_edit\n",
    "                                    already_done_string = \"#\" * (sub_e - sub_s + 1)\n",
    "                                    if string[sub_s:sub_e] == already_done_string:\n",
    "                                        continue\n",
    "                                    else:\n",
    "                                        legit_sub_edit.append(sub_edit)\n",
    "\n",
    "                                if legit_sub_edit:\n",
    "                                    potential_edits.append(tuple(legit_sub_edit))\n",
    "\n",
    "                        for potential_edit in potential_edits:\n",
    "                            # each potential edit is a tuple of 'ranges'\n",
    "                            tmp_string = deepcopy(string)\n",
    "                            full_length = len(tmp_string)\n",
    "                            for edit in potential_edit:\n",
    "                                # range (s, e)\n",
    "                                s, e = edit\n",
    "                                hash_replacement = \"#\"*(e-s+1)\n",
    "                                tmp_string = [*tmp_string]\n",
    "                                tmp_string[s:e+1] = [*hash_replacement]\n",
    "                                tmp_string = \"\".join(tmp_string)\n",
    "                            \n",
    "                            is_ok = True\n",
    "                            \n",
    "                            assert full_length == len(tmp_string), (full_length, tmp_string)\n",
    "\n",
    "                            if (max(rules)+1)*\"#\" not in tmp_string:\n",
    "                                split_check_string = tmp_string.replace(\".\", \"?\")\n",
    "                                tmp_splitted = [ughhhh for ughhhh in split_check_string.split(\"?\") if ughhhh]\n",
    "                                continuing_onwards = True\n",
    "                                for tmp_split_val, rule in zip(tmp_splitted, rules):\n",
    "                                    if not len(tmp_split_val) == rule:\n",
    "                                        continuing_onwards = False\n",
    "                                if continuing_onwards:\n",
    "                                    for condition_to_satisfy in tmp_splitted:\n",
    "                                        if (start_idx := tmp_string.find(condition_to_satisfy)) >= 0:\n",
    "                                            tmp_string = tmp_string[0:start_idx] + tmp_string[start_idx + len(condition_to_satisfy):]\n",
    "                                        else:\n",
    "                                            is_ok = False\n",
    "                                            break\n",
    "                                    if is_ok:\n",
    "                                        if \"#\" not in tmp_string:\n",
    "                                            combinations_total += 1\n",
    "\n",
    "                        \n",
    "                        using_range = False\n",
    "                        sub_rules = []\n",
    "        \n",
    "    return combinations_total\n",
    "\n",
    "assert part1(example_lines) == 21\n",
    "# part1([\"?#?#?#?#?#?#?#? 1,3,1,6\"])\n",
    "# part1([\"?###???????? 3,2,1\"])\n",
    "part1(input_lines)"
   ]
  }
 ],
 "metadata": {
  "kernelspec": {
   "display_name": "misc-practice",
   "language": "python",
   "name": "python3"
  },
  "language_info": {
   "codemirror_mode": {
    "name": "ipython",
    "version": 3
   },
   "file_extension": ".py",
   "mimetype": "text/x-python",
   "name": "python",
   "nbconvert_exporter": "python",
   "pygments_lexer": "ipython3",
   "version": "3.11.0"
  },
  "orig_nbformat": 4
 },
 "nbformat": 4,
 "nbformat_minor": 2
}
