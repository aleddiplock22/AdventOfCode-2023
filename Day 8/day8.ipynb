{
 "cells": [
  {
   "attachments": {},
   "cell_type": "markdown",
   "metadata": {},
   "source": [
    "## Day 8 - Recursive Paths"
   ]
  },
  {
   "attachments": {},
   "cell_type": "markdown",
   "metadata": {},
   "source": [
    "Part 1: Have an input of Ls and Rs that tell you which side of the tuple to pick, follow path from AAA to ZZZ, how many steps? If don't get to there with instructions, do them again."
   ]
  },
  {
   "cell_type": "code",
   "execution_count": 3,
   "metadata": {},
   "outputs": [],
   "source": [
    "input_path = \"./input.txt\"\n",
    "example1_path = \"./example1.txt\"\n",
    "example2_path = \"./example2.txt\""
   ]
  },
  {
   "cell_type": "code",
   "execution_count": 4,
   "metadata": {},
   "outputs": [],
   "source": [
    "import ast\n",
    "\n",
    "def get_puzzle_inputs(filepath: str) -> tuple[str, dict]:\n",
    "    with open(filepath) as f:\n",
    "        LR_directions = f.read().split(\"\\n\\n\")[0]\n",
    "        f.seek(0)  # put the read cursor back to start of file!\n",
    "        maps = {\n",
    "            line.strip().split()[0]: ast.literal_eval(\n",
    "                \"('\"\n",
    "                +line.strip().split(\"= \")[-1][1:4]\n",
    "                +\"', '\"\n",
    "                +line.strip().split(\"= \")[-1][6:9]\n",
    "                +\"')\"  # obviously this is a litle silly but it's fun\n",
    "            )\n",
    "            for line in f.readlines()[2:]\n",
    "        }\n",
    "    return LR_directions, maps"
   ]
  },
  {
   "cell_type": "code",
   "execution_count": 5,
   "metadata": {},
   "outputs": [
    {
     "data": {
      "text/plain": [
       "16343"
      ]
     },
     "execution_count": 5,
     "metadata": {},
     "output_type": "execute_result"
    }
   ],
   "source": [
    "def part1(filepath: str, verbose = False) -> int:\n",
    "    LR_directions, maps = get_puzzle_inputs(filepath)\n",
    "\n",
    "    # starting_location = list(maps.keys())[0]  # good job dictionaries are ordered ey\n",
    "    # omg why did I think top line was starting, not always A..... ran this for 20 bloody minutes\n",
    "    starting_location = \"AAA\"\n",
    "    ending_location = \"ZZZ\"\n",
    "\n",
    "    current_location = starting_location\n",
    "    found_ZZZ = False\n",
    "    count = 0\n",
    "    while not found_ZZZ:\n",
    "        if verbose: print(count)\n",
    "        for dir in LR_directions:\n",
    "            count += 1\n",
    "            if dir == \"L\":\n",
    "                current_location = maps[current_location][0]\n",
    "            elif dir == \"R\":\n",
    "                current_location = maps[current_location][1]\n",
    "            else:\n",
    "                raise ValueError(\"Not L or R??? dir =\", dir)\n",
    "\n",
    "            if current_location == ending_location:\n",
    "                found_ZZZ = True\n",
    "                break\n",
    "    \n",
    "    return count\n",
    "\n",
    "assert part1(example1_path) == 2\n",
    "assert part1(example2_path) == 6\n",
    "part1(input_path, verbose=False)\n",
    "    "
   ]
  },
  {
   "attachments": {},
   "cell_type": "markdown",
   "metadata": {},
   "source": [
    "Part 2: ghosts ?? so now all xxA leave at the same time, how many steps until they're all simultaneously at xxZ?"
   ]
  },
  {
   "cell_type": "code",
   "execution_count": 6,
   "metadata": {},
   "outputs": [],
   "source": [
    "example3_path = \"./example3.txt\""
   ]
  },
  {
   "cell_type": "code",
   "execution_count": 10,
   "metadata": {},
   "outputs": [],
   "source": [
    "def find_len_path_to_a_Z(LR_directions, maps, starting_location) -> int:\n",
    "    current_location = starting_location\n",
    "    found_xxZ = False\n",
    "    count = 0\n",
    "    while not found_xxZ:\n",
    "        for dir in LR_directions:\n",
    "            count += 1\n",
    "            if dir == \"L\":\n",
    "                current_location = maps[current_location][0]\n",
    "            elif dir == \"R\":\n",
    "                current_location = maps[current_location][1]\n",
    "            else:\n",
    "                raise ValueError(\"Not L or R??? dir =\", dir)\n",
    "\n",
    "            if current_location[2] == \"Z\":\n",
    "                found_xxZ = True\n",
    "                break\n",
    "    \n",
    "    return count"
   ]
  },
  {
   "cell_type": "code",
   "execution_count": 14,
   "metadata": {},
   "outputs": [
    {
     "data": {
      "text/plain": [
       "15299095336639"
      ]
     },
     "execution_count": 14,
     "metadata": {},
     "output_type": "execute_result"
    }
   ],
   "source": [
    "import math\n",
    "\n",
    "def part2(filepath: str) -> int:\n",
    "    LR_directions, maps = get_puzzle_inputs(filepath)\n",
    "    locations_ending_with_A = [\n",
    "        key for key in maps.keys() if key[2] == \"A\"\n",
    "    ]\n",
    "    len_paths_to_Z = [] \n",
    "    for location in locations_ending_with_A:\n",
    "        len_paths_to_Z.append(\n",
    "            find_len_path_to_a_Z(\n",
    "                LR_directions=LR_directions,\n",
    "                maps=maps,\n",
    "                starting_location=location\n",
    "            )\n",
    "        )\n",
    "\n",
    "    return math.lcm(*len_paths_to_Z)\n",
    "\n",
    "assert part2(example3_path) == 6\n",
    "part2(input_path)"
   ]
  }
 ],
 "metadata": {
  "kernelspec": {
   "display_name": "misc-practice",
   "language": "python",
   "name": "python3"
  },
  "language_info": {
   "codemirror_mode": {
    "name": "ipython",
    "version": 3
   },
   "file_extension": ".py",
   "mimetype": "text/x-python",
   "name": "python",
   "nbconvert_exporter": "python",
   "pygments_lexer": "ipython3",
   "version": "3.11.0"
  },
  "orig_nbformat": 4
 },
 "nbformat": 4,
 "nbformat_minor": 2
}
