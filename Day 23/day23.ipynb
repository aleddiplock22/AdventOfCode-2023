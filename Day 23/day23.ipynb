{
 "cells": [
  {
   "attachments": {},
   "cell_type": "markdown",
   "metadata": {},
   "source": [
    "## Day 23 - longest path down"
   ]
  },
  {
   "attachments": {},
   "cell_type": "markdown",
   "metadata": {},
   "source": [
    "**Part 1: Find longest path from single top row point to single bottom row point**\n",
    "\n",
    "- `>` etc. tiles means you have to go that direction no other choice (stepe slope)"
   ]
  },
  {
   "cell_type": "code",
   "execution_count": 3,
   "metadata": {},
   "outputs": [],
   "source": [
    "with open(\"./example.txt\") as f:\n",
    "    example_grid = [[*line.strip()] for line in f.readlines()]\n",
    "\n",
    "with open(\"./input.txt\") as f:\n",
    "    input_grid = [[*line.strip()] for line in f.readlines()]"
   ]
  },
  {
   "cell_type": "code",
   "execution_count": 4,
   "metadata": {},
   "outputs": [],
   "source": [
    "def update_been_there_dict(been_there: dict[tuple, set], old_id: int, new_id: int, base_path_new_to_ignore: tuple[int, int]):\n",
    "    for k, v in been_there.items():\n",
    "        if k == base_path_new_to_ignore:\n",
    "            continue\n",
    "        if old_id in v:\n",
    "            been_there[k].add(new_id)"
   ]
  },
  {
   "cell_type": "code",
   "execution_count": 5,
   "metadata": {},
   "outputs": [
    {
     "data": {
      "text/plain": [
       "23"
      ]
     },
     "execution_count": 5,
     "metadata": {},
     "output_type": "execute_result"
    }
   ],
   "source": [
    "len(example_grid[0])"
   ]
  },
  {
   "cell_type": "code",
   "execution_count": 6,
   "metadata": {},
   "outputs": [
    {
     "data": {
      "text/plain": [
       "2202"
      ]
     },
     "execution_count": 6,
     "metadata": {},
     "output_type": "execute_result"
    }
   ],
   "source": [
    "def part1(grid: list[list[str]]) -> int:\n",
    "    \"\"\"\n",
    "    Finding longest possible path from top to bottom.\n",
    "    \"\"\"\n",
    "    # using (y,x) coords with top left 0,0 s.t. access grid[y][x]\n",
    "    sy, sx = (0, grid[0].index(\".\"))\n",
    "    ending_pos = (len(grid) - 1, grid[-1].index(\".\"))\n",
    "    # both input and example have these in (0, 1) and (-1, -2) but this generalises I suppose!\n",
    "\n",
    "    # (steps, y, x, pathID)\n",
    "    # initially no steps, at the starting position\n",
    "    initial_pathID = 1\n",
    "    # initial = (1e10, sy, sx, initial_pathID)\n",
    "    initial = (-1, sy, sx, initial_pathID)\n",
    "\n",
    "    paths = [initial]\n",
    "    been_there = {\n",
    "        (sy, sx): {initial_pathID}\n",
    "    }\n",
    "\n",
    "    answers = set()\n",
    "    used_IDs = {1}\n",
    "\n",
    "    while paths:\n",
    "        steps, y, x, path_id = paths.pop()\n",
    "\n",
    "        steps += 1\n",
    "\n",
    "        if (y, x) == ending_pos:\n",
    "            answers.add(abs(steps))\n",
    "\n",
    "        if grid[y][x] == \".\":\n",
    "            # any valid direction\n",
    "            first = True\n",
    "            base_path_id = path_id\n",
    "            for dy, dx in ((1, 0), (-1, 0), (0, 1), (0, -1)):\n",
    "                ny = y + dy\n",
    "                nx = x + dx\n",
    "                if (0 <= ny <= len(grid) - 1) and (0 <= nx <= len(grid[0]) - 1) and path_id not in (been_value := been_there.get((ny, nx), set())):\n",
    "                    if grid[ny][nx] != \"#\":\n",
    "                        new_path_id = path_id\n",
    "                        if first:\n",
    "                            first = False\n",
    "                            base_path_new_to_ignore = (ny, nx)\n",
    "                        else:\n",
    "                            # messy way of getting new paths onto new unique ids\n",
    "                            while True:\n",
    "                                new_path_id = new_path_id + 1\n",
    "                                if new_path_id not in used_IDs:\n",
    "                                    used_IDs.add(new_path_id)\n",
    "                                    break\n",
    "                            update_been_there_dict(been_there, base_path_id, new_path_id, base_path_new_to_ignore)\n",
    "                        # we move\n",
    "                        paths.append((steps, ny, nx, new_path_id))\n",
    "                        been_value.add(new_path_id)\n",
    "                        been_there[(ny, nx)] = been_value\n",
    "            continue\n",
    "\n",
    "        if grid[y][x] == \">\":\n",
    "            # go right\n",
    "            ny = y + 0\n",
    "            nx = x + 1\n",
    "        elif grid[y][x] == \"v\":\n",
    "            # go down\n",
    "            ny = y + 1\n",
    "            nx = x + 0\n",
    "        elif grid[y][x] == \"<\":\n",
    "            # go left  -  also never happens in my input\n",
    "            ny = y + 0\n",
    "            nx = x - 1\n",
    "        elif grid[y][x] == \"^\":\n",
    "            # go up  -  never happens in my input\n",
    "            ny = y - 1\n",
    "            nx = x + 0\n",
    "        else:\n",
    "            raise RuntimeError(\"Invalid tile!\")\n",
    "        \n",
    "        if grid[ny][nx] != \"#\" and path_id not in (been_value := been_there.get((ny, nx), set())):\n",
    "            paths.append((steps, ny, nx, path_id))\n",
    "            been_value.add(path_id)\n",
    "            been_there[(ny, nx)] = been_value\n",
    "\n",
    "    return max(answers)\n",
    "\n",
    "assert part1(example_grid) == 94\n",
    "part1(input_grid)  # a little slow but we're ok with it"
   ]
  },
  {
   "attachments": {},
   "cell_type": "markdown",
   "metadata": {},
   "source": [
    "**Part 2: The same without steep slopes**"
   ]
  },
  {
   "cell_type": "code",
   "execution_count": 17,
   "metadata": {},
   "outputs": [
    {
     "name": "stdout",
     "output_type": "stream",
     "text": [
      "New one! answer=154\n",
      "paths size 184\n",
      "New one! answer=5102\n",
      "paths size 472\n",
      "New one! answer=5294\n",
      "paths size 472\n",
      "New one! answer=5494\n",
      "paths size 472\n",
      "New one! answer=5522\n",
      "paths size 472\n",
      "New one! answer=5602\n",
      "paths size 472\n",
      "New one! answer=5762\n",
      "paths size 472\n",
      "New one! answer=5842\n",
      "paths size 472\n",
      "New one! answer=5990\n",
      "paths size 472\n",
      "New one! answer=6014\n",
      "paths size 472\n",
      "New one! answer=6034\n",
      "paths size 472\n",
      "New one! answer=6102\n",
      "paths size 472\n",
      "New one! answer=6146\n",
      "paths size 472\n",
      "New one! answer=6162\n",
      "paths size 472\n",
      "New one! answer=6166\n",
      "paths size 472\n",
      "New one! answer=6222\n",
      "paths size 472\n",
      "New one! answer=6226\n",
      "paths size 408\n"
     ]
    },
    {
     "ename": "KeyboardInterrupt",
     "evalue": "",
     "output_type": "error",
     "traceback": [
      "\u001b[1;31m---------------------------------------------------------------------------\u001b[0m",
      "\u001b[1;31mKeyboardInterrupt\u001b[0m                         Traceback (most recent call last)",
      "Cell \u001b[1;32mIn[17], line 59\u001b[0m\n\u001b[0;32m     56\u001b[0m     \u001b[39mreturn\u001b[39;00m answer\n\u001b[0;32m     58\u001b[0m \u001b[39massert\u001b[39;00m part2(example_grid) \u001b[39m==\u001b[39m \u001b[39m154\u001b[39m\n\u001b[1;32m---> 59\u001b[0m part2(input_grid) \u001b[39m# 6222 not right (i think too small)\u001b[39;00m\n",
      "Cell \u001b[1;32mIn[17], line 51\u001b[0m, in \u001b[0;36mpart2\u001b[1;34m(grid)\u001b[0m\n\u001b[0;32m     49\u001b[0m     first \u001b[39m=\u001b[39m \u001b[39mFalse\u001b[39;00m\n\u001b[0;32m     50\u001b[0m \u001b[39melse\u001b[39;00m:\n\u001b[1;32m---> 51\u001b[0m     new_seen \u001b[39m=\u001b[39m deepcopy(seen)\n\u001b[0;32m     52\u001b[0m     seen\u001b[39m.\u001b[39madd((ny, nx))\n\u001b[0;32m     53\u001b[0m     \u001b[39m# we move\u001b[39;00m\n",
      "File \u001b[1;32mc:\\Users\\adiplock\\AppData\\Local\\mambaforge\\envs\\misc-practice\\Lib\\copy.py:172\u001b[0m, in \u001b[0;36mdeepcopy\u001b[1;34m(x, memo, _nil)\u001b[0m\n\u001b[0;32m    170\u001b[0m                 y \u001b[39m=\u001b[39m x\n\u001b[0;32m    171\u001b[0m             \u001b[39melse\u001b[39;00m:\n\u001b[1;32m--> 172\u001b[0m                 y \u001b[39m=\u001b[39m _reconstruct(x, memo, \u001b[39m*\u001b[39;49mrv)\n\u001b[0;32m    174\u001b[0m \u001b[39m# If is its own copy, don't memoize.\u001b[39;00m\n\u001b[0;32m    175\u001b[0m \u001b[39mif\u001b[39;00m y \u001b[39mis\u001b[39;00m \u001b[39mnot\u001b[39;00m x:\n",
      "File \u001b[1;32mc:\\Users\\adiplock\\AppData\\Local\\mambaforge\\envs\\misc-practice\\Lib\\copy.py:265\u001b[0m, in \u001b[0;36m_reconstruct\u001b[1;34m(x, memo, func, args, state, listiter, dictiter, deepcopy)\u001b[0m\n\u001b[0;32m    263\u001b[0m \u001b[39mif\u001b[39;00m deep \u001b[39mand\u001b[39;00m args:\n\u001b[0;32m    264\u001b[0m     args \u001b[39m=\u001b[39m (deepcopy(arg, memo) \u001b[39mfor\u001b[39;00m arg \u001b[39min\u001b[39;00m args)\n\u001b[1;32m--> 265\u001b[0m y \u001b[39m=\u001b[39m func(\u001b[39m*\u001b[39;49margs)\n\u001b[0;32m    266\u001b[0m \u001b[39mif\u001b[39;00m deep:\n\u001b[0;32m    267\u001b[0m     memo[\u001b[39mid\u001b[39m(x)] \u001b[39m=\u001b[39m y\n",
      "File \u001b[1;32mc:\\Users\\adiplock\\AppData\\Local\\mambaforge\\envs\\misc-practice\\Lib\\copy.py:264\u001b[0m, in \u001b[0;36m<genexpr>\u001b[1;34m(.0)\u001b[0m\n\u001b[0;32m    262\u001b[0m deep \u001b[39m=\u001b[39m memo \u001b[39mis\u001b[39;00m \u001b[39mnot\u001b[39;00m \u001b[39mNone\u001b[39;00m\n\u001b[0;32m    263\u001b[0m \u001b[39mif\u001b[39;00m deep \u001b[39mand\u001b[39;00m args:\n\u001b[1;32m--> 264\u001b[0m     args \u001b[39m=\u001b[39m (deepcopy(arg, memo) \u001b[39mfor\u001b[39;00m arg \u001b[39min\u001b[39;00m args)\n\u001b[0;32m    265\u001b[0m y \u001b[39m=\u001b[39m func(\u001b[39m*\u001b[39margs)\n\u001b[0;32m    266\u001b[0m \u001b[39mif\u001b[39;00m deep:\n",
      "File \u001b[1;32mc:\\Users\\adiplock\\AppData\\Local\\mambaforge\\envs\\misc-practice\\Lib\\copy.py:146\u001b[0m, in \u001b[0;36mdeepcopy\u001b[1;34m(x, memo, _nil)\u001b[0m\n\u001b[0;32m    144\u001b[0m copier \u001b[39m=\u001b[39m _deepcopy_dispatch\u001b[39m.\u001b[39mget(\u001b[39mcls\u001b[39m)\n\u001b[0;32m    145\u001b[0m \u001b[39mif\u001b[39;00m copier \u001b[39mis\u001b[39;00m \u001b[39mnot\u001b[39;00m \u001b[39mNone\u001b[39;00m:\n\u001b[1;32m--> 146\u001b[0m     y \u001b[39m=\u001b[39m copier(x, memo)\n\u001b[0;32m    147\u001b[0m \u001b[39melse\u001b[39;00m:\n\u001b[0;32m    148\u001b[0m     \u001b[39mif\u001b[39;00m \u001b[39missubclass\u001b[39m(\u001b[39mcls\u001b[39m, \u001b[39mtype\u001b[39m):\n",
      "File \u001b[1;32mc:\\Users\\adiplock\\AppData\\Local\\mambaforge\\envs\\misc-practice\\Lib\\copy.py:206\u001b[0m, in \u001b[0;36m_deepcopy_list\u001b[1;34m(x, memo, deepcopy)\u001b[0m\n\u001b[0;32m    204\u001b[0m append \u001b[39m=\u001b[39m y\u001b[39m.\u001b[39mappend\n\u001b[0;32m    205\u001b[0m \u001b[39mfor\u001b[39;00m a \u001b[39min\u001b[39;00m x:\n\u001b[1;32m--> 206\u001b[0m     append(deepcopy(a, memo))\n\u001b[0;32m    207\u001b[0m \u001b[39mreturn\u001b[39;00m y\n",
      "File \u001b[1;32mc:\\Users\\adiplock\\AppData\\Local\\mambaforge\\envs\\misc-practice\\Lib\\copy.py:144\u001b[0m, in \u001b[0;36mdeepcopy\u001b[1;34m(x, memo, _nil)\u001b[0m\n\u001b[0;32m    140\u001b[0m     \u001b[39mreturn\u001b[39;00m y\n\u001b[0;32m    142\u001b[0m \u001b[39mcls\u001b[39m \u001b[39m=\u001b[39m \u001b[39mtype\u001b[39m(x)\n\u001b[1;32m--> 144\u001b[0m copier \u001b[39m=\u001b[39m _deepcopy_dispatch\u001b[39m.\u001b[39mget(\u001b[39mcls\u001b[39m)\n\u001b[0;32m    145\u001b[0m \u001b[39mif\u001b[39;00m copier \u001b[39mis\u001b[39;00m \u001b[39mnot\u001b[39;00m \u001b[39mNone\u001b[39;00m:\n\u001b[0;32m    146\u001b[0m     y \u001b[39m=\u001b[39m copier(x, memo)\n",
      "\u001b[1;31mKeyboardInterrupt\u001b[0m: "
     ]
    }
   ],
   "source": [
    "import sys\n",
    "from copy import deepcopy\n",
    "def part2(grid: list[list[str]]) -> int:\n",
    "    \"\"\"\n",
    "    Finding longest possible path from top to bottom. But now it's more complicated bc no steep sloped (higher complexity!)\n",
    "    \"\"\"\n",
    "    # using (y,x) coords with top left 0,0 s.t. access grid[y][x]\n",
    "    sy, sx = (0, grid[0].index(\".\"))\n",
    "    ending_pos = (len(grid) - 1, grid[-1].index(\".\"))\n",
    "\n",
    "    # (steps, y, x, pathID)\n",
    "    # initially no steps, at the starting position\n",
    "    # initial = (1e10, sy, sx, SEEN)\n",
    "    initial = (-1, sy, sx, set((sy, sx)))\n",
    "\n",
    "    paths = [initial]\n",
    "\n",
    "    answer = 0\n",
    "\n",
    "    while paths:\n",
    "        current = paths.pop()\n",
    "        current_path = [current]\n",
    "        while current_path:\n",
    "            steps, y, x, seen = current_path.pop()\n",
    "            steps += 1\n",
    "            assert isinstance(seen, set)\n",
    "\n",
    "            if (y, x) == ending_pos:\n",
    "                prev_print = answer\n",
    "                answer = max(answer, steps)\n",
    "                if answer != prev_print:\n",
    "                    print(f\"New one! {answer=}\")\n",
    "                    print(\"paths size\", sys.getsizeof(paths))\n",
    "                current_path = []\n",
    "                break\n",
    "\n",
    "            # any valid direction\n",
    "            first = True\n",
    "            for dy, dx in ((1, 0), (-1, 0), (0, 1), (0, -1)):\n",
    "                ny = y + dy\n",
    "                nx = x + dx\n",
    "                if (0 <= ny <= len(grid) - 1) and (0 <= nx <= len(grid[0]) - 1) and (ny, nx) not in seen:\n",
    "                    if grid[ny][nx] != \"#\":\n",
    "                        if first:\n",
    "                            seen.add((ny, nx))\n",
    "                            current_path.append(\n",
    "                                (steps, ny, nx, seen)\n",
    "                            )\n",
    "                            first = False\n",
    "                        else:\n",
    "                            new_seen = deepcopy(seen)\n",
    "                            seen.add((ny, nx))\n",
    "                            # we move\n",
    "                            paths.append((steps, ny, nx, new_seen))\n",
    "\n",
    "    return answer\n",
    "\n",
    "assert part2(example_grid) == 154\n",
    "part2(input_grid) # 6226 was correct ! After 900 minutes you too could maybe get an answer !"
   ]
  },
  {
   "attachments": {},
   "cell_type": "markdown",
   "metadata": {},
   "source": [
    "Well after 900 minutes or so the brute force prevailed by printing the right answer (despite not actually finishing running!)... very amusing"
   ]
  },
  {
   "cell_type": "code",
   "execution_count": 38,
   "metadata": {},
   "outputs": [
    {
     "data": {
      "text/plain": [
       "6226"
      ]
     },
     "execution_count": 38,
     "metadata": {},
     "output_type": "execute_result"
    }
   ],
   "source": [
    "# Here now I've somehow got to the answer sort of legitimately, I'm going to try and implement HyperNeutrino's graph theory solution alongside the video :)\n",
    "\n",
    "def hyperneutrino_part2(grid: list[list[str]]) -> int:\n",
    "    # nothing too fancy, but uses edge contraction so just connect the relevant points (as we have a known distance between the points where a 'decision' is made)\n",
    "    # and then similarly brute force it, but it's far less complicated\n",
    "\n",
    "    starting_pos = (0, grid[0].index(\".\"))\n",
    "    ending_pos = (len(grid) - 1, grid[-1].index(\".\"))\n",
    "\n",
    "    points_of_interest = [starting_pos, ending_pos]\n",
    "\n",
    "    for r, row in enumerate(grid):\n",
    "        for c, ch in enumerate(row):\n",
    "            if ch == \"#\":\n",
    "                continue\n",
    "            neighbours = 0\n",
    "            # find out the decision points, i.e. where we dont pass straight through and can make a decision\n",
    "            for nr, nc in [(r - 1, c), (r + 1, c), (r, c - 1), (r, c + 1)]:\n",
    "                if 0 <= nr < len(grid) and 0 <= nc < len(grid[0]) and grid[nr][nc] != \"#\":\n",
    "                    neighbours += 1\n",
    "                \n",
    "            if neighbours >= 3:\n",
    "                points_of_interest.append((r, c))\n",
    "    \n",
    "    # build our graph, noting which points are connected to which and the distance between them\n",
    "    graph = {pt: {} for pt in points_of_interest}\n",
    "\n",
    "    for sr, sc in points_of_interest:\n",
    "        stack = [(0, sr, sc)]\n",
    "        seen = {(sr, sc)}\n",
    "\n",
    "        while stack:\n",
    "            n, r, c = stack.pop()\n",
    "            \n",
    "            if (\n",
    "                n != 0  # starting posiition, dont want an edge to itself\n",
    "                and (r, c) in points_of_interest\n",
    "            ):\n",
    "                graph[(sr, sc)][(r, c)] = n  # says graph has a distance from (sr, sc) to (r, c) of n\n",
    "                continue\n",
    "\n",
    "            for dr, dc in [(-1, 0), (1, 0), (0, 1), (0, -1)]:\n",
    "                nr = r + dr\n",
    "                nc = c + dc\n",
    "                if 0 <= nr < len(grid) and 0 <= nc < len(grid[0]) and grid[nr][nc] != \"#\" and (nr, nc) not in seen:\n",
    "                    stack.append((n + 1, nr, nc))\n",
    "                    seen.add((r, c))\n",
    "                    # essentially we're incrememnting here until we reach a point of interest then that is added and we move on\n",
    "\n",
    "    seen = set()\n",
    "    def differences(point: tuple[int, int]):\n",
    "        if point == ending_pos:\n",
    "            return 0  # travel length 0 to the end\n",
    "        \n",
    "        path_length = -float(\"inf\")  # if none of them find the end point we get -inf\n",
    "\n",
    "        seen.add(point)\n",
    "        for next_point in graph[point]:\n",
    "            if next_point not in seen:\n",
    "                # avoid cycles by not going back to seen\n",
    "                path_length = max(path_length, differences(next_point) + graph[point][next_point])\n",
    "                # keep trying to find distance to end and kind of sum the distance to the next point as we go, but always keeping the biggest distance we can travel each time\n",
    "        seen.remove(point)\n",
    "\n",
    "        return path_length\n",
    "\n",
    "    return differences(starting_pos)\n",
    "\n",
    "\n",
    "\n",
    "assert hyperneutrino_part2(example_grid) == 154\n",
    "hyperneutrino_part2(input_grid)"
   ]
  },
  {
   "attachments": {},
   "cell_type": "markdown",
   "metadata": {},
   "source": [
    "Pretty cool. 900 minutes down to a half a minute! Think I understand it but would've struggled to come up with that recursion myself. But the edge contraction was just sensible I should've done something like that then my own path finding solution."
   ]
  }
 ],
 "metadata": {
  "kernelspec": {
   "display_name": "misc-practice",
   "language": "python",
   "name": "python3"
  },
  "language_info": {
   "codemirror_mode": {
    "name": "ipython",
    "version": 3
   },
   "file_extension": ".py",
   "mimetype": "text/x-python",
   "name": "python",
   "nbconvert_exporter": "python",
   "pygments_lexer": "ipython3",
   "version": "3.11.0"
  },
  "orig_nbformat": 4
 },
 "nbformat": 4,
 "nbformat_minor": 2
}
