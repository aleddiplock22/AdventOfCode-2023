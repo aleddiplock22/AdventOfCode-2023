{
 "cells": [
  {
   "attachments": {},
   "cell_type": "markdown",
   "metadata": {},
   "source": [
    "## Day 23 - longest path down"
   ]
  },
  {
   "attachments": {},
   "cell_type": "markdown",
   "metadata": {},
   "source": [
    "**Part 1: Find longest path from single top row point to single bottom row point**\n",
    "\n",
    "- `>` etc. tiles means you have to go that direction no other choice (stepe slope)"
   ]
  },
  {
   "cell_type": "code",
   "execution_count": 3,
   "metadata": {},
   "outputs": [],
   "source": [
    "with open(\"./example.txt\") as f:\n",
    "    example_grid = [[*line.strip()] for line in f.readlines()]\n",
    "\n",
    "with open(\"./input.txt\") as f:\n",
    "    input_grid = [[*line.strip()] for line in f.readlines()]"
   ]
  },
  {
   "cell_type": "code",
   "execution_count": 4,
   "metadata": {},
   "outputs": [],
   "source": [
    "def update_been_there_dict(been_there: dict[tuple, set], old_id: int, new_id: int, base_path_new_to_ignore: tuple[int, int]):\n",
    "    for k, v in been_there.items():\n",
    "        if k == base_path_new_to_ignore:\n",
    "            continue\n",
    "        if old_id in v:\n",
    "            been_there[k].add(new_id)"
   ]
  },
  {
   "cell_type": "code",
   "execution_count": 5,
   "metadata": {},
   "outputs": [
    {
     "data": {
      "text/plain": [
       "23"
      ]
     },
     "execution_count": 5,
     "metadata": {},
     "output_type": "execute_result"
    }
   ],
   "source": [
    "len(example_grid[0])"
   ]
  },
  {
   "cell_type": "code",
   "execution_count": 6,
   "metadata": {},
   "outputs": [
    {
     "data": {
      "text/plain": [
       "2202"
      ]
     },
     "execution_count": 6,
     "metadata": {},
     "output_type": "execute_result"
    }
   ],
   "source": [
    "def part1(grid: list[list[str]]) -> int:\n",
    "    \"\"\"\n",
    "    Finding longest possible path from top to bottom.\n",
    "    \"\"\"\n",
    "    # using (y,x) coords with top left 0,0 s.t. access grid[y][x]\n",
    "    sy, sx = (0, grid[0].index(\".\"))\n",
    "    ending_pos = (len(grid) - 1, grid[-1].index(\".\"))\n",
    "    # both input and example have these in (0, 1) and (-1, -2) but this generalises I suppose!\n",
    "\n",
    "    # (steps, y, x, pathID)\n",
    "    # initially no steps, at the starting position\n",
    "    initial_pathID = 1\n",
    "    # initial = (1e10, sy, sx, initial_pathID)\n",
    "    initial = (-1, sy, sx, initial_pathID)\n",
    "\n",
    "    paths = [initial]\n",
    "    been_there = {\n",
    "        (sy, sx): {initial_pathID}\n",
    "    }\n",
    "\n",
    "    answers = set()\n",
    "    used_IDs = {1}\n",
    "\n",
    "    while paths:\n",
    "        steps, y, x, path_id = paths.pop()\n",
    "\n",
    "        steps += 1\n",
    "\n",
    "        if (y, x) == ending_pos:\n",
    "            answers.add(abs(steps))\n",
    "\n",
    "        if grid[y][x] == \".\":\n",
    "            # any valid direction\n",
    "            first = True\n",
    "            base_path_id = path_id\n",
    "            for dy, dx in ((1, 0), (-1, 0), (0, 1), (0, -1)):\n",
    "                ny = y + dy\n",
    "                nx = x + dx\n",
    "                if (0 <= ny <= len(grid) - 1) and (0 <= nx <= len(grid[0]) - 1) and path_id not in (been_value := been_there.get((ny, nx), set())):\n",
    "                    if grid[ny][nx] != \"#\":\n",
    "                        new_path_id = path_id\n",
    "                        if first:\n",
    "                            first = False\n",
    "                            base_path_new_to_ignore = (ny, nx)\n",
    "                        else:\n",
    "                            # messy way of getting new paths onto new unique ids\n",
    "                            while True:\n",
    "                                new_path_id = new_path_id + 1\n",
    "                                if new_path_id not in used_IDs:\n",
    "                                    used_IDs.add(new_path_id)\n",
    "                                    break\n",
    "                            update_been_there_dict(been_there, base_path_id, new_path_id, base_path_new_to_ignore)\n",
    "                        # we move\n",
    "                        paths.append((steps, ny, nx, new_path_id))\n",
    "                        been_value.add(new_path_id)\n",
    "                        been_there[(ny, nx)] = been_value\n",
    "            continue\n",
    "\n",
    "        if grid[y][x] == \">\":\n",
    "            # go right\n",
    "            ny = y + 0\n",
    "            nx = x + 1\n",
    "        elif grid[y][x] == \"v\":\n",
    "            # go down\n",
    "            ny = y + 1\n",
    "            nx = x + 0\n",
    "        elif grid[y][x] == \"<\":\n",
    "            # go left  -  also never happens in my input\n",
    "            ny = y + 0\n",
    "            nx = x - 1\n",
    "        elif grid[y][x] == \"^\":\n",
    "            # go up  -  never happens in my input\n",
    "            ny = y - 1\n",
    "            nx = x + 0\n",
    "        else:\n",
    "            raise RuntimeError(\"Invalid tile!\")\n",
    "        \n",
    "        if grid[ny][nx] != \"#\" and path_id not in (been_value := been_there.get((ny, nx), set())):\n",
    "            paths.append((steps, ny, nx, path_id))\n",
    "            been_value.add(path_id)\n",
    "            been_there[(ny, nx)] = been_value\n",
    "\n",
    "    return max(answers)\n",
    "\n",
    "assert part1(example_grid) == 94\n",
    "part1(input_grid)  # a little slow but we're ok with it"
   ]
  },
  {
   "attachments": {},
   "cell_type": "markdown",
   "metadata": {},
   "source": [
    "**Part 2: The same without steep slopes**"
   ]
  },
  {
   "cell_type": "code",
   "execution_count": 7,
   "metadata": {},
   "outputs": [],
   "source": [
    "def kill_irrelevant_ids(been_there: dict, dead_id):\n",
    "    for k, v in been_there.items():\n",
    "        if dead_id in v:\n",
    "            been_there[k].remove(dead_id)"
   ]
  },
  {
   "cell_type": "code",
   "execution_count": 14,
   "metadata": {},
   "outputs": [
    {
     "name": "stdout",
     "output_type": "stream",
     "text": [
      "New one! answer=154\n",
      "paths size 120\n",
      "been there size 4688\n",
      "New one! answer=5102\n",
      "paths size 472\n",
      "been there size 147544\n",
      "New one! answer=5294\n",
      "paths size 472\n",
      "been there size 294992\n",
      "New one! answer=5494\n",
      "paths size 472\n",
      "been there size 294992\n",
      "New one! answer=5522\n",
      "paths size 472\n",
      "been there size 294992\n",
      "New one! answer=5602\n",
      "paths size 472\n",
      "been there size 294992\n",
      "New one! answer=5762\n",
      "paths size 472\n",
      "been there size 294992\n",
      "New one! answer=5842\n",
      "paths size 472\n",
      "been there size 294992\n",
      "New one! answer=5990\n",
      "paths size 472\n",
      "been there size 294992\n",
      "New one! answer=6014\n",
      "paths size 472\n",
      "been there size 294992\n",
      "New one! answer=6034\n",
      "paths size 472\n",
      "been there size 294992\n"
     ]
    },
    {
     "ename": "KeyboardInterrupt",
     "evalue": "",
     "output_type": "error",
     "traceback": [
      "\u001b[1;31m---------------------------------------------------------------------------\u001b[0m",
      "\u001b[1;31mKeyboardInterrupt\u001b[0m                         Traceback (most recent call last)",
      "Cell \u001b[1;32mIn[14], line 75\u001b[0m\n\u001b[0;32m     72\u001b[0m     \u001b[39mreturn\u001b[39;00m answer\n\u001b[0;32m     74\u001b[0m \u001b[39massert\u001b[39;00m part2(example_grid) \u001b[39m==\u001b[39m \u001b[39m154\u001b[39m\n\u001b[1;32m---> 75\u001b[0m part2(input_grid) \u001b[39m# 6222 not right (i think too small)\u001b[39;00m\n",
      "Cell \u001b[1;32mIn[14], line 28\u001b[0m, in \u001b[0;36mpart2\u001b[1;34m(grid)\u001b[0m\n\u001b[0;32m     26\u001b[0m current_path \u001b[39m=\u001b[39m [current]\n\u001b[0;32m     27\u001b[0m \u001b[39mwhile\u001b[39;00m current_path:\n\u001b[1;32m---> 28\u001b[0m     steps, y, x, path_id \u001b[39m=\u001b[39m current_path\u001b[39m.\u001b[39mpop()\n\u001b[0;32m     29\u001b[0m     steps \u001b[39m+\u001b[39m\u001b[39m=\u001b[39m \u001b[39m1\u001b[39m\n\u001b[0;32m     31\u001b[0m     \u001b[39mif\u001b[39;00m (y, x) \u001b[39m==\u001b[39m ending_pos:\n",
      "\u001b[1;31mKeyboardInterrupt\u001b[0m: "
     ]
    }
   ],
   "source": [
    "import sys\n",
    "def part2(grid: list[list[str]]) -> int:\n",
    "    \"\"\"\n",
    "    Finding longest possible path from top to bottom. But now it's more complicated bc no steep sloped (higher complexity!)\n",
    "    \"\"\"\n",
    "    # using (y,x) coords with top left 0,0 s.t. access grid[y][x]\n",
    "    sy, sx = (0, grid[0].index(\".\"))\n",
    "    ending_pos = (len(grid) - 1, grid[-1].index(\".\"))\n",
    "\n",
    "    # (steps, y, x, pathID)\n",
    "    # initially no steps, at the starting position\n",
    "    initial_pathID = 1\n",
    "    # initial = (1e10, sy, sx, initial_pathID)\n",
    "    initial = (-1, sy, sx, initial_pathID)\n",
    "\n",
    "    paths = [initial]\n",
    "    been_there = {\n",
    "        (sy, sx): {initial_pathID}\n",
    "    }\n",
    "\n",
    "    answer = 0\n",
    "    used_IDs = {1}\n",
    "\n",
    "    while paths:\n",
    "        current = paths.pop()\n",
    "        current_path = [current]\n",
    "        while current_path:\n",
    "            steps, y, x, path_id = current_path.pop()\n",
    "            steps += 1\n",
    "\n",
    "            if (y, x) == ending_pos:\n",
    "                prev_print = answer\n",
    "                answer = max(answer, steps)\n",
    "                if answer != prev_print:\n",
    "                    print(f\"New one! {answer=}\")\n",
    "                    print(\"paths size\", sys.getsizeof(paths))\n",
    "                    print(\"been there size\", sys.getsizeof(been_there))\n",
    "                current_path = []\n",
    "                kill_irrelevant_ids(been_there, path_id)\n",
    "                break\n",
    "\n",
    "            # any valid direction\n",
    "            first = True\n",
    "            base_path_id = path_id\n",
    "            new_path_id = path_id\n",
    "            for dy, dx in ((1, 0), (-1, 0), (0, 1), (0, -1)):\n",
    "                ny = y + dy\n",
    "                nx = x + dx\n",
    "                if (0 <= ny <= len(grid) - 1) and (0 <= nx <= len(grid[0]) - 1) and path_id not in (been_value := been_there.get((ny, nx), set())):\n",
    "                    if grid[ny][nx] != \"#\":\n",
    "                        if first:\n",
    "                            current_path.append(\n",
    "                                (steps, ny, nx, new_path_id)\n",
    "                            )\n",
    "                            first = False\n",
    "                            been_value.add(new_path_id)\n",
    "                            been_there[(ny, nx)] = been_value\n",
    "                            base_path_new_to_ignore = (ny, nx)\n",
    "                        else:\n",
    "                            # messy way of getting new paths onto new unique ids\n",
    "                            while True:\n",
    "                                new_path_id = new_path_id + 1\n",
    "                                if new_path_id not in used_IDs:\n",
    "                                    used_IDs.add(new_path_id)\n",
    "                                    break\n",
    "                            update_been_there_dict(been_there, base_path_id, new_path_id, base_path_new_to_ignore)\n",
    "                            # we move\n",
    "                            paths.append((steps, ny, nx, new_path_id))\n",
    "                            been_value.add(new_path_id)\n",
    "                            been_there[(ny, nx)] = been_value\n",
    "\n",
    "    return answer\n",
    "\n",
    "assert part2(example_grid) == 154\n",
    "part2(input_grid) # 6222 not right (i think too small)"
   ]
  }
 ],
 "metadata": {
  "kernelspec": {
   "display_name": "misc-practice",
   "language": "python",
   "name": "python3"
  },
  "language_info": {
   "codemirror_mode": {
    "name": "ipython",
    "version": 3
   },
   "file_extension": ".py",
   "mimetype": "text/x-python",
   "name": "python",
   "nbconvert_exporter": "python",
   "pygments_lexer": "ipython3",
   "version": "3.11.0"
  },
  "orig_nbformat": 4
 },
 "nbformat": 4,
 "nbformat_minor": 2
}
