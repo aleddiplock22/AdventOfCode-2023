{
 "cells": [
  {
   "attachments": {},
   "cell_type": "markdown",
   "metadata": {},
   "source": [
    "## Day 18 - Lava pits"
   ]
  },
  {
   "attachments": {},
   "cell_type": "markdown",
   "metadata": {},
   "source": [
    "**Part 1: Just draw the lava pit based on instructions and say how much lava fit in it**"
   ]
  },
  {
   "cell_type": "code",
   "execution_count": 1,
   "metadata": {},
   "outputs": [
    {
     "data": {
      "text/plain": [
       "['R 6 (#70c710)',\n",
       " 'D 5 (#0dc571)',\n",
       " 'L 2 (#5713f0)',\n",
       " 'D 2 (#d2c081)',\n",
       " 'R 2 (#59c680)',\n",
       " 'D 2 (#411b91)',\n",
       " 'L 5 (#8ceee2)',\n",
       " 'U 2 (#caa173)',\n",
       " 'L 1 (#1b58a2)',\n",
       " 'U 2 (#caa171)',\n",
       " 'R 2 (#7807d2)',\n",
       " 'U 3 (#a77fa3)',\n",
       " 'L 2 (#015232)',\n",
       " 'U 2 (#7a21e3)']"
      ]
     },
     "execution_count": 1,
     "metadata": {},
     "output_type": "execute_result"
    }
   ],
   "source": [
    "with open(\"./example.txt\") as f:\n",
    "    example_lines = [line.strip() for line in f.readlines()]\n",
    "\n",
    "with open(\"./input.txt\") as f:\n",
    "    input_lines = [line.strip() for line in f.readlines()]\n",
    "\n",
    "example_lines"
   ]
  },
  {
   "cell_type": "code",
   "execution_count": 2,
   "metadata": {},
   "outputs": [],
   "source": [
    "import sys\n",
    "\n",
    "sys.setrecursionlimit(int(1e9))\n",
    "\n",
    "def flood_fill_recursive(y, x, grid: list[list[int]]):\n",
    "    border_x = len(grid[0]) - 1\n",
    "    border_y = len(grid) - 1\n",
    "\n",
    "    saw_along_the_journey = set()\n",
    "\n",
    "    some_dumb_list = []\n",
    "    def lets_try_to_escape(y, x, the_dumb_list: list):\n",
    "        \"\"\"\n",
    "        Using flood_fill idea to define if we can escape the grid?\n",
    "        \"\"\"\n",
    "        \n",
    "        if not (0 < y < border_y and 0 < x < border_x):\n",
    "            # hit an edge!\n",
    "            # tried to use a global bool here but was messing up\n",
    "            if not grid[y][x]:\n",
    "                the_dumb_list.append(True)\n",
    "                return\n",
    "        else:\n",
    "            saw_along_the_journey.add((y, x))\n",
    "\n",
    "        if (next_y:= y+1, next_x:= x) not in saw_along_the_journey:\n",
    "            if not grid[next_y][next_x]:\n",
    "                lets_try_to_escape(next_y, next_x, the_dumb_list)\n",
    "        if (next_y:= y-1, next_x:= x) not in saw_along_the_journey:\n",
    "            if not grid[next_y][next_x]:\n",
    "                lets_try_to_escape(next_y, next_x, the_dumb_list)\n",
    "        if (next_y:= y, next_x:= x+1) not in saw_along_the_journey:\n",
    "            if not grid[next_y][next_x]:\n",
    "                lets_try_to_escape(next_y, next_x, the_dumb_list)\n",
    "        if (next_y:= y, next_x:= x-1) not in saw_along_the_journey:\n",
    "            if not grid[next_y][next_x]:\n",
    "                lets_try_to_escape(next_y, next_x, the_dumb_list)\n",
    "    \n",
    "    lets_try_to_escape(y, x, some_dumb_list)\n",
    "\n",
    "    if True in some_dumb_list:\n",
    "        return True, saw_along_the_journey\n",
    "    else:\n",
    "        return False, saw_along_the_journey"
   ]
  },
  {
   "cell_type": "code",
   "execution_count": 3,
   "metadata": {},
   "outputs": [],
   "source": [
    "def build_grid_from_trenches(trenches: list[tuple[int, int]]) -> list[list[int]]:\n",
    "    min_x = min(x for _,x in trenches)\n",
    "    min_y = min(y for y,_ in trenches)\n",
    "    max_x = max(x for _,x in trenches)\n",
    "    max_y = max(y for y,_ in trenches)\n",
    "\n",
    "    # Note: actual max index not like a python range upper bound\n",
    "    grid = [[0 for _ in range(min_x, max_x+1)] for _ in range(min_y, max_y+1)]\n",
    "    for ty, tx in trenches:\n",
    "        # we should shift our grid so it starts at (0,0) else everything else I've been doing bloody breaks obviously!\n",
    "        grid[ty+abs(min_y)][tx+abs(min_x)] = 1\n",
    "\n",
    "    return grid"
   ]
  },
  {
   "cell_type": "code",
   "execution_count": 4,
   "metadata": {},
   "outputs": [
    {
     "data": {
      "text/plain": [
       "45159"
      ]
     },
     "execution_count": 4,
     "metadata": {},
     "output_type": "execute_result"
    }
   ],
   "source": [
    "def part1(lines: list[str]) -> int:\n",
    "    starting_position = (0,0)\n",
    "    trenches = [starting_position]\n",
    "    current_position = starting_position\n",
    "    for line in lines:\n",
    "        direction, dist, _ = line.split()  # Colour not used at least in part1\n",
    "        dist = int(dist)\n",
    "        current_y, current_x = current_position\n",
    "        for _ in range(1, dist+1):\n",
    "            if direction == \"R\":\n",
    "                current_x += 1\n",
    "            elif direction == \"L\":\n",
    "                current_x -= 1\n",
    "            elif direction == \"U\":\n",
    "                current_y -= 1\n",
    "            elif direction == \"D\":\n",
    "                current_y += 1\n",
    "\n",
    "            current_position = (current_y, current_x)\n",
    "            trenches.append(current_position)\n",
    "\n",
    "    grid = build_grid_from_trenches(trenches)\n",
    "\n",
    "    non_borders_to_check = [\n",
    "        (y,x)\n",
    "        for y in range(len(grid))\n",
    "        for x in range(len(grid[0]))\n",
    "        if grid[y][x] != 1\n",
    "    ]\n",
    "\n",
    "    assert len(grid[0])*len(grid) == len(set(trenches)) + len(non_borders_to_check)\n",
    "\n",
    "    while non_borders_to_check:\n",
    "        y, x = non_borders_to_check.pop()\n",
    "        escaped, saw_along_the_journey = flood_fill_recursive(y, x, grid)\n",
    "        non_borders_to_check = [item for item in non_borders_to_check if item not in saw_along_the_journey]\n",
    "        if not escaped:\n",
    "            for saw_y, saw_x in saw_along_the_journey:\n",
    "                grid[saw_y][saw_x] = 1\n",
    "\n",
    "    flattened_grid = []\n",
    "    for row in grid:\n",
    "        flattened_grid.extend(row)\n",
    "\n",
    "    return flattened_grid.count(1)\n",
    "\n",
    "assert part1(example_lines) == 62\n",
    "part1(input_lines)"
   ]
  },
  {
   "attachments": {},
   "cell_type": "markdown",
   "metadata": {},
   "source": [
    "omg I did it"
   ]
  },
  {
   "attachments": {},
   "cell_type": "markdown",
   "metadata": {},
   "source": [
    "**Part 2: ...**"
   ]
  }
 ],
 "metadata": {
  "kernelspec": {
   "display_name": "misc-practice",
   "language": "python",
   "name": "python3"
  },
  "language_info": {
   "codemirror_mode": {
    "name": "ipython",
    "version": 3
   },
   "file_extension": ".py",
   "mimetype": "text/x-python",
   "name": "python",
   "nbconvert_exporter": "python",
   "pygments_lexer": "ipython3",
   "version": "3.11.0"
  },
  "orig_nbformat": 4
 },
 "nbformat": 4,
 "nbformat_minor": 2
}
