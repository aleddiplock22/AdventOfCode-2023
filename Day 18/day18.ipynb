{
 "cells": [
  {
   "attachments": {},
   "cell_type": "markdown",
   "metadata": {},
   "source": [
    "## Day 18 - Lava pits"
   ]
  },
  {
   "attachments": {},
   "cell_type": "markdown",
   "metadata": {},
   "source": [
    "**Part 1: Just draw the lava pit based on instructions and say how much lava fit in it**"
   ]
  },
  {
   "cell_type": "code",
   "execution_count": 58,
   "metadata": {},
   "outputs": [
    {
     "data": {
      "text/plain": [
       "['R 6 (#70c710)',\n",
       " 'D 5 (#0dc571)',\n",
       " 'L 2 (#5713f0)',\n",
       " 'D 2 (#d2c081)',\n",
       " 'R 2 (#59c680)',\n",
       " 'D 2 (#411b91)',\n",
       " 'L 5 (#8ceee2)',\n",
       " 'U 2 (#caa173)',\n",
       " 'L 1 (#1b58a2)',\n",
       " 'U 2 (#caa171)',\n",
       " 'R 2 (#7807d2)',\n",
       " 'U 3 (#a77fa3)',\n",
       " 'L 2 (#015232)',\n",
       " 'U 2 (#7a21e3)']"
      ]
     },
     "execution_count": 58,
     "metadata": {},
     "output_type": "execute_result"
    }
   ],
   "source": [
    "with open(\"./example.txt\") as f:\n",
    "    example_lines = [line.strip() for line in f.readlines()]\n",
    "\n",
    "with open(\"./input.txt\") as f:\n",
    "    input_lines = [line.strip() for line in f.readlines()]\n",
    "\n",
    "example_lines"
   ]
  },
  {
   "cell_type": "code",
   "execution_count": 59,
   "metadata": {},
   "outputs": [],
   "source": [
    "import sys\n",
    "\n",
    "sys.setrecursionlimit(int(1e9))\n",
    "\n",
    "def flood_fill_recursive(y, x, grid: list[list[int]]):\n",
    "    border_x = len(grid[0]) - 1\n",
    "    border_y = len(grid) - 1\n",
    "\n",
    "    saw_along_the_journey = set()\n",
    "\n",
    "    some_dumb_list = []\n",
    "    def lets_try_to_escape(y, x, the_dumb_list: list):\n",
    "        \"\"\"\n",
    "        Using flood_fill idea to define if we can escape the grid?\n",
    "        \"\"\"\n",
    "        \n",
    "        if not (0 < y < border_y and 0 < x < border_x):\n",
    "            # hit an edge!\n",
    "            # tried to use a global bool here but was messing up\n",
    "            if not grid[y][x]:\n",
    "                the_dumb_list.append(True)\n",
    "                return\n",
    "        else:\n",
    "            saw_along_the_journey.add((y, x))\n",
    "\n",
    "        if (next_y:= y+1, next_x:= x) not in saw_along_the_journey:\n",
    "            if not grid[next_y][next_x]:\n",
    "                lets_try_to_escape(next_y, next_x, the_dumb_list)\n",
    "        if (next_y:= y-1, next_x:= x) not in saw_along_the_journey:\n",
    "            if not grid[next_y][next_x]:\n",
    "                lets_try_to_escape(next_y, next_x, the_dumb_list)\n",
    "        if (next_y:= y, next_x:= x+1) not in saw_along_the_journey:\n",
    "            if not grid[next_y][next_x]:\n",
    "                lets_try_to_escape(next_y, next_x, the_dumb_list)\n",
    "        if (next_y:= y, next_x:= x-1) not in saw_along_the_journey:\n",
    "            if not grid[next_y][next_x]:\n",
    "                lets_try_to_escape(next_y, next_x, the_dumb_list)\n",
    "    \n",
    "    lets_try_to_escape(y, x, some_dumb_list)\n",
    "\n",
    "    if True in some_dumb_list:\n",
    "        return True, saw_along_the_journey\n",
    "    else:\n",
    "        return False, saw_along_the_journey"
   ]
  },
  {
   "cell_type": "code",
   "execution_count": 60,
   "metadata": {},
   "outputs": [],
   "source": [
    "def build_grid_from_trenches(trenches: list[tuple[int, int]]) -> list[list[int]]:\n",
    "    min_x = min(x for _,x in trenches)\n",
    "    min_y = min(y for y,_ in trenches)\n",
    "    max_x = max(x for _,x in trenches)\n",
    "    max_y = max(y for y,_ in trenches)\n",
    "\n",
    "    # Note: actual max index not like a python range upper bound\n",
    "    grid = [[0 for _ in range(min_x, max_x+1)] for _ in range(min_y, max_y+1)]\n",
    "    for ty, tx in trenches:\n",
    "        # we should shift our grid so it starts at (0,0) else everything else I've been doing bloody breaks obviously!\n",
    "        grid[ty+abs(min_y)][tx+abs(min_x)] = 1\n",
    "\n",
    "    return grid"
   ]
  },
  {
   "cell_type": "code",
   "execution_count": 61,
   "metadata": {},
   "outputs": [
    {
     "data": {
      "text/plain": [
       "45159"
      ]
     },
     "execution_count": 61,
     "metadata": {},
     "output_type": "execute_result"
    }
   ],
   "source": [
    "def part1(lines: list[str]) -> int:\n",
    "    starting_position = (0,0)\n",
    "    trenches = [starting_position]\n",
    "    current_position = starting_position\n",
    "    for line in lines:\n",
    "        direction, dist, _ = line.split()  # Colour not used at least in part1\n",
    "        dist = int(dist)\n",
    "        current_y, current_x = current_position\n",
    "        for _ in range(1, dist+1):\n",
    "            if direction == \"R\":\n",
    "                current_x += 1\n",
    "            elif direction == \"L\":\n",
    "                current_x -= 1\n",
    "            elif direction == \"U\":\n",
    "                current_y -= 1\n",
    "            elif direction == \"D\":\n",
    "                current_y += 1\n",
    "\n",
    "            current_position = (current_y, current_x)\n",
    "            trenches.append(current_position)\n",
    "\n",
    "    grid = build_grid_from_trenches(trenches)\n",
    "\n",
    "    non_borders_to_check = [\n",
    "        (y,x)\n",
    "        for y in range(len(grid))\n",
    "        for x in range(len(grid[0]))\n",
    "        if grid[y][x] != 1\n",
    "    ]\n",
    "\n",
    "    assert len(grid[0])*len(grid) == len(set(trenches)) + len(non_borders_to_check)\n",
    "\n",
    "    while non_borders_to_check:\n",
    "        y, x = non_borders_to_check.pop()\n",
    "        escaped, saw_along_the_journey = flood_fill_recursive(y, x, grid)\n",
    "        non_borders_to_check = [item for item in non_borders_to_check if item not in saw_along_the_journey]\n",
    "        if not escaped:\n",
    "            for saw_y, saw_x in saw_along_the_journey:\n",
    "                grid[saw_y][saw_x] = 1\n",
    "\n",
    "    flattened_grid = []\n",
    "    for row in grid:\n",
    "        flattened_grid.extend(row)\n",
    "\n",
    "    return flattened_grid.count(1)\n",
    "\n",
    "assert part1(example_lines) == 62\n",
    "part1(input_lines)"
   ]
  },
  {
   "attachments": {},
   "cell_type": "markdown",
   "metadata": {},
   "source": [
    "omg I did it"
   ]
  },
  {
   "attachments": {},
   "cell_type": "markdown",
   "metadata": {},
   "source": [
    "**Part 2: hexadecimal nonsense**"
   ]
  },
  {
   "cell_type": "code",
   "execution_count": 62,
   "metadata": {},
   "outputs": [
    {
     "name": "stdout",
     "output_type": "stream",
     "text": [
      "[(0, 0), (461937, 0), (461937, -56407), (818608, -56407), (818608, -919647), (1186328, -919647), (1186328, -1186328), (609066, -1186328), (609066, -356353), (497056, -356353), (497056, -1186328), (5411, -1186328), (5411, -500254), (0, -500254), (0, 0)]\n"
     ]
    }
   ],
   "source": [
    "def get_corners(lines) -> list[tuple[int, int]]:\n",
    "    corners = [(0,0)]\n",
    "    for prev_idx, line in enumerate(lines):\n",
    "        _, _, colour = line.split()  # Colour not used at least in part1\n",
    "        hex_number = colour[2:7]\n",
    "        direction = int(colour[-2])\n",
    "        dist = int(hex_number, 16)\n",
    "\n",
    "        # directions:\n",
    "        # R = 0, D = 1, L = 2, U = 3\n",
    "        # changing to thinking (x,y) and UP is an actual increase in y, and DOWN is a decrease\n",
    "        # similarly RIGHT is an increase in x and LEFT is a decrease. So we're very much thinking of cartesian coordinates\n",
    "        if direction == 0:\n",
    "            corners.append(\n",
    "                (corners[prev_idx][0]+dist, corners[prev_idx][1])\n",
    "            )\n",
    "        elif direction == 1:\n",
    "            corners.append(\n",
    "                (corners[prev_idx][0], corners[prev_idx][1]-dist)\n",
    "            )\n",
    "        elif direction == 2:\n",
    "            corners.append(\n",
    "                (corners[prev_idx][0]-dist, corners[prev_idx][1])\n",
    "            )\n",
    "        elif direction == 3:\n",
    "            corners.append(\n",
    "                (corners[prev_idx][0], corners[prev_idx][1]+dist)\n",
    "            )\n",
    "    \n",
    "    # turns out dont need to make coordinates positive\n",
    "    # min_x = min(x for x,y in corners)\n",
    "    # min_y = min(y for x,y in corners)\n",
    "\n",
    "    assert corners[0] == corners[-1]\n",
    "\n",
    "    corners = [(x, y) for x,y in corners]\n",
    "\n",
    "    return corners\n",
    "\n",
    "corners = get_corners(example_lines)\n",
    "print(corners)"
   ]
  },
  {
   "cell_type": "code",
   "execution_count": 63,
   "metadata": {},
   "outputs": [
    {
     "data": {
      "text/plain": [
       "[<matplotlib.lines.Line2D at 0x1bb4ceec410>]"
      ]
     },
     "execution_count": 63,
     "metadata": {},
     "output_type": "execute_result"
    },
    {
     "data": {
      "image/png": "[encoded data removed]",
      "text/plain": [
       "<Figure size 640x480 with 1 Axes>"
      ]
     },
     "metadata": {},
     "output_type": "display_data"
    }
   ],
   "source": [
    "from matplotlib import pyplot as plt\n",
    "\n",
    "x_arr = [x for x,y in corners]\n",
    "y_arr = [y for x,y in corners]\n",
    "\n",
    "plt.plot(x_arr, y_arr, \"o\")\n",
    "plt.plot(x_arr, y_arr, \"-\")"
   ]
  },
  {
   "cell_type": "code",
   "execution_count": 64,
   "metadata": {},
   "outputs": [
    {
     "data": {
      "text/plain": [
       "952411346745.0"
      ]
     },
     "execution_count": 64,
     "metadata": {},
     "output_type": "execute_result"
    }
   ],
   "source": [
    "from math import sqrt\n",
    "\n",
    "def segments(p):\n",
    "    return zip(p, p[1:] + [p[0]])\n",
    "\n",
    "def area(corners):\n",
    "    # K=1/2|(x1y2–x2y1)+(x2y3–x3y2)+⋯+(xn−1yn–xnyn−1)+(xny1–x1yn)|.\n",
    "    corners = list(reversed(corners[:-1]))\n",
    "    return (\n",
    "        0.5 * abs(\n",
    "                    sum(x0*y1 - x1*y0\n",
    "                    for ((x0, y0), (x1, y1)) in segments(corners))\n",
    "        )\n",
    "    )\n",
    "\n",
    "def perimeter(corners):\n",
    "    running_sum = 0\n",
    "    for i in range(len(corners[:-1])):\n",
    "        if i == len(corners) - 1:\n",
    "            i_plus_one = 0\n",
    "        else:\n",
    "            i_plus_one = i + 1\n",
    "        \n",
    "        running_sum += sqrt((corners[i_plus_one][0] - corners[i][0])**2 + (corners[i_plus_one][1]-corners[i][1])**2)\n",
    "    \n",
    "    return running_sum\n",
    "\n",
    "area(corners) + perimeter(corners)"
   ]
  },
  {
   "cell_type": "code",
   "execution_count": 65,
   "metadata": {},
   "outputs": [
    {
     "ename": "AssertionError",
     "evalue": "952411346745.0",
     "output_type": "error",
     "traceback": [
      "\u001b[1;31m---------------------------------------------------------------------------\u001b[0m",
      "\u001b[1;31mAssertionError\u001b[0m                            Traceback (most recent call last)",
      "Cell \u001b[1;32mIn[65], line 14\u001b[0m\n\u001b[0;32m     10\u001b[0m     corners \u001b[39m=\u001b[39m get_corners(lines)\n\u001b[0;32m     11\u001b[0m     \u001b[39mreturn\u001b[39;00m area(corners) \u001b[39m+\u001b[39m perimeter(corners)\n\u001b[1;32m---> 14\u001b[0m \u001b[39massert\u001b[39;00m part2(example_lines) \u001b[39m==\u001b[39m \u001b[39m952408144115\u001b[39m, part2(example_lines)\n\u001b[0;32m     15\u001b[0m \u001b[39m# part2(input_lines)\u001b[39;00m\n",
      "\u001b[1;31mAssertionError\u001b[0m: 952411346745.0"
     ]
    }
   ],
   "source": [
    "def part2(lines: list[str]) -> int:\n",
    "    \"\"\"\n",
    "    Going to have to tackle this a very different way, can't be building the grid like before....!\n",
    "\n",
    "\n",
    "    idea: defining a shape, we have only straight edges, so if we just get all the \"corners\" from this input we have an outline of a shape\n",
    "\n",
    "    \"\"\"\n",
    "\n",
    "    corners = get_corners(lines)\n",
    "    return area(corners) + perimeter(corners)\n",
    "\n",
    "\n",
    "assert part2(example_lines) == 952408144115, part2(example_lines)\n",
    "# part2(input_lines)"
   ]
  }
 ],
 "metadata": {
  "kernelspec": {
   "display_name": "misc-practice",
   "language": "python",
   "name": "python3"
  },
  "language_info": {
   "codemirror_mode": {
    "name": "ipython",
    "version": 3
   },
   "file_extension": ".py",
   "mimetype": "text/x-python",
   "name": "python",
   "nbconvert_exporter": "python",
   "pygments_lexer": "ipython3",
   "version": "3.11.0"
  },
  "orig_nbformat": 4
 },
 "nbformat": 4,
 "nbformat_minor": 2
}
