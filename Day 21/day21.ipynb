{
 "cells": [
  {
   "attachments": {},
   "cell_type": "markdown",
   "metadata": {},
   "source": [
    "## Day 21 - Someone get this man to his flowers"
   ]
  },
  {
   "cell_type": "code",
   "execution_count": 25,
   "metadata": {},
   "outputs": [
    {
     "data": {
      "text/plain": [
       "['...........',\n",
       " '.....###.#.',\n",
       " '.###.##..#.',\n",
       " '..#.#...#..',\n",
       " '....#.#....',\n",
       " '.##..S####.',\n",
       " '.##..#...#.',\n",
       " '.......##..',\n",
       " '.##.#.####.',\n",
       " '.##..##.##.',\n",
       " '...........']"
      ]
     },
     "execution_count": 25,
     "metadata": {},
     "output_type": "execute_result"
    }
   ],
   "source": [
    "with open(\"./example.txt\") as f:\n",
    "    example_lines = [line.strip() for line in f.readlines()]\n",
    "\n",
    "with open(\"./input.txt\") as f:\n",
    "    input_lines = [line.strip() for line in f.readlines()]\n",
    "\n",
    "example_lines"
   ]
  },
  {
   "attachments": {},
   "cell_type": "markdown",
   "metadata": {},
   "source": [
    "**Part 1: How many flowerplots can he visit with a 64 step path?**"
   ]
  },
  {
   "cell_type": "code",
   "execution_count": 26,
   "metadata": {},
   "outputs": [
    {
     "data": {
      "text/plain": [
       "3660"
      ]
     },
     "execution_count": 26,
     "metadata": {},
     "output_type": "execute_result"
    }
   ],
   "source": [
    "from collections import deque\n",
    "from copy import deepcopy\n",
    "\n",
    "def part1(lines: list[str], num_steps: int = 64) -> int:\n",
    "    grid = [[*line] for line in lines]\n",
    "    \n",
    "    for r, row in enumerate(grid):\n",
    "        for c, col in enumerate(row):\n",
    "            if col == \".\":\n",
    "                grid[r][c] = 1\n",
    "            elif col == \"S\":\n",
    "                sr, sc  = (r, c)\n",
    "                grid[r][c] = 1\n",
    "            else:\n",
    "                assert col == \"#\", col\n",
    "                grid[r][c] = 0\n",
    "\n",
    "    # (step_count, r, c)\n",
    "    q = deque([(0, sr, sc)])\n",
    "    next_q = deque([])\n",
    "\n",
    "    seen = {(0, sr, sc)}\n",
    "    for _ in range(num_steps):\n",
    "        while q:\n",
    "            steps, r, c = q.popleft()\n",
    "            steps += 1\n",
    "\n",
    "            for dr, dc in [(0, 1), (0, -1), (1, 0), (-1,0)]:\n",
    "                nr = r + dr\n",
    "                nc = c + dc\n",
    "                if 0 <= nr < len(grid) and 0 <= nc < len(grid[0]):\n",
    "                    if grid[nr][nc] and (steps, nr, nc) not in seen:\n",
    "                        next = (steps, nr, nc)\n",
    "                        seen.add(next)\n",
    "                        next_q.append(next)\n",
    "        q = deepcopy(next_q)\n",
    "        next_q = deque([])\n",
    "    \n",
    "    unique_positions = {\n",
    "        (r, c) for (_, r, c) in q\n",
    "    }\n",
    "    return len(unique_positions)\n",
    "\n",
    "assert part1(example_lines, 6) == 16\n",
    "part1(input_lines)"
   ]
  },
  {
   "attachments": {},
   "cell_type": "markdown",
   "metadata": {},
   "source": [
    "**Part 2: ACtually the grid is infinite and we have to do 26501365 :)**"
   ]
  },
  {
   "cell_type": "code",
   "execution_count": 27,
   "metadata": {},
   "outputs": [
    {
     "data": {
      "text/plain": [
       "[<matplotlib.lines.Line2D at 0x2b30f0695d0>]"
      ]
     },
     "execution_count": 27,
     "metadata": {},
     "output_type": "execute_result"
    },
    {
     "data": {
      "image/png": "[encoded data removed]",
      "text/plain": [
       "<Figure size 640x480 with 1 Axes>"
      ]
     },
     "metadata": {},
     "output_type": "display_data"
    }
   ],
   "source": [
    "from matplotlib import pyplot\n",
    "\n",
    "pyplot.plot([6, 10, 50, 100, 500, 1000, 5000], [16, 50, 1594, 6536, 167004, 668697, 16733044], \"o\")\n",
    "\n",
    "pyplot.plot([6, 10, 50, 100, 500, 1000, 5000], [16, 50, 1594, 6536, 167004, 668697, 16733044], \"-\")"
   ]
  },
  {
   "attachments": {},
   "cell_type": "markdown",
   "metadata": {},
   "source": [
    "You get the feeling having a list of the possible plots or seen plots is not going to work lol"
   ]
  },
  {
   "attachments": {},
   "cell_type": "markdown",
   "metadata": {},
   "source": [
    "Idea: cache what happens on from being at a point in the grid.\n",
    "\n",
    "- So when we step into a 'new' grid, we're essentially wrapping around to the original but like it's a unique spot"
   ]
  },
  {
   "attachments": {},
   "cell_type": "markdown",
   "metadata": {},
   "source": [
    "Let's find all the patterns from each starting point in the grid maybe idk"
   ]
  },
  {
   "attachments": {},
   "cell_type": "markdown",
   "metadata": {},
   "source": [
    "maybe we could just go 'outwards' and note the fact you can just hop back and forth forever for each visited, so every single place visited except for the penultimate is added..."
   ]
  },
  {
   "cell_type": "code",
   "execution_count": 28,
   "metadata": {},
   "outputs": [
    {
     "data": {
      "text/plain": [
       "0"
      ]
     },
     "execution_count": 28,
     "metadata": {},
     "output_type": "execute_result"
    }
   ],
   "source": [
    "from heapq import heappush, heappop\n",
    "\n",
    "def part2(lines: list[str]) -> int:\n",
    "    grid = [[*line] for line in lines]\n",
    "    \n",
    "    for r, row in enumerate(grid):\n",
    "        for c, col in enumerate(row):\n",
    "            if col == \".\":\n",
    "                grid[r][c] = 1\n",
    "            elif col == \"S\":\n",
    "                sr, sc  = (r, c)\n",
    "                grid[r][c] = 1\n",
    "            else:\n",
    "                assert col == \"#\", col\n",
    "                grid[r][c] = 0\n",
    "\n",
    "\n",
    "    possible_outer_starts = [\n",
    "                        (r, c)\n",
    "                        for r, row in enumerate(grid)\n",
    "                        for c in range(len(row))\n",
    "                        if grid[r][c] and (r in [0, len(grid)-1] or c in [0, len(grid[0]) - 1])\n",
    "                    ]\n",
    "    \n",
    "    # steps_to_reach_outer_locs = {\n",
    "    #     loc: 0 for loc in possible_outer_starts\n",
    "    # }\n",
    "\n",
    "    gardens = tuple(\n",
    "        (r, c)\n",
    "        for r, row in enumerate(grid)\n",
    "        for c in range(len(row))\n",
    "        if grid[r][c]\n",
    "    )\n",
    "\n",
    "    steps_to_reach_gardens = {\n",
    "        loc: 0 for loc in gardens\n",
    "    }\n",
    "\n",
    "    def distance_to_target(r: int, c: int, rt: int, ct: int):\n",
    "        return abs(r-rt) + abs(c - ct)\n",
    "    \n",
    "    return 0\n",
    "    for tr, tc in gardens:\n",
    "        print(tr, tc)\n",
    "        initial_distance = distance_to_target(sr, sc, tr, tc)\n",
    "\n",
    "        # (distance, step_count, r, c)\n",
    "        q = [(initial_distance, 0, sr, sc)]\n",
    "\n",
    "        while False:\n",
    "            dist, steps, r, c = heappop(q)\n",
    "\n",
    "            if (r,c) == (tr, tc) and steps > 0:\n",
    "                steps_to_reach_gardens[(r,c)] = steps\n",
    "                break\n",
    "\n",
    "            steps += 1\n",
    "\n",
    "            for dr, dc in [(0, 1), (0, -1), (1, 0), (-1,0)]:\n",
    "                nr = r + dr\n",
    "                nc = c + dc\n",
    "                if 0 <= nr < len(grid) and 0 <= nc < len(grid[0]):\n",
    "                    if grid[nr][nc]:\n",
    "                        dist = distance_to_target(nr, nc, tr, tc)\n",
    "                        heappush(q, (dist, steps, nr, nc))\n",
    "    \n",
    "    return (steps_to_reach_gardens)\n",
    "\n",
    "\n",
    "\n",
    "\n",
    "part2(example_lines)"
   ]
  },
  {
   "attachments": {},
   "cell_type": "markdown",
   "metadata": {},
   "source": [
    "I give up, Neutrino's answer looks insane, as below. If I understand after vid maybe I'll try do myself but idk. Takes the pressure off finishing this year if I skip anyway"
   ]
  },
  {
   "cell_type": "code",
   "execution_count": 31,
   "metadata": {},
   "outputs": [],
   "source": [
    "grid = input_lines\n",
    "\n",
    "sr, sc = next((r, c) for r, row in enumerate(grid) for c, ch in enumerate(row) if ch == \"S\")\n",
    "\n",
    "assert len(grid) == len(grid[0])\n",
    "\n",
    "size = len(grid)\n",
    "steps = 26501365\n",
    "\n",
    "assert sr == sc == size // 2\n",
    "assert steps % size == size // 2\n",
    "\n",
    "def fill(sr, sc, ss):\n",
    "    ans = set()\n",
    "    seen = {(sr, sc)}\n",
    "    q = deque([(sr, sc, ss)])\n",
    "\n",
    "    while q:\n",
    "        r, c, s = q.popleft()\n",
    "\n",
    "        if s % 2 == 0:\n",
    "            ans.add((r, c))\n",
    "        if s == 0:\n",
    "            continue\n",
    "\n",
    "        for nr, nc in [(r + 1, c), (r - 1, c), (r, c + 1), (r, c - 1)]:\n",
    "            if nr < 0 or nr >= len(grid) or nc < 0 or nc >= len(grid[0]) or grid[nr][nc] == \"#\" or (nr, nc) in seen:\n",
    "                continue\n",
    "            seen.add((nr, nc))\n",
    "            q.append((nr, nc, s - 1))\n",
    "    \n",
    "    return len(ans)\n",
    "\n",
    "grid_width = steps // size - 1\n",
    "\n",
    "odd = (grid_width // 2 * 2 + 1) ** 2\n",
    "even = ((grid_width + 1) // 2 * 2) ** 2\n",
    "\n",
    "odd_points = fill(sr, sc, size * 2 + 1)\n",
    "even_points = fill(sr, sc, size * 2)\n",
    "\n",
    "corner_t = fill(size - 1, sc, size - 1)\n",
    "corner_r = fill(sr, 0, size - 1)\n",
    "corner_b = fill(0, sc, size - 1)\n",
    "corner_l = fill(sr, size - 1, size - 1)\n",
    "\n",
    "small_tr = fill(size - 1, 0, size // 2 - 1)\n",
    "small_tl = fill(size - 1, size - 1, size // 2 - 1)\n",
    "small_br = fill(0, 0, size // 2 - 1)\n",
    "small_bl = fill(0, size - 1, size // 2 - 1)\n",
    "\n",
    "large_tr = fill(size - 1, 0, size * 3 // 2 - 1)\n",
    "large_tl = fill(size - 1, size - 1, size * 3 // 2 - 1)\n",
    "large_br = fill(0, 0, size * 3 // 2 - 1)\n",
    "large_bl = fill(0, size - 1, size * 3 // 2 - 1)\n",
    "\n",
    "# print(\n",
    "#     odd * odd_points +\n",
    "#     even * even_points +\n",
    "#     corner_t + corner_r + corner_b + corner_l +\n",
    "#     (grid_width + 1) * (small_tr + small_tl + small_br + small_bl) +\n",
    "#     grid_width * (large_tr + large_tl + large_br + large_bl)\n",
    "# )"
   ]
  }
 ],
 "metadata": {
  "kernelspec": {
   "display_name": "misc-practice",
   "language": "python",
   "name": "python3"
  },
  "language_info": {
   "codemirror_mode": {
    "name": "ipython",
    "version": 3
   },
   "file_extension": ".py",
   "mimetype": "text/x-python",
   "name": "python",
   "nbconvert_exporter": "python",
   "pygments_lexer": "ipython3",
   "version": "3.11.0"
  },
  "orig_nbformat": 4
 },
 "nbformat": 4,
 "nbformat_minor": 2
}
